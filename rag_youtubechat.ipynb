{
  "nbformat": 4,
  "nbformat_minor": 0,
  "metadata": {
    "colab": {
      "provenance": [],
      "gpuType": "T4"
    },
    "kernelspec": {
      "name": "python3",
      "display_name": "Python 3"
    },
    "language_info": {
      "name": "python"
    },
    "accelerator": "GPU",
    "widgets": {
      "application/vnd.jupyter.widget-state+json": {
        "55d1481f4b004693b213e1a7a21c629e": {
          "model_module": "@jupyter-widgets/controls",
          "model_name": "HBoxModel",
          "model_module_version": "1.5.0",
          "state": {
            "_dom_classes": [],
            "_model_module": "@jupyter-widgets/controls",
            "_model_module_version": "1.5.0",
            "_model_name": "HBoxModel",
            "_view_count": null,
            "_view_module": "@jupyter-widgets/controls",
            "_view_module_version": "1.5.0",
            "_view_name": "HBoxView",
            "box_style": "",
            "children": [
              "IPY_MODEL_005541c014584a5da8ccfeff87ae6cb0",
              "IPY_MODEL_6dfe920eb40546d7ba9cac87beb4b869",
              "IPY_MODEL_c4bcb2f8e4de45229b8ef60d8caf572a"
            ],
            "layout": "IPY_MODEL_816df24870d14666863044ec6293c394"
          }
        },
        "005541c014584a5da8ccfeff87ae6cb0": {
          "model_module": "@jupyter-widgets/controls",
          "model_name": "HTMLModel",
          "model_module_version": "1.5.0",
          "state": {
            "_dom_classes": [],
            "_model_module": "@jupyter-widgets/controls",
            "_model_module_version": "1.5.0",
            "_model_name": "HTMLModel",
            "_view_count": null,
            "_view_module": "@jupyter-widgets/controls",
            "_view_module_version": "1.5.0",
            "_view_name": "HTMLView",
            "description": "",
            "description_tooltip": null,
            "layout": "IPY_MODEL_53c6511c4d874ffeb53542211485a411",
            "placeholder": "​",
            "style": "IPY_MODEL_677f3bd90a064687b7b83151d90e4cbd",
            "value": "modules.json: 100%"
          }
        },
        "6dfe920eb40546d7ba9cac87beb4b869": {
          "model_module": "@jupyter-widgets/controls",
          "model_name": "FloatProgressModel",
          "model_module_version": "1.5.0",
          "state": {
            "_dom_classes": [],
            "_model_module": "@jupyter-widgets/controls",
            "_model_module_version": "1.5.0",
            "_model_name": "FloatProgressModel",
            "_view_count": null,
            "_view_module": "@jupyter-widgets/controls",
            "_view_module_version": "1.5.0",
            "_view_name": "ProgressView",
            "bar_style": "success",
            "description": "",
            "description_tooltip": null,
            "layout": "IPY_MODEL_4ceefa8b2048470fb807c25bdee1f5ed",
            "max": 349,
            "min": 0,
            "orientation": "horizontal",
            "style": "IPY_MODEL_731de9eb057142f0b8ed8c7d71994c57",
            "value": 349
          }
        },
        "c4bcb2f8e4de45229b8ef60d8caf572a": {
          "model_module": "@jupyter-widgets/controls",
          "model_name": "HTMLModel",
          "model_module_version": "1.5.0",
          "state": {
            "_dom_classes": [],
            "_model_module": "@jupyter-widgets/controls",
            "_model_module_version": "1.5.0",
            "_model_name": "HTMLModel",
            "_view_count": null,
            "_view_module": "@jupyter-widgets/controls",
            "_view_module_version": "1.5.0",
            "_view_name": "HTMLView",
            "description": "",
            "description_tooltip": null,
            "layout": "IPY_MODEL_b988c699df454452bc0de06ad2e3c41c",
            "placeholder": "​",
            "style": "IPY_MODEL_087fdb1dd20f44529389f0b9a0e1268b",
            "value": " 349/349 [00:00&lt;00:00, 32.1kB/s]"
          }
        },
        "816df24870d14666863044ec6293c394": {
          "model_module": "@jupyter-widgets/base",
          "model_name": "LayoutModel",
          "model_module_version": "1.2.0",
          "state": {
            "_model_module": "@jupyter-widgets/base",
            "_model_module_version": "1.2.0",
            "_model_name": "LayoutModel",
            "_view_count": null,
            "_view_module": "@jupyter-widgets/base",
            "_view_module_version": "1.2.0",
            "_view_name": "LayoutView",
            "align_content": null,
            "align_items": null,
            "align_self": null,
            "border": null,
            "bottom": null,
            "display": null,
            "flex": null,
            "flex_flow": null,
            "grid_area": null,
            "grid_auto_columns": null,
            "grid_auto_flow": null,
            "grid_auto_rows": null,
            "grid_column": null,
            "grid_gap": null,
            "grid_row": null,
            "grid_template_areas": null,
            "grid_template_columns": null,
            "grid_template_rows": null,
            "height": null,
            "justify_content": null,
            "justify_items": null,
            "left": null,
            "margin": null,
            "max_height": null,
            "max_width": null,
            "min_height": null,
            "min_width": null,
            "object_fit": null,
            "object_position": null,
            "order": null,
            "overflow": null,
            "overflow_x": null,
            "overflow_y": null,
            "padding": null,
            "right": null,
            "top": null,
            "visibility": null,
            "width": null
          }
        },
        "53c6511c4d874ffeb53542211485a411": {
          "model_module": "@jupyter-widgets/base",
          "model_name": "LayoutModel",
          "model_module_version": "1.2.0",
          "state": {
            "_model_module": "@jupyter-widgets/base",
            "_model_module_version": "1.2.0",
            "_model_name": "LayoutModel",
            "_view_count": null,
            "_view_module": "@jupyter-widgets/base",
            "_view_module_version": "1.2.0",
            "_view_name": "LayoutView",
            "align_content": null,
            "align_items": null,
            "align_self": null,
            "border": null,
            "bottom": null,
            "display": null,
            "flex": null,
            "flex_flow": null,
            "grid_area": null,
            "grid_auto_columns": null,
            "grid_auto_flow": null,
            "grid_auto_rows": null,
            "grid_column": null,
            "grid_gap": null,
            "grid_row": null,
            "grid_template_areas": null,
            "grid_template_columns": null,
            "grid_template_rows": null,
            "height": null,
            "justify_content": null,
            "justify_items": null,
            "left": null,
            "margin": null,
            "max_height": null,
            "max_width": null,
            "min_height": null,
            "min_width": null,
            "object_fit": null,
            "object_position": null,
            "order": null,
            "overflow": null,
            "overflow_x": null,
            "overflow_y": null,
            "padding": null,
            "right": null,
            "top": null,
            "visibility": null,
            "width": null
          }
        },
        "677f3bd90a064687b7b83151d90e4cbd": {
          "model_module": "@jupyter-widgets/controls",
          "model_name": "DescriptionStyleModel",
          "model_module_version": "1.5.0",
          "state": {
            "_model_module": "@jupyter-widgets/controls",
            "_model_module_version": "1.5.0",
            "_model_name": "DescriptionStyleModel",
            "_view_count": null,
            "_view_module": "@jupyter-widgets/base",
            "_view_module_version": "1.2.0",
            "_view_name": "StyleView",
            "description_width": ""
          }
        },
        "4ceefa8b2048470fb807c25bdee1f5ed": {
          "model_module": "@jupyter-widgets/base",
          "model_name": "LayoutModel",
          "model_module_version": "1.2.0",
          "state": {
            "_model_module": "@jupyter-widgets/base",
            "_model_module_version": "1.2.0",
            "_model_name": "LayoutModel",
            "_view_count": null,
            "_view_module": "@jupyter-widgets/base",
            "_view_module_version": "1.2.0",
            "_view_name": "LayoutView",
            "align_content": null,
            "align_items": null,
            "align_self": null,
            "border": null,
            "bottom": null,
            "display": null,
            "flex": null,
            "flex_flow": null,
            "grid_area": null,
            "grid_auto_columns": null,
            "grid_auto_flow": null,
            "grid_auto_rows": null,
            "grid_column": null,
            "grid_gap": null,
            "grid_row": null,
            "grid_template_areas": null,
            "grid_template_columns": null,
            "grid_template_rows": null,
            "height": null,
            "justify_content": null,
            "justify_items": null,
            "left": null,
            "margin": null,
            "max_height": null,
            "max_width": null,
            "min_height": null,
            "min_width": null,
            "object_fit": null,
            "object_position": null,
            "order": null,
            "overflow": null,
            "overflow_x": null,
            "overflow_y": null,
            "padding": null,
            "right": null,
            "top": null,
            "visibility": null,
            "width": null
          }
        },
        "731de9eb057142f0b8ed8c7d71994c57": {
          "model_module": "@jupyter-widgets/controls",
          "model_name": "ProgressStyleModel",
          "model_module_version": "1.5.0",
          "state": {
            "_model_module": "@jupyter-widgets/controls",
            "_model_module_version": "1.5.0",
            "_model_name": "ProgressStyleModel",
            "_view_count": null,
            "_view_module": "@jupyter-widgets/base",
            "_view_module_version": "1.2.0",
            "_view_name": "StyleView",
            "bar_color": null,
            "description_width": ""
          }
        },
        "b988c699df454452bc0de06ad2e3c41c": {
          "model_module": "@jupyter-widgets/base",
          "model_name": "LayoutModel",
          "model_module_version": "1.2.0",
          "state": {
            "_model_module": "@jupyter-widgets/base",
            "_model_module_version": "1.2.0",
            "_model_name": "LayoutModel",
            "_view_count": null,
            "_view_module": "@jupyter-widgets/base",
            "_view_module_version": "1.2.0",
            "_view_name": "LayoutView",
            "align_content": null,
            "align_items": null,
            "align_self": null,
            "border": null,
            "bottom": null,
            "display": null,
            "flex": null,
            "flex_flow": null,
            "grid_area": null,
            "grid_auto_columns": null,
            "grid_auto_flow": null,
            "grid_auto_rows": null,
            "grid_column": null,
            "grid_gap": null,
            "grid_row": null,
            "grid_template_areas": null,
            "grid_template_columns": null,
            "grid_template_rows": null,
            "height": null,
            "justify_content": null,
            "justify_items": null,
            "left": null,
            "margin": null,
            "max_height": null,
            "max_width": null,
            "min_height": null,
            "min_width": null,
            "object_fit": null,
            "object_position": null,
            "order": null,
            "overflow": null,
            "overflow_x": null,
            "overflow_y": null,
            "padding": null,
            "right": null,
            "top": null,
            "visibility": null,
            "width": null
          }
        },
        "087fdb1dd20f44529389f0b9a0e1268b": {
          "model_module": "@jupyter-widgets/controls",
          "model_name": "DescriptionStyleModel",
          "model_module_version": "1.5.0",
          "state": {
            "_model_module": "@jupyter-widgets/controls",
            "_model_module_version": "1.5.0",
            "_model_name": "DescriptionStyleModel",
            "_view_count": null,
            "_view_module": "@jupyter-widgets/base",
            "_view_module_version": "1.2.0",
            "_view_name": "StyleView",
            "description_width": ""
          }
        },
        "2baacdc761be43dabe0c65668a47364f": {
          "model_module": "@jupyter-widgets/controls",
          "model_name": "HBoxModel",
          "model_module_version": "1.5.0",
          "state": {
            "_dom_classes": [],
            "_model_module": "@jupyter-widgets/controls",
            "_model_module_version": "1.5.0",
            "_model_name": "HBoxModel",
            "_view_count": null,
            "_view_module": "@jupyter-widgets/controls",
            "_view_module_version": "1.5.0",
            "_view_name": "HBoxView",
            "box_style": "",
            "children": [
              "IPY_MODEL_82c7e01a6326409fafab21b04ff67808",
              "IPY_MODEL_d570ff502c704760ad115bb1eac29878",
              "IPY_MODEL_0623a6c4234a43fb8f7b59ec24a30c76"
            ],
            "layout": "IPY_MODEL_0d4f55d23d52473a8367b6d91cb53848"
          }
        },
        "82c7e01a6326409fafab21b04ff67808": {
          "model_module": "@jupyter-widgets/controls",
          "model_name": "HTMLModel",
          "model_module_version": "1.5.0",
          "state": {
            "_dom_classes": [],
            "_model_module": "@jupyter-widgets/controls",
            "_model_module_version": "1.5.0",
            "_model_name": "HTMLModel",
            "_view_count": null,
            "_view_module": "@jupyter-widgets/controls",
            "_view_module_version": "1.5.0",
            "_view_name": "HTMLView",
            "description": "",
            "description_tooltip": null,
            "layout": "IPY_MODEL_1e6e71a9c40f45f2b47e151bed8fc8de",
            "placeholder": "​",
            "style": "IPY_MODEL_94376e201e894b6cb739dc5463139a8e",
            "value": "config_sentence_transformers.json: 100%"
          }
        },
        "d570ff502c704760ad115bb1eac29878": {
          "model_module": "@jupyter-widgets/controls",
          "model_name": "FloatProgressModel",
          "model_module_version": "1.5.0",
          "state": {
            "_dom_classes": [],
            "_model_module": "@jupyter-widgets/controls",
            "_model_module_version": "1.5.0",
            "_model_name": "FloatProgressModel",
            "_view_count": null,
            "_view_module": "@jupyter-widgets/controls",
            "_view_module_version": "1.5.0",
            "_view_name": "ProgressView",
            "bar_style": "success",
            "description": "",
            "description_tooltip": null,
            "layout": "IPY_MODEL_42565aca566f4fd28400726eb1cae8e5",
            "max": 116,
            "min": 0,
            "orientation": "horizontal",
            "style": "IPY_MODEL_415e6d6b196742bb9c53039d9244b083",
            "value": 116
          }
        },
        "0623a6c4234a43fb8f7b59ec24a30c76": {
          "model_module": "@jupyter-widgets/controls",
          "model_name": "HTMLModel",
          "model_module_version": "1.5.0",
          "state": {
            "_dom_classes": [],
            "_model_module": "@jupyter-widgets/controls",
            "_model_module_version": "1.5.0",
            "_model_name": "HTMLModel",
            "_view_count": null,
            "_view_module": "@jupyter-widgets/controls",
            "_view_module_version": "1.5.0",
            "_view_name": "HTMLView",
            "description": "",
            "description_tooltip": null,
            "layout": "IPY_MODEL_787c0c2cbcfc464abe88128e3b6788b5",
            "placeholder": "​",
            "style": "IPY_MODEL_7a14855bedd740399873043962bb34a8",
            "value": " 116/116 [00:00&lt;00:00, 14.7kB/s]"
          }
        },
        "0d4f55d23d52473a8367b6d91cb53848": {
          "model_module": "@jupyter-widgets/base",
          "model_name": "LayoutModel",
          "model_module_version": "1.2.0",
          "state": {
            "_model_module": "@jupyter-widgets/base",
            "_model_module_version": "1.2.0",
            "_model_name": "LayoutModel",
            "_view_count": null,
            "_view_module": "@jupyter-widgets/base",
            "_view_module_version": "1.2.0",
            "_view_name": "LayoutView",
            "align_content": null,
            "align_items": null,
            "align_self": null,
            "border": null,
            "bottom": null,
            "display": null,
            "flex": null,
            "flex_flow": null,
            "grid_area": null,
            "grid_auto_columns": null,
            "grid_auto_flow": null,
            "grid_auto_rows": null,
            "grid_column": null,
            "grid_gap": null,
            "grid_row": null,
            "grid_template_areas": null,
            "grid_template_columns": null,
            "grid_template_rows": null,
            "height": null,
            "justify_content": null,
            "justify_items": null,
            "left": null,
            "margin": null,
            "max_height": null,
            "max_width": null,
            "min_height": null,
            "min_width": null,
            "object_fit": null,
            "object_position": null,
            "order": null,
            "overflow": null,
            "overflow_x": null,
            "overflow_y": null,
            "padding": null,
            "right": null,
            "top": null,
            "visibility": null,
            "width": null
          }
        },
        "1e6e71a9c40f45f2b47e151bed8fc8de": {
          "model_module": "@jupyter-widgets/base",
          "model_name": "LayoutModel",
          "model_module_version": "1.2.0",
          "state": {
            "_model_module": "@jupyter-widgets/base",
            "_model_module_version": "1.2.0",
            "_model_name": "LayoutModel",
            "_view_count": null,
            "_view_module": "@jupyter-widgets/base",
            "_view_module_version": "1.2.0",
            "_view_name": "LayoutView",
            "align_content": null,
            "align_items": null,
            "align_self": null,
            "border": null,
            "bottom": null,
            "display": null,
            "flex": null,
            "flex_flow": null,
            "grid_area": null,
            "grid_auto_columns": null,
            "grid_auto_flow": null,
            "grid_auto_rows": null,
            "grid_column": null,
            "grid_gap": null,
            "grid_row": null,
            "grid_template_areas": null,
            "grid_template_columns": null,
            "grid_template_rows": null,
            "height": null,
            "justify_content": null,
            "justify_items": null,
            "left": null,
            "margin": null,
            "max_height": null,
            "max_width": null,
            "min_height": null,
            "min_width": null,
            "object_fit": null,
            "object_position": null,
            "order": null,
            "overflow": null,
            "overflow_x": null,
            "overflow_y": null,
            "padding": null,
            "right": null,
            "top": null,
            "visibility": null,
            "width": null
          }
        },
        "94376e201e894b6cb739dc5463139a8e": {
          "model_module": "@jupyter-widgets/controls",
          "model_name": "DescriptionStyleModel",
          "model_module_version": "1.5.0",
          "state": {
            "_model_module": "@jupyter-widgets/controls",
            "_model_module_version": "1.5.0",
            "_model_name": "DescriptionStyleModel",
            "_view_count": null,
            "_view_module": "@jupyter-widgets/base",
            "_view_module_version": "1.2.0",
            "_view_name": "StyleView",
            "description_width": ""
          }
        },
        "42565aca566f4fd28400726eb1cae8e5": {
          "model_module": "@jupyter-widgets/base",
          "model_name": "LayoutModel",
          "model_module_version": "1.2.0",
          "state": {
            "_model_module": "@jupyter-widgets/base",
            "_model_module_version": "1.2.0",
            "_model_name": "LayoutModel",
            "_view_count": null,
            "_view_module": "@jupyter-widgets/base",
            "_view_module_version": "1.2.0",
            "_view_name": "LayoutView",
            "align_content": null,
            "align_items": null,
            "align_self": null,
            "border": null,
            "bottom": null,
            "display": null,
            "flex": null,
            "flex_flow": null,
            "grid_area": null,
            "grid_auto_columns": null,
            "grid_auto_flow": null,
            "grid_auto_rows": null,
            "grid_column": null,
            "grid_gap": null,
            "grid_row": null,
            "grid_template_areas": null,
            "grid_template_columns": null,
            "grid_template_rows": null,
            "height": null,
            "justify_content": null,
            "justify_items": null,
            "left": null,
            "margin": null,
            "max_height": null,
            "max_width": null,
            "min_height": null,
            "min_width": null,
            "object_fit": null,
            "object_position": null,
            "order": null,
            "overflow": null,
            "overflow_x": null,
            "overflow_y": null,
            "padding": null,
            "right": null,
            "top": null,
            "visibility": null,
            "width": null
          }
        },
        "415e6d6b196742bb9c53039d9244b083": {
          "model_module": "@jupyter-widgets/controls",
          "model_name": "ProgressStyleModel",
          "model_module_version": "1.5.0",
          "state": {
            "_model_module": "@jupyter-widgets/controls",
            "_model_module_version": "1.5.0",
            "_model_name": "ProgressStyleModel",
            "_view_count": null,
            "_view_module": "@jupyter-widgets/base",
            "_view_module_version": "1.2.0",
            "_view_name": "StyleView",
            "bar_color": null,
            "description_width": ""
          }
        },
        "787c0c2cbcfc464abe88128e3b6788b5": {
          "model_module": "@jupyter-widgets/base",
          "model_name": "LayoutModel",
          "model_module_version": "1.2.0",
          "state": {
            "_model_module": "@jupyter-widgets/base",
            "_model_module_version": "1.2.0",
            "_model_name": "LayoutModel",
            "_view_count": null,
            "_view_module": "@jupyter-widgets/base",
            "_view_module_version": "1.2.0",
            "_view_name": "LayoutView",
            "align_content": null,
            "align_items": null,
            "align_self": null,
            "border": null,
            "bottom": null,
            "display": null,
            "flex": null,
            "flex_flow": null,
            "grid_area": null,
            "grid_auto_columns": null,
            "grid_auto_flow": null,
            "grid_auto_rows": null,
            "grid_column": null,
            "grid_gap": null,
            "grid_row": null,
            "grid_template_areas": null,
            "grid_template_columns": null,
            "grid_template_rows": null,
            "height": null,
            "justify_content": null,
            "justify_items": null,
            "left": null,
            "margin": null,
            "max_height": null,
            "max_width": null,
            "min_height": null,
            "min_width": null,
            "object_fit": null,
            "object_position": null,
            "order": null,
            "overflow": null,
            "overflow_x": null,
            "overflow_y": null,
            "padding": null,
            "right": null,
            "top": null,
            "visibility": null,
            "width": null
          }
        },
        "7a14855bedd740399873043962bb34a8": {
          "model_module": "@jupyter-widgets/controls",
          "model_name": "DescriptionStyleModel",
          "model_module_version": "1.5.0",
          "state": {
            "_model_module": "@jupyter-widgets/controls",
            "_model_module_version": "1.5.0",
            "_model_name": "DescriptionStyleModel",
            "_view_count": null,
            "_view_module": "@jupyter-widgets/base",
            "_view_module_version": "1.2.0",
            "_view_name": "StyleView",
            "description_width": ""
          }
        },
        "9a129c2bb0044513844f42322a467dc2": {
          "model_module": "@jupyter-widgets/controls",
          "model_name": "HBoxModel",
          "model_module_version": "1.5.0",
          "state": {
            "_dom_classes": [],
            "_model_module": "@jupyter-widgets/controls",
            "_model_module_version": "1.5.0",
            "_model_name": "HBoxModel",
            "_view_count": null,
            "_view_module": "@jupyter-widgets/controls",
            "_view_module_version": "1.5.0",
            "_view_name": "HBoxView",
            "box_style": "",
            "children": [
              "IPY_MODEL_428061f2c2c4477193c7a313dc1e56b8",
              "IPY_MODEL_4af99b573ed442488c91462a9ba3c122",
              "IPY_MODEL_912550fb259142619d0577127a80a099"
            ],
            "layout": "IPY_MODEL_b6d17dc92ca14838a0ee3d7376e61e3e"
          }
        },
        "428061f2c2c4477193c7a313dc1e56b8": {
          "model_module": "@jupyter-widgets/controls",
          "model_name": "HTMLModel",
          "model_module_version": "1.5.0",
          "state": {
            "_dom_classes": [],
            "_model_module": "@jupyter-widgets/controls",
            "_model_module_version": "1.5.0",
            "_model_name": "HTMLModel",
            "_view_count": null,
            "_view_module": "@jupyter-widgets/controls",
            "_view_module_version": "1.5.0",
            "_view_name": "HTMLView",
            "description": "",
            "description_tooltip": null,
            "layout": "IPY_MODEL_7066a398fe41478083bc9f58018eb18e",
            "placeholder": "​",
            "style": "IPY_MODEL_f6082ed207a846049cb53bb034a61143",
            "value": "README.md: "
          }
        },
        "4af99b573ed442488c91462a9ba3c122": {
          "model_module": "@jupyter-widgets/controls",
          "model_name": "FloatProgressModel",
          "model_module_version": "1.5.0",
          "state": {
            "_dom_classes": [],
            "_model_module": "@jupyter-widgets/controls",
            "_model_module_version": "1.5.0",
            "_model_name": "FloatProgressModel",
            "_view_count": null,
            "_view_module": "@jupyter-widgets/controls",
            "_view_module_version": "1.5.0",
            "_view_name": "ProgressView",
            "bar_style": "success",
            "description": "",
            "description_tooltip": null,
            "layout": "IPY_MODEL_8431013cbd0e4d54815c425473e013f1",
            "max": 1,
            "min": 0,
            "orientation": "horizontal",
            "style": "IPY_MODEL_77ddea4dacde4bc4917417fda2432a4d",
            "value": 1
          }
        },
        "912550fb259142619d0577127a80a099": {
          "model_module": "@jupyter-widgets/controls",
          "model_name": "HTMLModel",
          "model_module_version": "1.5.0",
          "state": {
            "_dom_classes": [],
            "_model_module": "@jupyter-widgets/controls",
            "_model_module_version": "1.5.0",
            "_model_name": "HTMLModel",
            "_view_count": null,
            "_view_module": "@jupyter-widgets/controls",
            "_view_module_version": "1.5.0",
            "_view_name": "HTMLView",
            "description": "",
            "description_tooltip": null,
            "layout": "IPY_MODEL_0289c337ccd54e5388d0759b8c6ed913",
            "placeholder": "​",
            "style": "IPY_MODEL_16694ef572604f71aaa6f20c81f04efb",
            "value": " 10.5k/? [00:00&lt;00:00, 839kB/s]"
          }
        },
        "b6d17dc92ca14838a0ee3d7376e61e3e": {
          "model_module": "@jupyter-widgets/base",
          "model_name": "LayoutModel",
          "model_module_version": "1.2.0",
          "state": {
            "_model_module": "@jupyter-widgets/base",
            "_model_module_version": "1.2.0",
            "_model_name": "LayoutModel",
            "_view_count": null,
            "_view_module": "@jupyter-widgets/base",
            "_view_module_version": "1.2.0",
            "_view_name": "LayoutView",
            "align_content": null,
            "align_items": null,
            "align_self": null,
            "border": null,
            "bottom": null,
            "display": null,
            "flex": null,
            "flex_flow": null,
            "grid_area": null,
            "grid_auto_columns": null,
            "grid_auto_flow": null,
            "grid_auto_rows": null,
            "grid_column": null,
            "grid_gap": null,
            "grid_row": null,
            "grid_template_areas": null,
            "grid_template_columns": null,
            "grid_template_rows": null,
            "height": null,
            "justify_content": null,
            "justify_items": null,
            "left": null,
            "margin": null,
            "max_height": null,
            "max_width": null,
            "min_height": null,
            "min_width": null,
            "object_fit": null,
            "object_position": null,
            "order": null,
            "overflow": null,
            "overflow_x": null,
            "overflow_y": null,
            "padding": null,
            "right": null,
            "top": null,
            "visibility": null,
            "width": null
          }
        },
        "7066a398fe41478083bc9f58018eb18e": {
          "model_module": "@jupyter-widgets/base",
          "model_name": "LayoutModel",
          "model_module_version": "1.2.0",
          "state": {
            "_model_module": "@jupyter-widgets/base",
            "_model_module_version": "1.2.0",
            "_model_name": "LayoutModel",
            "_view_count": null,
            "_view_module": "@jupyter-widgets/base",
            "_view_module_version": "1.2.0",
            "_view_name": "LayoutView",
            "align_content": null,
            "align_items": null,
            "align_self": null,
            "border": null,
            "bottom": null,
            "display": null,
            "flex": null,
            "flex_flow": null,
            "grid_area": null,
            "grid_auto_columns": null,
            "grid_auto_flow": null,
            "grid_auto_rows": null,
            "grid_column": null,
            "grid_gap": null,
            "grid_row": null,
            "grid_template_areas": null,
            "grid_template_columns": null,
            "grid_template_rows": null,
            "height": null,
            "justify_content": null,
            "justify_items": null,
            "left": null,
            "margin": null,
            "max_height": null,
            "max_width": null,
            "min_height": null,
            "min_width": null,
            "object_fit": null,
            "object_position": null,
            "order": null,
            "overflow": null,
            "overflow_x": null,
            "overflow_y": null,
            "padding": null,
            "right": null,
            "top": null,
            "visibility": null,
            "width": null
          }
        },
        "f6082ed207a846049cb53bb034a61143": {
          "model_module": "@jupyter-widgets/controls",
          "model_name": "DescriptionStyleModel",
          "model_module_version": "1.5.0",
          "state": {
            "_model_module": "@jupyter-widgets/controls",
            "_model_module_version": "1.5.0",
            "_model_name": "DescriptionStyleModel",
            "_view_count": null,
            "_view_module": "@jupyter-widgets/base",
            "_view_module_version": "1.2.0",
            "_view_name": "StyleView",
            "description_width": ""
          }
        },
        "8431013cbd0e4d54815c425473e013f1": {
          "model_module": "@jupyter-widgets/base",
          "model_name": "LayoutModel",
          "model_module_version": "1.2.0",
          "state": {
            "_model_module": "@jupyter-widgets/base",
            "_model_module_version": "1.2.0",
            "_model_name": "LayoutModel",
            "_view_count": null,
            "_view_module": "@jupyter-widgets/base",
            "_view_module_version": "1.2.0",
            "_view_name": "LayoutView",
            "align_content": null,
            "align_items": null,
            "align_self": null,
            "border": null,
            "bottom": null,
            "display": null,
            "flex": null,
            "flex_flow": null,
            "grid_area": null,
            "grid_auto_columns": null,
            "grid_auto_flow": null,
            "grid_auto_rows": null,
            "grid_column": null,
            "grid_gap": null,
            "grid_row": null,
            "grid_template_areas": null,
            "grid_template_columns": null,
            "grid_template_rows": null,
            "height": null,
            "justify_content": null,
            "justify_items": null,
            "left": null,
            "margin": null,
            "max_height": null,
            "max_width": null,
            "min_height": null,
            "min_width": null,
            "object_fit": null,
            "object_position": null,
            "order": null,
            "overflow": null,
            "overflow_x": null,
            "overflow_y": null,
            "padding": null,
            "right": null,
            "top": null,
            "visibility": null,
            "width": "20px"
          }
        },
        "77ddea4dacde4bc4917417fda2432a4d": {
          "model_module": "@jupyter-widgets/controls",
          "model_name": "ProgressStyleModel",
          "model_module_version": "1.5.0",
          "state": {
            "_model_module": "@jupyter-widgets/controls",
            "_model_module_version": "1.5.0",
            "_model_name": "ProgressStyleModel",
            "_view_count": null,
            "_view_module": "@jupyter-widgets/base",
            "_view_module_version": "1.2.0",
            "_view_name": "StyleView",
            "bar_color": null,
            "description_width": ""
          }
        },
        "0289c337ccd54e5388d0759b8c6ed913": {
          "model_module": "@jupyter-widgets/base",
          "model_name": "LayoutModel",
          "model_module_version": "1.2.0",
          "state": {
            "_model_module": "@jupyter-widgets/base",
            "_model_module_version": "1.2.0",
            "_model_name": "LayoutModel",
            "_view_count": null,
            "_view_module": "@jupyter-widgets/base",
            "_view_module_version": "1.2.0",
            "_view_name": "LayoutView",
            "align_content": null,
            "align_items": null,
            "align_self": null,
            "border": null,
            "bottom": null,
            "display": null,
            "flex": null,
            "flex_flow": null,
            "grid_area": null,
            "grid_auto_columns": null,
            "grid_auto_flow": null,
            "grid_auto_rows": null,
            "grid_column": null,
            "grid_gap": null,
            "grid_row": null,
            "grid_template_areas": null,
            "grid_template_columns": null,
            "grid_template_rows": null,
            "height": null,
            "justify_content": null,
            "justify_items": null,
            "left": null,
            "margin": null,
            "max_height": null,
            "max_width": null,
            "min_height": null,
            "min_width": null,
            "object_fit": null,
            "object_position": null,
            "order": null,
            "overflow": null,
            "overflow_x": null,
            "overflow_y": null,
            "padding": null,
            "right": null,
            "top": null,
            "visibility": null,
            "width": null
          }
        },
        "16694ef572604f71aaa6f20c81f04efb": {
          "model_module": "@jupyter-widgets/controls",
          "model_name": "DescriptionStyleModel",
          "model_module_version": "1.5.0",
          "state": {
            "_model_module": "@jupyter-widgets/controls",
            "_model_module_version": "1.5.0",
            "_model_name": "DescriptionStyleModel",
            "_view_count": null,
            "_view_module": "@jupyter-widgets/base",
            "_view_module_version": "1.2.0",
            "_view_name": "StyleView",
            "description_width": ""
          }
        },
        "2b4ac31dba0f461fbc1043979a4f2ac4": {
          "model_module": "@jupyter-widgets/controls",
          "model_name": "HBoxModel",
          "model_module_version": "1.5.0",
          "state": {
            "_dom_classes": [],
            "_model_module": "@jupyter-widgets/controls",
            "_model_module_version": "1.5.0",
            "_model_name": "HBoxModel",
            "_view_count": null,
            "_view_module": "@jupyter-widgets/controls",
            "_view_module_version": "1.5.0",
            "_view_name": "HBoxView",
            "box_style": "",
            "children": [
              "IPY_MODEL_a519970461614d56b13b0ea5624ec682",
              "IPY_MODEL_9603b140f05c45bd922d7dbdcd8d0965",
              "IPY_MODEL_37536ffc4bb04d948d9e35d2342d7eb6"
            ],
            "layout": "IPY_MODEL_88b62e6d06f44b30817a7f04f5cb3f34"
          }
        },
        "a519970461614d56b13b0ea5624ec682": {
          "model_module": "@jupyter-widgets/controls",
          "model_name": "HTMLModel",
          "model_module_version": "1.5.0",
          "state": {
            "_dom_classes": [],
            "_model_module": "@jupyter-widgets/controls",
            "_model_module_version": "1.5.0",
            "_model_name": "HTMLModel",
            "_view_count": null,
            "_view_module": "@jupyter-widgets/controls",
            "_view_module_version": "1.5.0",
            "_view_name": "HTMLView",
            "description": "",
            "description_tooltip": null,
            "layout": "IPY_MODEL_e85eb03305794989ad23ffb6b4c74639",
            "placeholder": "​",
            "style": "IPY_MODEL_4900c364227440af912c0a3c219b52e1",
            "value": "sentence_bert_config.json: 100%"
          }
        },
        "9603b140f05c45bd922d7dbdcd8d0965": {
          "model_module": "@jupyter-widgets/controls",
          "model_name": "FloatProgressModel",
          "model_module_version": "1.5.0",
          "state": {
            "_dom_classes": [],
            "_model_module": "@jupyter-widgets/controls",
            "_model_module_version": "1.5.0",
            "_model_name": "FloatProgressModel",
            "_view_count": null,
            "_view_module": "@jupyter-widgets/controls",
            "_view_module_version": "1.5.0",
            "_view_name": "ProgressView",
            "bar_style": "success",
            "description": "",
            "description_tooltip": null,
            "layout": "IPY_MODEL_7245cc7403e74e66806c3d799e10a8f6",
            "max": 53,
            "min": 0,
            "orientation": "horizontal",
            "style": "IPY_MODEL_01e77677cd634c24b295922ab182e884",
            "value": 53
          }
        },
        "37536ffc4bb04d948d9e35d2342d7eb6": {
          "model_module": "@jupyter-widgets/controls",
          "model_name": "HTMLModel",
          "model_module_version": "1.5.0",
          "state": {
            "_dom_classes": [],
            "_model_module": "@jupyter-widgets/controls",
            "_model_module_version": "1.5.0",
            "_model_name": "HTMLModel",
            "_view_count": null,
            "_view_module": "@jupyter-widgets/controls",
            "_view_module_version": "1.5.0",
            "_view_name": "HTMLView",
            "description": "",
            "description_tooltip": null,
            "layout": "IPY_MODEL_74d6b9aeef4b4cf6b5558f2fcff871ef",
            "placeholder": "​",
            "style": "IPY_MODEL_b55fd7fbac9d474aa19cdf9a550f3ed2",
            "value": " 53.0/53.0 [00:00&lt;00:00, 5.03kB/s]"
          }
        },
        "88b62e6d06f44b30817a7f04f5cb3f34": {
          "model_module": "@jupyter-widgets/base",
          "model_name": "LayoutModel",
          "model_module_version": "1.2.0",
          "state": {
            "_model_module": "@jupyter-widgets/base",
            "_model_module_version": "1.2.0",
            "_model_name": "LayoutModel",
            "_view_count": null,
            "_view_module": "@jupyter-widgets/base",
            "_view_module_version": "1.2.0",
            "_view_name": "LayoutView",
            "align_content": null,
            "align_items": null,
            "align_self": null,
            "border": null,
            "bottom": null,
            "display": null,
            "flex": null,
            "flex_flow": null,
            "grid_area": null,
            "grid_auto_columns": null,
            "grid_auto_flow": null,
            "grid_auto_rows": null,
            "grid_column": null,
            "grid_gap": null,
            "grid_row": null,
            "grid_template_areas": null,
            "grid_template_columns": null,
            "grid_template_rows": null,
            "height": null,
            "justify_content": null,
            "justify_items": null,
            "left": null,
            "margin": null,
            "max_height": null,
            "max_width": null,
            "min_height": null,
            "min_width": null,
            "object_fit": null,
            "object_position": null,
            "order": null,
            "overflow": null,
            "overflow_x": null,
            "overflow_y": null,
            "padding": null,
            "right": null,
            "top": null,
            "visibility": null,
            "width": null
          }
        },
        "e85eb03305794989ad23ffb6b4c74639": {
          "model_module": "@jupyter-widgets/base",
          "model_name": "LayoutModel",
          "model_module_version": "1.2.0",
          "state": {
            "_model_module": "@jupyter-widgets/base",
            "_model_module_version": "1.2.0",
            "_model_name": "LayoutModel",
            "_view_count": null,
            "_view_module": "@jupyter-widgets/base",
            "_view_module_version": "1.2.0",
            "_view_name": "LayoutView",
            "align_content": null,
            "align_items": null,
            "align_self": null,
            "border": null,
            "bottom": null,
            "display": null,
            "flex": null,
            "flex_flow": null,
            "grid_area": null,
            "grid_auto_columns": null,
            "grid_auto_flow": null,
            "grid_auto_rows": null,
            "grid_column": null,
            "grid_gap": null,
            "grid_row": null,
            "grid_template_areas": null,
            "grid_template_columns": null,
            "grid_template_rows": null,
            "height": null,
            "justify_content": null,
            "justify_items": null,
            "left": null,
            "margin": null,
            "max_height": null,
            "max_width": null,
            "min_height": null,
            "min_width": null,
            "object_fit": null,
            "object_position": null,
            "order": null,
            "overflow": null,
            "overflow_x": null,
            "overflow_y": null,
            "padding": null,
            "right": null,
            "top": null,
            "visibility": null,
            "width": null
          }
        },
        "4900c364227440af912c0a3c219b52e1": {
          "model_module": "@jupyter-widgets/controls",
          "model_name": "DescriptionStyleModel",
          "model_module_version": "1.5.0",
          "state": {
            "_model_module": "@jupyter-widgets/controls",
            "_model_module_version": "1.5.0",
            "_model_name": "DescriptionStyleModel",
            "_view_count": null,
            "_view_module": "@jupyter-widgets/base",
            "_view_module_version": "1.2.0",
            "_view_name": "StyleView",
            "description_width": ""
          }
        },
        "7245cc7403e74e66806c3d799e10a8f6": {
          "model_module": "@jupyter-widgets/base",
          "model_name": "LayoutModel",
          "model_module_version": "1.2.0",
          "state": {
            "_model_module": "@jupyter-widgets/base",
            "_model_module_version": "1.2.0",
            "_model_name": "LayoutModel",
            "_view_count": null,
            "_view_module": "@jupyter-widgets/base",
            "_view_module_version": "1.2.0",
            "_view_name": "LayoutView",
            "align_content": null,
            "align_items": null,
            "align_self": null,
            "border": null,
            "bottom": null,
            "display": null,
            "flex": null,
            "flex_flow": null,
            "grid_area": null,
            "grid_auto_columns": null,
            "grid_auto_flow": null,
            "grid_auto_rows": null,
            "grid_column": null,
            "grid_gap": null,
            "grid_row": null,
            "grid_template_areas": null,
            "grid_template_columns": null,
            "grid_template_rows": null,
            "height": null,
            "justify_content": null,
            "justify_items": null,
            "left": null,
            "margin": null,
            "max_height": null,
            "max_width": null,
            "min_height": null,
            "min_width": null,
            "object_fit": null,
            "object_position": null,
            "order": null,
            "overflow": null,
            "overflow_x": null,
            "overflow_y": null,
            "padding": null,
            "right": null,
            "top": null,
            "visibility": null,
            "width": null
          }
        },
        "01e77677cd634c24b295922ab182e884": {
          "model_module": "@jupyter-widgets/controls",
          "model_name": "ProgressStyleModel",
          "model_module_version": "1.5.0",
          "state": {
            "_model_module": "@jupyter-widgets/controls",
            "_model_module_version": "1.5.0",
            "_model_name": "ProgressStyleModel",
            "_view_count": null,
            "_view_module": "@jupyter-widgets/base",
            "_view_module_version": "1.2.0",
            "_view_name": "StyleView",
            "bar_color": null,
            "description_width": ""
          }
        },
        "74d6b9aeef4b4cf6b5558f2fcff871ef": {
          "model_module": "@jupyter-widgets/base",
          "model_name": "LayoutModel",
          "model_module_version": "1.2.0",
          "state": {
            "_model_module": "@jupyter-widgets/base",
            "_model_module_version": "1.2.0",
            "_model_name": "LayoutModel",
            "_view_count": null,
            "_view_module": "@jupyter-widgets/base",
            "_view_module_version": "1.2.0",
            "_view_name": "LayoutView",
            "align_content": null,
            "align_items": null,
            "align_self": null,
            "border": null,
            "bottom": null,
            "display": null,
            "flex": null,
            "flex_flow": null,
            "grid_area": null,
            "grid_auto_columns": null,
            "grid_auto_flow": null,
            "grid_auto_rows": null,
            "grid_column": null,
            "grid_gap": null,
            "grid_row": null,
            "grid_template_areas": null,
            "grid_template_columns": null,
            "grid_template_rows": null,
            "height": null,
            "justify_content": null,
            "justify_items": null,
            "left": null,
            "margin": null,
            "max_height": null,
            "max_width": null,
            "min_height": null,
            "min_width": null,
            "object_fit": null,
            "object_position": null,
            "order": null,
            "overflow": null,
            "overflow_x": null,
            "overflow_y": null,
            "padding": null,
            "right": null,
            "top": null,
            "visibility": null,
            "width": null
          }
        },
        "b55fd7fbac9d474aa19cdf9a550f3ed2": {
          "model_module": "@jupyter-widgets/controls",
          "model_name": "DescriptionStyleModel",
          "model_module_version": "1.5.0",
          "state": {
            "_model_module": "@jupyter-widgets/controls",
            "_model_module_version": "1.5.0",
            "_model_name": "DescriptionStyleModel",
            "_view_count": null,
            "_view_module": "@jupyter-widgets/base",
            "_view_module_version": "1.2.0",
            "_view_name": "StyleView",
            "description_width": ""
          }
        },
        "0ac13d493d8a42cfac0e8a13ef9265e5": {
          "model_module": "@jupyter-widgets/controls",
          "model_name": "HBoxModel",
          "model_module_version": "1.5.0",
          "state": {
            "_dom_classes": [],
            "_model_module": "@jupyter-widgets/controls",
            "_model_module_version": "1.5.0",
            "_model_name": "HBoxModel",
            "_view_count": null,
            "_view_module": "@jupyter-widgets/controls",
            "_view_module_version": "1.5.0",
            "_view_name": "HBoxView",
            "box_style": "",
            "children": [
              "IPY_MODEL_b20ae1a9153549e4a7aa2a1319163269",
              "IPY_MODEL_63e57684edf8468f8c3c44cff72668de",
              "IPY_MODEL_d07fd692ed1e4493b6b43031f001eea0"
            ],
            "layout": "IPY_MODEL_5cff5134a39d424e83f9dd49aa196591"
          }
        },
        "b20ae1a9153549e4a7aa2a1319163269": {
          "model_module": "@jupyter-widgets/controls",
          "model_name": "HTMLModel",
          "model_module_version": "1.5.0",
          "state": {
            "_dom_classes": [],
            "_model_module": "@jupyter-widgets/controls",
            "_model_module_version": "1.5.0",
            "_model_name": "HTMLModel",
            "_view_count": null,
            "_view_module": "@jupyter-widgets/controls",
            "_view_module_version": "1.5.0",
            "_view_name": "HTMLView",
            "description": "",
            "description_tooltip": null,
            "layout": "IPY_MODEL_1277b942e43c46b49827e3e51a10c8e0",
            "placeholder": "​",
            "style": "IPY_MODEL_b6eb0c0f1d6e4904aaf6204ff28eaa95",
            "value": "config.json: 100%"
          }
        },
        "63e57684edf8468f8c3c44cff72668de": {
          "model_module": "@jupyter-widgets/controls",
          "model_name": "FloatProgressModel",
          "model_module_version": "1.5.0",
          "state": {
            "_dom_classes": [],
            "_model_module": "@jupyter-widgets/controls",
            "_model_module_version": "1.5.0",
            "_model_name": "FloatProgressModel",
            "_view_count": null,
            "_view_module": "@jupyter-widgets/controls",
            "_view_module_version": "1.5.0",
            "_view_name": "ProgressView",
            "bar_style": "success",
            "description": "",
            "description_tooltip": null,
            "layout": "IPY_MODEL_f2198f450f524aa0be53c076ea64109d",
            "max": 612,
            "min": 0,
            "orientation": "horizontal",
            "style": "IPY_MODEL_f10a78dce312422ba63b38082a5dcd5b",
            "value": 612
          }
        },
        "d07fd692ed1e4493b6b43031f001eea0": {
          "model_module": "@jupyter-widgets/controls",
          "model_name": "HTMLModel",
          "model_module_version": "1.5.0",
          "state": {
            "_dom_classes": [],
            "_model_module": "@jupyter-widgets/controls",
            "_model_module_version": "1.5.0",
            "_model_name": "HTMLModel",
            "_view_count": null,
            "_view_module": "@jupyter-widgets/controls",
            "_view_module_version": "1.5.0",
            "_view_name": "HTMLView",
            "description": "",
            "description_tooltip": null,
            "layout": "IPY_MODEL_59aa78d6afd148d6845ee3c8565e10ae",
            "placeholder": "​",
            "style": "IPY_MODEL_65302e0fa48e470cafc9993a77ed7d64",
            "value": " 612/612 [00:00&lt;00:00, 79.7kB/s]"
          }
        },
        "5cff5134a39d424e83f9dd49aa196591": {
          "model_module": "@jupyter-widgets/base",
          "model_name": "LayoutModel",
          "model_module_version": "1.2.0",
          "state": {
            "_model_module": "@jupyter-widgets/base",
            "_model_module_version": "1.2.0",
            "_model_name": "LayoutModel",
            "_view_count": null,
            "_view_module": "@jupyter-widgets/base",
            "_view_module_version": "1.2.0",
            "_view_name": "LayoutView",
            "align_content": null,
            "align_items": null,
            "align_self": null,
            "border": null,
            "bottom": null,
            "display": null,
            "flex": null,
            "flex_flow": null,
            "grid_area": null,
            "grid_auto_columns": null,
            "grid_auto_flow": null,
            "grid_auto_rows": null,
            "grid_column": null,
            "grid_gap": null,
            "grid_row": null,
            "grid_template_areas": null,
            "grid_template_columns": null,
            "grid_template_rows": null,
            "height": null,
            "justify_content": null,
            "justify_items": null,
            "left": null,
            "margin": null,
            "max_height": null,
            "max_width": null,
            "min_height": null,
            "min_width": null,
            "object_fit": null,
            "object_position": null,
            "order": null,
            "overflow": null,
            "overflow_x": null,
            "overflow_y": null,
            "padding": null,
            "right": null,
            "top": null,
            "visibility": null,
            "width": null
          }
        },
        "1277b942e43c46b49827e3e51a10c8e0": {
          "model_module": "@jupyter-widgets/base",
          "model_name": "LayoutModel",
          "model_module_version": "1.2.0",
          "state": {
            "_model_module": "@jupyter-widgets/base",
            "_model_module_version": "1.2.0",
            "_model_name": "LayoutModel",
            "_view_count": null,
            "_view_module": "@jupyter-widgets/base",
            "_view_module_version": "1.2.0",
            "_view_name": "LayoutView",
            "align_content": null,
            "align_items": null,
            "align_self": null,
            "border": null,
            "bottom": null,
            "display": null,
            "flex": null,
            "flex_flow": null,
            "grid_area": null,
            "grid_auto_columns": null,
            "grid_auto_flow": null,
            "grid_auto_rows": null,
            "grid_column": null,
            "grid_gap": null,
            "grid_row": null,
            "grid_template_areas": null,
            "grid_template_columns": null,
            "grid_template_rows": null,
            "height": null,
            "justify_content": null,
            "justify_items": null,
            "left": null,
            "margin": null,
            "max_height": null,
            "max_width": null,
            "min_height": null,
            "min_width": null,
            "object_fit": null,
            "object_position": null,
            "order": null,
            "overflow": null,
            "overflow_x": null,
            "overflow_y": null,
            "padding": null,
            "right": null,
            "top": null,
            "visibility": null,
            "width": null
          }
        },
        "b6eb0c0f1d6e4904aaf6204ff28eaa95": {
          "model_module": "@jupyter-widgets/controls",
          "model_name": "DescriptionStyleModel",
          "model_module_version": "1.5.0",
          "state": {
            "_model_module": "@jupyter-widgets/controls",
            "_model_module_version": "1.5.0",
            "_model_name": "DescriptionStyleModel",
            "_view_count": null,
            "_view_module": "@jupyter-widgets/base",
            "_view_module_version": "1.2.0",
            "_view_name": "StyleView",
            "description_width": ""
          }
        },
        "f2198f450f524aa0be53c076ea64109d": {
          "model_module": "@jupyter-widgets/base",
          "model_name": "LayoutModel",
          "model_module_version": "1.2.0",
          "state": {
            "_model_module": "@jupyter-widgets/base",
            "_model_module_version": "1.2.0",
            "_model_name": "LayoutModel",
            "_view_count": null,
            "_view_module": "@jupyter-widgets/base",
            "_view_module_version": "1.2.0",
            "_view_name": "LayoutView",
            "align_content": null,
            "align_items": null,
            "align_self": null,
            "border": null,
            "bottom": null,
            "display": null,
            "flex": null,
            "flex_flow": null,
            "grid_area": null,
            "grid_auto_columns": null,
            "grid_auto_flow": null,
            "grid_auto_rows": null,
            "grid_column": null,
            "grid_gap": null,
            "grid_row": null,
            "grid_template_areas": null,
            "grid_template_columns": null,
            "grid_template_rows": null,
            "height": null,
            "justify_content": null,
            "justify_items": null,
            "left": null,
            "margin": null,
            "max_height": null,
            "max_width": null,
            "min_height": null,
            "min_width": null,
            "object_fit": null,
            "object_position": null,
            "order": null,
            "overflow": null,
            "overflow_x": null,
            "overflow_y": null,
            "padding": null,
            "right": null,
            "top": null,
            "visibility": null,
            "width": null
          }
        },
        "f10a78dce312422ba63b38082a5dcd5b": {
          "model_module": "@jupyter-widgets/controls",
          "model_name": "ProgressStyleModel",
          "model_module_version": "1.5.0",
          "state": {
            "_model_module": "@jupyter-widgets/controls",
            "_model_module_version": "1.5.0",
            "_model_name": "ProgressStyleModel",
            "_view_count": null,
            "_view_module": "@jupyter-widgets/base",
            "_view_module_version": "1.2.0",
            "_view_name": "StyleView",
            "bar_color": null,
            "description_width": ""
          }
        },
        "59aa78d6afd148d6845ee3c8565e10ae": {
          "model_module": "@jupyter-widgets/base",
          "model_name": "LayoutModel",
          "model_module_version": "1.2.0",
          "state": {
            "_model_module": "@jupyter-widgets/base",
            "_model_module_version": "1.2.0",
            "_model_name": "LayoutModel",
            "_view_count": null,
            "_view_module": "@jupyter-widgets/base",
            "_view_module_version": "1.2.0",
            "_view_name": "LayoutView",
            "align_content": null,
            "align_items": null,
            "align_self": null,
            "border": null,
            "bottom": null,
            "display": null,
            "flex": null,
            "flex_flow": null,
            "grid_area": null,
            "grid_auto_columns": null,
            "grid_auto_flow": null,
            "grid_auto_rows": null,
            "grid_column": null,
            "grid_gap": null,
            "grid_row": null,
            "grid_template_areas": null,
            "grid_template_columns": null,
            "grid_template_rows": null,
            "height": null,
            "justify_content": null,
            "justify_items": null,
            "left": null,
            "margin": null,
            "max_height": null,
            "max_width": null,
            "min_height": null,
            "min_width": null,
            "object_fit": null,
            "object_position": null,
            "order": null,
            "overflow": null,
            "overflow_x": null,
            "overflow_y": null,
            "padding": null,
            "right": null,
            "top": null,
            "visibility": null,
            "width": null
          }
        },
        "65302e0fa48e470cafc9993a77ed7d64": {
          "model_module": "@jupyter-widgets/controls",
          "model_name": "DescriptionStyleModel",
          "model_module_version": "1.5.0",
          "state": {
            "_model_module": "@jupyter-widgets/controls",
            "_model_module_version": "1.5.0",
            "_model_name": "DescriptionStyleModel",
            "_view_count": null,
            "_view_module": "@jupyter-widgets/base",
            "_view_module_version": "1.2.0",
            "_view_name": "StyleView",
            "description_width": ""
          }
        },
        "ee427f3c87664402ad18e27f9f89ee74": {
          "model_module": "@jupyter-widgets/controls",
          "model_name": "HBoxModel",
          "model_module_version": "1.5.0",
          "state": {
            "_dom_classes": [],
            "_model_module": "@jupyter-widgets/controls",
            "_model_module_version": "1.5.0",
            "_model_name": "HBoxModel",
            "_view_count": null,
            "_view_module": "@jupyter-widgets/controls",
            "_view_module_version": "1.5.0",
            "_view_name": "HBoxView",
            "box_style": "",
            "children": [
              "IPY_MODEL_dc895e5d1c644727b270f212f3c3352e",
              "IPY_MODEL_09a97bd5f3124819aef3249be4061171",
              "IPY_MODEL_008c9a3caac148ee81fb6708b27a1fc7"
            ],
            "layout": "IPY_MODEL_cf5169ff20ec48979b6a1ed686b50ddb"
          }
        },
        "dc895e5d1c644727b270f212f3c3352e": {
          "model_module": "@jupyter-widgets/controls",
          "model_name": "HTMLModel",
          "model_module_version": "1.5.0",
          "state": {
            "_dom_classes": [],
            "_model_module": "@jupyter-widgets/controls",
            "_model_module_version": "1.5.0",
            "_model_name": "HTMLModel",
            "_view_count": null,
            "_view_module": "@jupyter-widgets/controls",
            "_view_module_version": "1.5.0",
            "_view_name": "HTMLView",
            "description": "",
            "description_tooltip": null,
            "layout": "IPY_MODEL_8d932b838579496ca5121dae89520d91",
            "placeholder": "​",
            "style": "IPY_MODEL_da8fbe5a85d7438d9c4a3e00cd04043f",
            "value": "model.safetensors: 100%"
          }
        },
        "09a97bd5f3124819aef3249be4061171": {
          "model_module": "@jupyter-widgets/controls",
          "model_name": "FloatProgressModel",
          "model_module_version": "1.5.0",
          "state": {
            "_dom_classes": [],
            "_model_module": "@jupyter-widgets/controls",
            "_model_module_version": "1.5.0",
            "_model_name": "FloatProgressModel",
            "_view_count": null,
            "_view_module": "@jupyter-widgets/controls",
            "_view_module_version": "1.5.0",
            "_view_name": "ProgressView",
            "bar_style": "success",
            "description": "",
            "description_tooltip": null,
            "layout": "IPY_MODEL_358b71ef9e654acbbfb6d295daba182a",
            "max": 90868376,
            "min": 0,
            "orientation": "horizontal",
            "style": "IPY_MODEL_432f17127f8645768cb974c5cd2d45fe",
            "value": 90868376
          }
        },
        "008c9a3caac148ee81fb6708b27a1fc7": {
          "model_module": "@jupyter-widgets/controls",
          "model_name": "HTMLModel",
          "model_module_version": "1.5.0",
          "state": {
            "_dom_classes": [],
            "_model_module": "@jupyter-widgets/controls",
            "_model_module_version": "1.5.0",
            "_model_name": "HTMLModel",
            "_view_count": null,
            "_view_module": "@jupyter-widgets/controls",
            "_view_module_version": "1.5.0",
            "_view_name": "HTMLView",
            "description": "",
            "description_tooltip": null,
            "layout": "IPY_MODEL_a4cc4f541e0a47bdb4f9df7909bc0d4e",
            "placeholder": "​",
            "style": "IPY_MODEL_a086ab54758349239b8658c1c8ec25f1",
            "value": " 90.9M/90.9M [00:01&lt;00:00, 99.7MB/s]"
          }
        },
        "cf5169ff20ec48979b6a1ed686b50ddb": {
          "model_module": "@jupyter-widgets/base",
          "model_name": "LayoutModel",
          "model_module_version": "1.2.0",
          "state": {
            "_model_module": "@jupyter-widgets/base",
            "_model_module_version": "1.2.0",
            "_model_name": "LayoutModel",
            "_view_count": null,
            "_view_module": "@jupyter-widgets/base",
            "_view_module_version": "1.2.0",
            "_view_name": "LayoutView",
            "align_content": null,
            "align_items": null,
            "align_self": null,
            "border": null,
            "bottom": null,
            "display": null,
            "flex": null,
            "flex_flow": null,
            "grid_area": null,
            "grid_auto_columns": null,
            "grid_auto_flow": null,
            "grid_auto_rows": null,
            "grid_column": null,
            "grid_gap": null,
            "grid_row": null,
            "grid_template_areas": null,
            "grid_template_columns": null,
            "grid_template_rows": null,
            "height": null,
            "justify_content": null,
            "justify_items": null,
            "left": null,
            "margin": null,
            "max_height": null,
            "max_width": null,
            "min_height": null,
            "min_width": null,
            "object_fit": null,
            "object_position": null,
            "order": null,
            "overflow": null,
            "overflow_x": null,
            "overflow_y": null,
            "padding": null,
            "right": null,
            "top": null,
            "visibility": null,
            "width": null
          }
        },
        "8d932b838579496ca5121dae89520d91": {
          "model_module": "@jupyter-widgets/base",
          "model_name": "LayoutModel",
          "model_module_version": "1.2.0",
          "state": {
            "_model_module": "@jupyter-widgets/base",
            "_model_module_version": "1.2.0",
            "_model_name": "LayoutModel",
            "_view_count": null,
            "_view_module": "@jupyter-widgets/base",
            "_view_module_version": "1.2.0",
            "_view_name": "LayoutView",
            "align_content": null,
            "align_items": null,
            "align_self": null,
            "border": null,
            "bottom": null,
            "display": null,
            "flex": null,
            "flex_flow": null,
            "grid_area": null,
            "grid_auto_columns": null,
            "grid_auto_flow": null,
            "grid_auto_rows": null,
            "grid_column": null,
            "grid_gap": null,
            "grid_row": null,
            "grid_template_areas": null,
            "grid_template_columns": null,
            "grid_template_rows": null,
            "height": null,
            "justify_content": null,
            "justify_items": null,
            "left": null,
            "margin": null,
            "max_height": null,
            "max_width": null,
            "min_height": null,
            "min_width": null,
            "object_fit": null,
            "object_position": null,
            "order": null,
            "overflow": null,
            "overflow_x": null,
            "overflow_y": null,
            "padding": null,
            "right": null,
            "top": null,
            "visibility": null,
            "width": null
          }
        },
        "da8fbe5a85d7438d9c4a3e00cd04043f": {
          "model_module": "@jupyter-widgets/controls",
          "model_name": "DescriptionStyleModel",
          "model_module_version": "1.5.0",
          "state": {
            "_model_module": "@jupyter-widgets/controls",
            "_model_module_version": "1.5.0",
            "_model_name": "DescriptionStyleModel",
            "_view_count": null,
            "_view_module": "@jupyter-widgets/base",
            "_view_module_version": "1.2.0",
            "_view_name": "StyleView",
            "description_width": ""
          }
        },
        "358b71ef9e654acbbfb6d295daba182a": {
          "model_module": "@jupyter-widgets/base",
          "model_name": "LayoutModel",
          "model_module_version": "1.2.0",
          "state": {
            "_model_module": "@jupyter-widgets/base",
            "_model_module_version": "1.2.0",
            "_model_name": "LayoutModel",
            "_view_count": null,
            "_view_module": "@jupyter-widgets/base",
            "_view_module_version": "1.2.0",
            "_view_name": "LayoutView",
            "align_content": null,
            "align_items": null,
            "align_self": null,
            "border": null,
            "bottom": null,
            "display": null,
            "flex": null,
            "flex_flow": null,
            "grid_area": null,
            "grid_auto_columns": null,
            "grid_auto_flow": null,
            "grid_auto_rows": null,
            "grid_column": null,
            "grid_gap": null,
            "grid_row": null,
            "grid_template_areas": null,
            "grid_template_columns": null,
            "grid_template_rows": null,
            "height": null,
            "justify_content": null,
            "justify_items": null,
            "left": null,
            "margin": null,
            "max_height": null,
            "max_width": null,
            "min_height": null,
            "min_width": null,
            "object_fit": null,
            "object_position": null,
            "order": null,
            "overflow": null,
            "overflow_x": null,
            "overflow_y": null,
            "padding": null,
            "right": null,
            "top": null,
            "visibility": null,
            "width": null
          }
        },
        "432f17127f8645768cb974c5cd2d45fe": {
          "model_module": "@jupyter-widgets/controls",
          "model_name": "ProgressStyleModel",
          "model_module_version": "1.5.0",
          "state": {
            "_model_module": "@jupyter-widgets/controls",
            "_model_module_version": "1.5.0",
            "_model_name": "ProgressStyleModel",
            "_view_count": null,
            "_view_module": "@jupyter-widgets/base",
            "_view_module_version": "1.2.0",
            "_view_name": "StyleView",
            "bar_color": null,
            "description_width": ""
          }
        },
        "a4cc4f541e0a47bdb4f9df7909bc0d4e": {
          "model_module": "@jupyter-widgets/base",
          "model_name": "LayoutModel",
          "model_module_version": "1.2.0",
          "state": {
            "_model_module": "@jupyter-widgets/base",
            "_model_module_version": "1.2.0",
            "_model_name": "LayoutModel",
            "_view_count": null,
            "_view_module": "@jupyter-widgets/base",
            "_view_module_version": "1.2.0",
            "_view_name": "LayoutView",
            "align_content": null,
            "align_items": null,
            "align_self": null,
            "border": null,
            "bottom": null,
            "display": null,
            "flex": null,
            "flex_flow": null,
            "grid_area": null,
            "grid_auto_columns": null,
            "grid_auto_flow": null,
            "grid_auto_rows": null,
            "grid_column": null,
            "grid_gap": null,
            "grid_row": null,
            "grid_template_areas": null,
            "grid_template_columns": null,
            "grid_template_rows": null,
            "height": null,
            "justify_content": null,
            "justify_items": null,
            "left": null,
            "margin": null,
            "max_height": null,
            "max_width": null,
            "min_height": null,
            "min_width": null,
            "object_fit": null,
            "object_position": null,
            "order": null,
            "overflow": null,
            "overflow_x": null,
            "overflow_y": null,
            "padding": null,
            "right": null,
            "top": null,
            "visibility": null,
            "width": null
          }
        },
        "a086ab54758349239b8658c1c8ec25f1": {
          "model_module": "@jupyter-widgets/controls",
          "model_name": "DescriptionStyleModel",
          "model_module_version": "1.5.0",
          "state": {
            "_model_module": "@jupyter-widgets/controls",
            "_model_module_version": "1.5.0",
            "_model_name": "DescriptionStyleModel",
            "_view_count": null,
            "_view_module": "@jupyter-widgets/base",
            "_view_module_version": "1.2.0",
            "_view_name": "StyleView",
            "description_width": ""
          }
        },
        "6d131efa5ff04f94b6b0a793e1addba4": {
          "model_module": "@jupyter-widgets/controls",
          "model_name": "HBoxModel",
          "model_module_version": "1.5.0",
          "state": {
            "_dom_classes": [],
            "_model_module": "@jupyter-widgets/controls",
            "_model_module_version": "1.5.0",
            "_model_name": "HBoxModel",
            "_view_count": null,
            "_view_module": "@jupyter-widgets/controls",
            "_view_module_version": "1.5.0",
            "_view_name": "HBoxView",
            "box_style": "",
            "children": [
              "IPY_MODEL_111249a7738e418f9cbfe5585a4de888",
              "IPY_MODEL_0c3fe4001b5b4a5898905bca27311658",
              "IPY_MODEL_a5745f6aee1c4fb9a996b72318deba90"
            ],
            "layout": "IPY_MODEL_cbabb2015043483fb6c6491b1b409ca3"
          }
        },
        "111249a7738e418f9cbfe5585a4de888": {
          "model_module": "@jupyter-widgets/controls",
          "model_name": "HTMLModel",
          "model_module_version": "1.5.0",
          "state": {
            "_dom_classes": [],
            "_model_module": "@jupyter-widgets/controls",
            "_model_module_version": "1.5.0",
            "_model_name": "HTMLModel",
            "_view_count": null,
            "_view_module": "@jupyter-widgets/controls",
            "_view_module_version": "1.5.0",
            "_view_name": "HTMLView",
            "description": "",
            "description_tooltip": null,
            "layout": "IPY_MODEL_7aee86f4ab4b447aa2ad011fdcf28f5a",
            "placeholder": "​",
            "style": "IPY_MODEL_45a4d3235f4641c899b354982c53c05e",
            "value": "tokenizer_config.json: 100%"
          }
        },
        "0c3fe4001b5b4a5898905bca27311658": {
          "model_module": "@jupyter-widgets/controls",
          "model_name": "FloatProgressModel",
          "model_module_version": "1.5.0",
          "state": {
            "_dom_classes": [],
            "_model_module": "@jupyter-widgets/controls",
            "_model_module_version": "1.5.0",
            "_model_name": "FloatProgressModel",
            "_view_count": null,
            "_view_module": "@jupyter-widgets/controls",
            "_view_module_version": "1.5.0",
            "_view_name": "ProgressView",
            "bar_style": "success",
            "description": "",
            "description_tooltip": null,
            "layout": "IPY_MODEL_c1f609eab2314b8d9ef2c0d12d0f2b97",
            "max": 350,
            "min": 0,
            "orientation": "horizontal",
            "style": "IPY_MODEL_0393c44179964b5ebe335c55896fcee4",
            "value": 350
          }
        },
        "a5745f6aee1c4fb9a996b72318deba90": {
          "model_module": "@jupyter-widgets/controls",
          "model_name": "HTMLModel",
          "model_module_version": "1.5.0",
          "state": {
            "_dom_classes": [],
            "_model_module": "@jupyter-widgets/controls",
            "_model_module_version": "1.5.0",
            "_model_name": "HTMLModel",
            "_view_count": null,
            "_view_module": "@jupyter-widgets/controls",
            "_view_module_version": "1.5.0",
            "_view_name": "HTMLView",
            "description": "",
            "description_tooltip": null,
            "layout": "IPY_MODEL_ad577524a653478e91d220c29f44bb02",
            "placeholder": "​",
            "style": "IPY_MODEL_3e2d3f1331e54c24a88856684ca05ffd",
            "value": " 350/350 [00:00&lt;00:00, 45.1kB/s]"
          }
        },
        "cbabb2015043483fb6c6491b1b409ca3": {
          "model_module": "@jupyter-widgets/base",
          "model_name": "LayoutModel",
          "model_module_version": "1.2.0",
          "state": {
            "_model_module": "@jupyter-widgets/base",
            "_model_module_version": "1.2.0",
            "_model_name": "LayoutModel",
            "_view_count": null,
            "_view_module": "@jupyter-widgets/base",
            "_view_module_version": "1.2.0",
            "_view_name": "LayoutView",
            "align_content": null,
            "align_items": null,
            "align_self": null,
            "border": null,
            "bottom": null,
            "display": null,
            "flex": null,
            "flex_flow": null,
            "grid_area": null,
            "grid_auto_columns": null,
            "grid_auto_flow": null,
            "grid_auto_rows": null,
            "grid_column": null,
            "grid_gap": null,
            "grid_row": null,
            "grid_template_areas": null,
            "grid_template_columns": null,
            "grid_template_rows": null,
            "height": null,
            "justify_content": null,
            "justify_items": null,
            "left": null,
            "margin": null,
            "max_height": null,
            "max_width": null,
            "min_height": null,
            "min_width": null,
            "object_fit": null,
            "object_position": null,
            "order": null,
            "overflow": null,
            "overflow_x": null,
            "overflow_y": null,
            "padding": null,
            "right": null,
            "top": null,
            "visibility": null,
            "width": null
          }
        },
        "7aee86f4ab4b447aa2ad011fdcf28f5a": {
          "model_module": "@jupyter-widgets/base",
          "model_name": "LayoutModel",
          "model_module_version": "1.2.0",
          "state": {
            "_model_module": "@jupyter-widgets/base",
            "_model_module_version": "1.2.0",
            "_model_name": "LayoutModel",
            "_view_count": null,
            "_view_module": "@jupyter-widgets/base",
            "_view_module_version": "1.2.0",
            "_view_name": "LayoutView",
            "align_content": null,
            "align_items": null,
            "align_self": null,
            "border": null,
            "bottom": null,
            "display": null,
            "flex": null,
            "flex_flow": null,
            "grid_area": null,
            "grid_auto_columns": null,
            "grid_auto_flow": null,
            "grid_auto_rows": null,
            "grid_column": null,
            "grid_gap": null,
            "grid_row": null,
            "grid_template_areas": null,
            "grid_template_columns": null,
            "grid_template_rows": null,
            "height": null,
            "justify_content": null,
            "justify_items": null,
            "left": null,
            "margin": null,
            "max_height": null,
            "max_width": null,
            "min_height": null,
            "min_width": null,
            "object_fit": null,
            "object_position": null,
            "order": null,
            "overflow": null,
            "overflow_x": null,
            "overflow_y": null,
            "padding": null,
            "right": null,
            "top": null,
            "visibility": null,
            "width": null
          }
        },
        "45a4d3235f4641c899b354982c53c05e": {
          "model_module": "@jupyter-widgets/controls",
          "model_name": "DescriptionStyleModel",
          "model_module_version": "1.5.0",
          "state": {
            "_model_module": "@jupyter-widgets/controls",
            "_model_module_version": "1.5.0",
            "_model_name": "DescriptionStyleModel",
            "_view_count": null,
            "_view_module": "@jupyter-widgets/base",
            "_view_module_version": "1.2.0",
            "_view_name": "StyleView",
            "description_width": ""
          }
        },
        "c1f609eab2314b8d9ef2c0d12d0f2b97": {
          "model_module": "@jupyter-widgets/base",
          "model_name": "LayoutModel",
          "model_module_version": "1.2.0",
          "state": {
            "_model_module": "@jupyter-widgets/base",
            "_model_module_version": "1.2.0",
            "_model_name": "LayoutModel",
            "_view_count": null,
            "_view_module": "@jupyter-widgets/base",
            "_view_module_version": "1.2.0",
            "_view_name": "LayoutView",
            "align_content": null,
            "align_items": null,
            "align_self": null,
            "border": null,
            "bottom": null,
            "display": null,
            "flex": null,
            "flex_flow": null,
            "grid_area": null,
            "grid_auto_columns": null,
            "grid_auto_flow": null,
            "grid_auto_rows": null,
            "grid_column": null,
            "grid_gap": null,
            "grid_row": null,
            "grid_template_areas": null,
            "grid_template_columns": null,
            "grid_template_rows": null,
            "height": null,
            "justify_content": null,
            "justify_items": null,
            "left": null,
            "margin": null,
            "max_height": null,
            "max_width": null,
            "min_height": null,
            "min_width": null,
            "object_fit": null,
            "object_position": null,
            "order": null,
            "overflow": null,
            "overflow_x": null,
            "overflow_y": null,
            "padding": null,
            "right": null,
            "top": null,
            "visibility": null,
            "width": null
          }
        },
        "0393c44179964b5ebe335c55896fcee4": {
          "model_module": "@jupyter-widgets/controls",
          "model_name": "ProgressStyleModel",
          "model_module_version": "1.5.0",
          "state": {
            "_model_module": "@jupyter-widgets/controls",
            "_model_module_version": "1.5.0",
            "_model_name": "ProgressStyleModel",
            "_view_count": null,
            "_view_module": "@jupyter-widgets/base",
            "_view_module_version": "1.2.0",
            "_view_name": "StyleView",
            "bar_color": null,
            "description_width": ""
          }
        },
        "ad577524a653478e91d220c29f44bb02": {
          "model_module": "@jupyter-widgets/base",
          "model_name": "LayoutModel",
          "model_module_version": "1.2.0",
          "state": {
            "_model_module": "@jupyter-widgets/base",
            "_model_module_version": "1.2.0",
            "_model_name": "LayoutModel",
            "_view_count": null,
            "_view_module": "@jupyter-widgets/base",
            "_view_module_version": "1.2.0",
            "_view_name": "LayoutView",
            "align_content": null,
            "align_items": null,
            "align_self": null,
            "border": null,
            "bottom": null,
            "display": null,
            "flex": null,
            "flex_flow": null,
            "grid_area": null,
            "grid_auto_columns": null,
            "grid_auto_flow": null,
            "grid_auto_rows": null,
            "grid_column": null,
            "grid_gap": null,
            "grid_row": null,
            "grid_template_areas": null,
            "grid_template_columns": null,
            "grid_template_rows": null,
            "height": null,
            "justify_content": null,
            "justify_items": null,
            "left": null,
            "margin": null,
            "max_height": null,
            "max_width": null,
            "min_height": null,
            "min_width": null,
            "object_fit": null,
            "object_position": null,
            "order": null,
            "overflow": null,
            "overflow_x": null,
            "overflow_y": null,
            "padding": null,
            "right": null,
            "top": null,
            "visibility": null,
            "width": null
          }
        },
        "3e2d3f1331e54c24a88856684ca05ffd": {
          "model_module": "@jupyter-widgets/controls",
          "model_name": "DescriptionStyleModel",
          "model_module_version": "1.5.0",
          "state": {
            "_model_module": "@jupyter-widgets/controls",
            "_model_module_version": "1.5.0",
            "_model_name": "DescriptionStyleModel",
            "_view_count": null,
            "_view_module": "@jupyter-widgets/base",
            "_view_module_version": "1.2.0",
            "_view_name": "StyleView",
            "description_width": ""
          }
        },
        "242f442b9f44454d8daeff9f51264db5": {
          "model_module": "@jupyter-widgets/controls",
          "model_name": "HBoxModel",
          "model_module_version": "1.5.0",
          "state": {
            "_dom_classes": [],
            "_model_module": "@jupyter-widgets/controls",
            "_model_module_version": "1.5.0",
            "_model_name": "HBoxModel",
            "_view_count": null,
            "_view_module": "@jupyter-widgets/controls",
            "_view_module_version": "1.5.0",
            "_view_name": "HBoxView",
            "box_style": "",
            "children": [
              "IPY_MODEL_61c15cc933ff48dc8719a74537045d30",
              "IPY_MODEL_d884feffed234346b7e86b058ab797f0",
              "IPY_MODEL_f7de6ee80745456298944791c5e267c6"
            ],
            "layout": "IPY_MODEL_7c71d5a8fd11423daecf11870dc9b528"
          }
        },
        "61c15cc933ff48dc8719a74537045d30": {
          "model_module": "@jupyter-widgets/controls",
          "model_name": "HTMLModel",
          "model_module_version": "1.5.0",
          "state": {
            "_dom_classes": [],
            "_model_module": "@jupyter-widgets/controls",
            "_model_module_version": "1.5.0",
            "_model_name": "HTMLModel",
            "_view_count": null,
            "_view_module": "@jupyter-widgets/controls",
            "_view_module_version": "1.5.0",
            "_view_name": "HTMLView",
            "description": "",
            "description_tooltip": null,
            "layout": "IPY_MODEL_db9e96548c3944ca92457be7ecce05bf",
            "placeholder": "​",
            "style": "IPY_MODEL_852cacc1d21e43ff8a4e79e94a0b9048",
            "value": "vocab.txt: "
          }
        },
        "d884feffed234346b7e86b058ab797f0": {
          "model_module": "@jupyter-widgets/controls",
          "model_name": "FloatProgressModel",
          "model_module_version": "1.5.0",
          "state": {
            "_dom_classes": [],
            "_model_module": "@jupyter-widgets/controls",
            "_model_module_version": "1.5.0",
            "_model_name": "FloatProgressModel",
            "_view_count": null,
            "_view_module": "@jupyter-widgets/controls",
            "_view_module_version": "1.5.0",
            "_view_name": "ProgressView",
            "bar_style": "success",
            "description": "",
            "description_tooltip": null,
            "layout": "IPY_MODEL_478021530eae43f6a159e0b3a29019eb",
            "max": 1,
            "min": 0,
            "orientation": "horizontal",
            "style": "IPY_MODEL_e11329278e944bd39f1881c3dc37c114",
            "value": 1
          }
        },
        "f7de6ee80745456298944791c5e267c6": {
          "model_module": "@jupyter-widgets/controls",
          "model_name": "HTMLModel",
          "model_module_version": "1.5.0",
          "state": {
            "_dom_classes": [],
            "_model_module": "@jupyter-widgets/controls",
            "_model_module_version": "1.5.0",
            "_model_name": "HTMLModel",
            "_view_count": null,
            "_view_module": "@jupyter-widgets/controls",
            "_view_module_version": "1.5.0",
            "_view_name": "HTMLView",
            "description": "",
            "description_tooltip": null,
            "layout": "IPY_MODEL_3caa2d1d08ec45fb8351c3e814162ef8",
            "placeholder": "​",
            "style": "IPY_MODEL_f65886be071a477e98e302343e5e10f0",
            "value": " 232k/? [00:00&lt;00:00, 11.4MB/s]"
          }
        },
        "7c71d5a8fd11423daecf11870dc9b528": {
          "model_module": "@jupyter-widgets/base",
          "model_name": "LayoutModel",
          "model_module_version": "1.2.0",
          "state": {
            "_model_module": "@jupyter-widgets/base",
            "_model_module_version": "1.2.0",
            "_model_name": "LayoutModel",
            "_view_count": null,
            "_view_module": "@jupyter-widgets/base",
            "_view_module_version": "1.2.0",
            "_view_name": "LayoutView",
            "align_content": null,
            "align_items": null,
            "align_self": null,
            "border": null,
            "bottom": null,
            "display": null,
            "flex": null,
            "flex_flow": null,
            "grid_area": null,
            "grid_auto_columns": null,
            "grid_auto_flow": null,
            "grid_auto_rows": null,
            "grid_column": null,
            "grid_gap": null,
            "grid_row": null,
            "grid_template_areas": null,
            "grid_template_columns": null,
            "grid_template_rows": null,
            "height": null,
            "justify_content": null,
            "justify_items": null,
            "left": null,
            "margin": null,
            "max_height": null,
            "max_width": null,
            "min_height": null,
            "min_width": null,
            "object_fit": null,
            "object_position": null,
            "order": null,
            "overflow": null,
            "overflow_x": null,
            "overflow_y": null,
            "padding": null,
            "right": null,
            "top": null,
            "visibility": null,
            "width": null
          }
        },
        "db9e96548c3944ca92457be7ecce05bf": {
          "model_module": "@jupyter-widgets/base",
          "model_name": "LayoutModel",
          "model_module_version": "1.2.0",
          "state": {
            "_model_module": "@jupyter-widgets/base",
            "_model_module_version": "1.2.0",
            "_model_name": "LayoutModel",
            "_view_count": null,
            "_view_module": "@jupyter-widgets/base",
            "_view_module_version": "1.2.0",
            "_view_name": "LayoutView",
            "align_content": null,
            "align_items": null,
            "align_self": null,
            "border": null,
            "bottom": null,
            "display": null,
            "flex": null,
            "flex_flow": null,
            "grid_area": null,
            "grid_auto_columns": null,
            "grid_auto_flow": null,
            "grid_auto_rows": null,
            "grid_column": null,
            "grid_gap": null,
            "grid_row": null,
            "grid_template_areas": null,
            "grid_template_columns": null,
            "grid_template_rows": null,
            "height": null,
            "justify_content": null,
            "justify_items": null,
            "left": null,
            "margin": null,
            "max_height": null,
            "max_width": null,
            "min_height": null,
            "min_width": null,
            "object_fit": null,
            "object_position": null,
            "order": null,
            "overflow": null,
            "overflow_x": null,
            "overflow_y": null,
            "padding": null,
            "right": null,
            "top": null,
            "visibility": null,
            "width": null
          }
        },
        "852cacc1d21e43ff8a4e79e94a0b9048": {
          "model_module": "@jupyter-widgets/controls",
          "model_name": "DescriptionStyleModel",
          "model_module_version": "1.5.0",
          "state": {
            "_model_module": "@jupyter-widgets/controls",
            "_model_module_version": "1.5.0",
            "_model_name": "DescriptionStyleModel",
            "_view_count": null,
            "_view_module": "@jupyter-widgets/base",
            "_view_module_version": "1.2.0",
            "_view_name": "StyleView",
            "description_width": ""
          }
        },
        "478021530eae43f6a159e0b3a29019eb": {
          "model_module": "@jupyter-widgets/base",
          "model_name": "LayoutModel",
          "model_module_version": "1.2.0",
          "state": {
            "_model_module": "@jupyter-widgets/base",
            "_model_module_version": "1.2.0",
            "_model_name": "LayoutModel",
            "_view_count": null,
            "_view_module": "@jupyter-widgets/base",
            "_view_module_version": "1.2.0",
            "_view_name": "LayoutView",
            "align_content": null,
            "align_items": null,
            "align_self": null,
            "border": null,
            "bottom": null,
            "display": null,
            "flex": null,
            "flex_flow": null,
            "grid_area": null,
            "grid_auto_columns": null,
            "grid_auto_flow": null,
            "grid_auto_rows": null,
            "grid_column": null,
            "grid_gap": null,
            "grid_row": null,
            "grid_template_areas": null,
            "grid_template_columns": null,
            "grid_template_rows": null,
            "height": null,
            "justify_content": null,
            "justify_items": null,
            "left": null,
            "margin": null,
            "max_height": null,
            "max_width": null,
            "min_height": null,
            "min_width": null,
            "object_fit": null,
            "object_position": null,
            "order": null,
            "overflow": null,
            "overflow_x": null,
            "overflow_y": null,
            "padding": null,
            "right": null,
            "top": null,
            "visibility": null,
            "width": "20px"
          }
        },
        "e11329278e944bd39f1881c3dc37c114": {
          "model_module": "@jupyter-widgets/controls",
          "model_name": "ProgressStyleModel",
          "model_module_version": "1.5.0",
          "state": {
            "_model_module": "@jupyter-widgets/controls",
            "_model_module_version": "1.5.0",
            "_model_name": "ProgressStyleModel",
            "_view_count": null,
            "_view_module": "@jupyter-widgets/base",
            "_view_module_version": "1.2.0",
            "_view_name": "StyleView",
            "bar_color": null,
            "description_width": ""
          }
        },
        "3caa2d1d08ec45fb8351c3e814162ef8": {
          "model_module": "@jupyter-widgets/base",
          "model_name": "LayoutModel",
          "model_module_version": "1.2.0",
          "state": {
            "_model_module": "@jupyter-widgets/base",
            "_model_module_version": "1.2.0",
            "_model_name": "LayoutModel",
            "_view_count": null,
            "_view_module": "@jupyter-widgets/base",
            "_view_module_version": "1.2.0",
            "_view_name": "LayoutView",
            "align_content": null,
            "align_items": null,
            "align_self": null,
            "border": null,
            "bottom": null,
            "display": null,
            "flex": null,
            "flex_flow": null,
            "grid_area": null,
            "grid_auto_columns": null,
            "grid_auto_flow": null,
            "grid_auto_rows": null,
            "grid_column": null,
            "grid_gap": null,
            "grid_row": null,
            "grid_template_areas": null,
            "grid_template_columns": null,
            "grid_template_rows": null,
            "height": null,
            "justify_content": null,
            "justify_items": null,
            "left": null,
            "margin": null,
            "max_height": null,
            "max_width": null,
            "min_height": null,
            "min_width": null,
            "object_fit": null,
            "object_position": null,
            "order": null,
            "overflow": null,
            "overflow_x": null,
            "overflow_y": null,
            "padding": null,
            "right": null,
            "top": null,
            "visibility": null,
            "width": null
          }
        },
        "f65886be071a477e98e302343e5e10f0": {
          "model_module": "@jupyter-widgets/controls",
          "model_name": "DescriptionStyleModel",
          "model_module_version": "1.5.0",
          "state": {
            "_model_module": "@jupyter-widgets/controls",
            "_model_module_version": "1.5.0",
            "_model_name": "DescriptionStyleModel",
            "_view_count": null,
            "_view_module": "@jupyter-widgets/base",
            "_view_module_version": "1.2.0",
            "_view_name": "StyleView",
            "description_width": ""
          }
        },
        "d716822cfeb2406bad23002e8587d144": {
          "model_module": "@jupyter-widgets/controls",
          "model_name": "HBoxModel",
          "model_module_version": "1.5.0",
          "state": {
            "_dom_classes": [],
            "_model_module": "@jupyter-widgets/controls",
            "_model_module_version": "1.5.0",
            "_model_name": "HBoxModel",
            "_view_count": null,
            "_view_module": "@jupyter-widgets/controls",
            "_view_module_version": "1.5.0",
            "_view_name": "HBoxView",
            "box_style": "",
            "children": [
              "IPY_MODEL_1e3e4bd5098c40459fbcd6c22d8ddc81",
              "IPY_MODEL_71c3eb654c4446c8871df88fe211d239",
              "IPY_MODEL_f8c2e4f177d14960b945a0c4b48a1b1f"
            ],
            "layout": "IPY_MODEL_2f9eea33b51e404397c3dbadbbc84252"
          }
        },
        "1e3e4bd5098c40459fbcd6c22d8ddc81": {
          "model_module": "@jupyter-widgets/controls",
          "model_name": "HTMLModel",
          "model_module_version": "1.5.0",
          "state": {
            "_dom_classes": [],
            "_model_module": "@jupyter-widgets/controls",
            "_model_module_version": "1.5.0",
            "_model_name": "HTMLModel",
            "_view_count": null,
            "_view_module": "@jupyter-widgets/controls",
            "_view_module_version": "1.5.0",
            "_view_name": "HTMLView",
            "description": "",
            "description_tooltip": null,
            "layout": "IPY_MODEL_cc740f3a5eae44b598c625c87c9f85fe",
            "placeholder": "​",
            "style": "IPY_MODEL_aab764e51e024a6c9682cb73f6adf211",
            "value": "tokenizer.json: "
          }
        },
        "71c3eb654c4446c8871df88fe211d239": {
          "model_module": "@jupyter-widgets/controls",
          "model_name": "FloatProgressModel",
          "model_module_version": "1.5.0",
          "state": {
            "_dom_classes": [],
            "_model_module": "@jupyter-widgets/controls",
            "_model_module_version": "1.5.0",
            "_model_name": "FloatProgressModel",
            "_view_count": null,
            "_view_module": "@jupyter-widgets/controls",
            "_view_module_version": "1.5.0",
            "_view_name": "ProgressView",
            "bar_style": "success",
            "description": "",
            "description_tooltip": null,
            "layout": "IPY_MODEL_0b16558748ca4a789324952209e40b10",
            "max": 1,
            "min": 0,
            "orientation": "horizontal",
            "style": "IPY_MODEL_c062cdcab01341eda62be024bdf880d3",
            "value": 1
          }
        },
        "f8c2e4f177d14960b945a0c4b48a1b1f": {
          "model_module": "@jupyter-widgets/controls",
          "model_name": "HTMLModel",
          "model_module_version": "1.5.0",
          "state": {
            "_dom_classes": [],
            "_model_module": "@jupyter-widgets/controls",
            "_model_module_version": "1.5.0",
            "_model_name": "HTMLModel",
            "_view_count": null,
            "_view_module": "@jupyter-widgets/controls",
            "_view_module_version": "1.5.0",
            "_view_name": "HTMLView",
            "description": "",
            "description_tooltip": null,
            "layout": "IPY_MODEL_01161a2faf0e498a83731aa21c101318",
            "placeholder": "​",
            "style": "IPY_MODEL_873eda169acc4715b369516ba11cbd7b",
            "value": " 466k/? [00:00&lt;00:00, 12.0MB/s]"
          }
        },
        "2f9eea33b51e404397c3dbadbbc84252": {
          "model_module": "@jupyter-widgets/base",
          "model_name": "LayoutModel",
          "model_module_version": "1.2.0",
          "state": {
            "_model_module": "@jupyter-widgets/base",
            "_model_module_version": "1.2.0",
            "_model_name": "LayoutModel",
            "_view_count": null,
            "_view_module": "@jupyter-widgets/base",
            "_view_module_version": "1.2.0",
            "_view_name": "LayoutView",
            "align_content": null,
            "align_items": null,
            "align_self": null,
            "border": null,
            "bottom": null,
            "display": null,
            "flex": null,
            "flex_flow": null,
            "grid_area": null,
            "grid_auto_columns": null,
            "grid_auto_flow": null,
            "grid_auto_rows": null,
            "grid_column": null,
            "grid_gap": null,
            "grid_row": null,
            "grid_template_areas": null,
            "grid_template_columns": null,
            "grid_template_rows": null,
            "height": null,
            "justify_content": null,
            "justify_items": null,
            "left": null,
            "margin": null,
            "max_height": null,
            "max_width": null,
            "min_height": null,
            "min_width": null,
            "object_fit": null,
            "object_position": null,
            "order": null,
            "overflow": null,
            "overflow_x": null,
            "overflow_y": null,
            "padding": null,
            "right": null,
            "top": null,
            "visibility": null,
            "width": null
          }
        },
        "cc740f3a5eae44b598c625c87c9f85fe": {
          "model_module": "@jupyter-widgets/base",
          "model_name": "LayoutModel",
          "model_module_version": "1.2.0",
          "state": {
            "_model_module": "@jupyter-widgets/base",
            "_model_module_version": "1.2.0",
            "_model_name": "LayoutModel",
            "_view_count": null,
            "_view_module": "@jupyter-widgets/base",
            "_view_module_version": "1.2.0",
            "_view_name": "LayoutView",
            "align_content": null,
            "align_items": null,
            "align_self": null,
            "border": null,
            "bottom": null,
            "display": null,
            "flex": null,
            "flex_flow": null,
            "grid_area": null,
            "grid_auto_columns": null,
            "grid_auto_flow": null,
            "grid_auto_rows": null,
            "grid_column": null,
            "grid_gap": null,
            "grid_row": null,
            "grid_template_areas": null,
            "grid_template_columns": null,
            "grid_template_rows": null,
            "height": null,
            "justify_content": null,
            "justify_items": null,
            "left": null,
            "margin": null,
            "max_height": null,
            "max_width": null,
            "min_height": null,
            "min_width": null,
            "object_fit": null,
            "object_position": null,
            "order": null,
            "overflow": null,
            "overflow_x": null,
            "overflow_y": null,
            "padding": null,
            "right": null,
            "top": null,
            "visibility": null,
            "width": null
          }
        },
        "aab764e51e024a6c9682cb73f6adf211": {
          "model_module": "@jupyter-widgets/controls",
          "model_name": "DescriptionStyleModel",
          "model_module_version": "1.5.0",
          "state": {
            "_model_module": "@jupyter-widgets/controls",
            "_model_module_version": "1.5.0",
            "_model_name": "DescriptionStyleModel",
            "_view_count": null,
            "_view_module": "@jupyter-widgets/base",
            "_view_module_version": "1.2.0",
            "_view_name": "StyleView",
            "description_width": ""
          }
        },
        "0b16558748ca4a789324952209e40b10": {
          "model_module": "@jupyter-widgets/base",
          "model_name": "LayoutModel",
          "model_module_version": "1.2.0",
          "state": {
            "_model_module": "@jupyter-widgets/base",
            "_model_module_version": "1.2.0",
            "_model_name": "LayoutModel",
            "_view_count": null,
            "_view_module": "@jupyter-widgets/base",
            "_view_module_version": "1.2.0",
            "_view_name": "LayoutView",
            "align_content": null,
            "align_items": null,
            "align_self": null,
            "border": null,
            "bottom": null,
            "display": null,
            "flex": null,
            "flex_flow": null,
            "grid_area": null,
            "grid_auto_columns": null,
            "grid_auto_flow": null,
            "grid_auto_rows": null,
            "grid_column": null,
            "grid_gap": null,
            "grid_row": null,
            "grid_template_areas": null,
            "grid_template_columns": null,
            "grid_template_rows": null,
            "height": null,
            "justify_content": null,
            "justify_items": null,
            "left": null,
            "margin": null,
            "max_height": null,
            "max_width": null,
            "min_height": null,
            "min_width": null,
            "object_fit": null,
            "object_position": null,
            "order": null,
            "overflow": null,
            "overflow_x": null,
            "overflow_y": null,
            "padding": null,
            "right": null,
            "top": null,
            "visibility": null,
            "width": "20px"
          }
        },
        "c062cdcab01341eda62be024bdf880d3": {
          "model_module": "@jupyter-widgets/controls",
          "model_name": "ProgressStyleModel",
          "model_module_version": "1.5.0",
          "state": {
            "_model_module": "@jupyter-widgets/controls",
            "_model_module_version": "1.5.0",
            "_model_name": "ProgressStyleModel",
            "_view_count": null,
            "_view_module": "@jupyter-widgets/base",
            "_view_module_version": "1.2.0",
            "_view_name": "StyleView",
            "bar_color": null,
            "description_width": ""
          }
        },
        "01161a2faf0e498a83731aa21c101318": {
          "model_module": "@jupyter-widgets/base",
          "model_name": "LayoutModel",
          "model_module_version": "1.2.0",
          "state": {
            "_model_module": "@jupyter-widgets/base",
            "_model_module_version": "1.2.0",
            "_model_name": "LayoutModel",
            "_view_count": null,
            "_view_module": "@jupyter-widgets/base",
            "_view_module_version": "1.2.0",
            "_view_name": "LayoutView",
            "align_content": null,
            "align_items": null,
            "align_self": null,
            "border": null,
            "bottom": null,
            "display": null,
            "flex": null,
            "flex_flow": null,
            "grid_area": null,
            "grid_auto_columns": null,
            "grid_auto_flow": null,
            "grid_auto_rows": null,
            "grid_column": null,
            "grid_gap": null,
            "grid_row": null,
            "grid_template_areas": null,
            "grid_template_columns": null,
            "grid_template_rows": null,
            "height": null,
            "justify_content": null,
            "justify_items": null,
            "left": null,
            "margin": null,
            "max_height": null,
            "max_width": null,
            "min_height": null,
            "min_width": null,
            "object_fit": null,
            "object_position": null,
            "order": null,
            "overflow": null,
            "overflow_x": null,
            "overflow_y": null,
            "padding": null,
            "right": null,
            "top": null,
            "visibility": null,
            "width": null
          }
        },
        "873eda169acc4715b369516ba11cbd7b": {
          "model_module": "@jupyter-widgets/controls",
          "model_name": "DescriptionStyleModel",
          "model_module_version": "1.5.0",
          "state": {
            "_model_module": "@jupyter-widgets/controls",
            "_model_module_version": "1.5.0",
            "_model_name": "DescriptionStyleModel",
            "_view_count": null,
            "_view_module": "@jupyter-widgets/base",
            "_view_module_version": "1.2.0",
            "_view_name": "StyleView",
            "description_width": ""
          }
        },
        "d04f1995fb5f42698dc2c09bc58e9546": {
          "model_module": "@jupyter-widgets/controls",
          "model_name": "HBoxModel",
          "model_module_version": "1.5.0",
          "state": {
            "_dom_classes": [],
            "_model_module": "@jupyter-widgets/controls",
            "_model_module_version": "1.5.0",
            "_model_name": "HBoxModel",
            "_view_count": null,
            "_view_module": "@jupyter-widgets/controls",
            "_view_module_version": "1.5.0",
            "_view_name": "HBoxView",
            "box_style": "",
            "children": [
              "IPY_MODEL_b70bf04830d441dc97877d7d7bf38e98",
              "IPY_MODEL_01a4660ccf4e473bb2f5577fb851833b",
              "IPY_MODEL_42d319d623ee408dbfee6b27329979a4"
            ],
            "layout": "IPY_MODEL_5ec16d4c5fe64a8cb5ba8aa32ec8bfeb"
          }
        },
        "b70bf04830d441dc97877d7d7bf38e98": {
          "model_module": "@jupyter-widgets/controls",
          "model_name": "HTMLModel",
          "model_module_version": "1.5.0",
          "state": {
            "_dom_classes": [],
            "_model_module": "@jupyter-widgets/controls",
            "_model_module_version": "1.5.0",
            "_model_name": "HTMLModel",
            "_view_count": null,
            "_view_module": "@jupyter-widgets/controls",
            "_view_module_version": "1.5.0",
            "_view_name": "HTMLView",
            "description": "",
            "description_tooltip": null,
            "layout": "IPY_MODEL_8e72c39a222043ce829652ef0a77f4b2",
            "placeholder": "​",
            "style": "IPY_MODEL_30b113dfd9084bb08f2e9d3e78b88681",
            "value": "special_tokens_map.json: 100%"
          }
        },
        "01a4660ccf4e473bb2f5577fb851833b": {
          "model_module": "@jupyter-widgets/controls",
          "model_name": "FloatProgressModel",
          "model_module_version": "1.5.0",
          "state": {
            "_dom_classes": [],
            "_model_module": "@jupyter-widgets/controls",
            "_model_module_version": "1.5.0",
            "_model_name": "FloatProgressModel",
            "_view_count": null,
            "_view_module": "@jupyter-widgets/controls",
            "_view_module_version": "1.5.0",
            "_view_name": "ProgressView",
            "bar_style": "success",
            "description": "",
            "description_tooltip": null,
            "layout": "IPY_MODEL_9974030c21934b669862ae66b8dea3bb",
            "max": 112,
            "min": 0,
            "orientation": "horizontal",
            "style": "IPY_MODEL_900f2c403c8042428b447019b91d9a91",
            "value": 112
          }
        },
        "42d319d623ee408dbfee6b27329979a4": {
          "model_module": "@jupyter-widgets/controls",
          "model_name": "HTMLModel",
          "model_module_version": "1.5.0",
          "state": {
            "_dom_classes": [],
            "_model_module": "@jupyter-widgets/controls",
            "_model_module_version": "1.5.0",
            "_model_name": "HTMLModel",
            "_view_count": null,
            "_view_module": "@jupyter-widgets/controls",
            "_view_module_version": "1.5.0",
            "_view_name": "HTMLView",
            "description": "",
            "description_tooltip": null,
            "layout": "IPY_MODEL_329cd37bf3ca41f3b73f7480735fbbf2",
            "placeholder": "​",
            "style": "IPY_MODEL_be2285fa2fc9422db98282761800b9b6",
            "value": " 112/112 [00:00&lt;00:00, 4.43kB/s]"
          }
        },
        "5ec16d4c5fe64a8cb5ba8aa32ec8bfeb": {
          "model_module": "@jupyter-widgets/base",
          "model_name": "LayoutModel",
          "model_module_version": "1.2.0",
          "state": {
            "_model_module": "@jupyter-widgets/base",
            "_model_module_version": "1.2.0",
            "_model_name": "LayoutModel",
            "_view_count": null,
            "_view_module": "@jupyter-widgets/base",
            "_view_module_version": "1.2.0",
            "_view_name": "LayoutView",
            "align_content": null,
            "align_items": null,
            "align_self": null,
            "border": null,
            "bottom": null,
            "display": null,
            "flex": null,
            "flex_flow": null,
            "grid_area": null,
            "grid_auto_columns": null,
            "grid_auto_flow": null,
            "grid_auto_rows": null,
            "grid_column": null,
            "grid_gap": null,
            "grid_row": null,
            "grid_template_areas": null,
            "grid_template_columns": null,
            "grid_template_rows": null,
            "height": null,
            "justify_content": null,
            "justify_items": null,
            "left": null,
            "margin": null,
            "max_height": null,
            "max_width": null,
            "min_height": null,
            "min_width": null,
            "object_fit": null,
            "object_position": null,
            "order": null,
            "overflow": null,
            "overflow_x": null,
            "overflow_y": null,
            "padding": null,
            "right": null,
            "top": null,
            "visibility": null,
            "width": null
          }
        },
        "8e72c39a222043ce829652ef0a77f4b2": {
          "model_module": "@jupyter-widgets/base",
          "model_name": "LayoutModel",
          "model_module_version": "1.2.0",
          "state": {
            "_model_module": "@jupyter-widgets/base",
            "_model_module_version": "1.2.0",
            "_model_name": "LayoutModel",
            "_view_count": null,
            "_view_module": "@jupyter-widgets/base",
            "_view_module_version": "1.2.0",
            "_view_name": "LayoutView",
            "align_content": null,
            "align_items": null,
            "align_self": null,
            "border": null,
            "bottom": null,
            "display": null,
            "flex": null,
            "flex_flow": null,
            "grid_area": null,
            "grid_auto_columns": null,
            "grid_auto_flow": null,
            "grid_auto_rows": null,
            "grid_column": null,
            "grid_gap": null,
            "grid_row": null,
            "grid_template_areas": null,
            "grid_template_columns": null,
            "grid_template_rows": null,
            "height": null,
            "justify_content": null,
            "justify_items": null,
            "left": null,
            "margin": null,
            "max_height": null,
            "max_width": null,
            "min_height": null,
            "min_width": null,
            "object_fit": null,
            "object_position": null,
            "order": null,
            "overflow": null,
            "overflow_x": null,
            "overflow_y": null,
            "padding": null,
            "right": null,
            "top": null,
            "visibility": null,
            "width": null
          }
        },
        "30b113dfd9084bb08f2e9d3e78b88681": {
          "model_module": "@jupyter-widgets/controls",
          "model_name": "DescriptionStyleModel",
          "model_module_version": "1.5.0",
          "state": {
            "_model_module": "@jupyter-widgets/controls",
            "_model_module_version": "1.5.0",
            "_model_name": "DescriptionStyleModel",
            "_view_count": null,
            "_view_module": "@jupyter-widgets/base",
            "_view_module_version": "1.2.0",
            "_view_name": "StyleView",
            "description_width": ""
          }
        },
        "9974030c21934b669862ae66b8dea3bb": {
          "model_module": "@jupyter-widgets/base",
          "model_name": "LayoutModel",
          "model_module_version": "1.2.0",
          "state": {
            "_model_module": "@jupyter-widgets/base",
            "_model_module_version": "1.2.0",
            "_model_name": "LayoutModel",
            "_view_count": null,
            "_view_module": "@jupyter-widgets/base",
            "_view_module_version": "1.2.0",
            "_view_name": "LayoutView",
            "align_content": null,
            "align_items": null,
            "align_self": null,
            "border": null,
            "bottom": null,
            "display": null,
            "flex": null,
            "flex_flow": null,
            "grid_area": null,
            "grid_auto_columns": null,
            "grid_auto_flow": null,
            "grid_auto_rows": null,
            "grid_column": null,
            "grid_gap": null,
            "grid_row": null,
            "grid_template_areas": null,
            "grid_template_columns": null,
            "grid_template_rows": null,
            "height": null,
            "justify_content": null,
            "justify_items": null,
            "left": null,
            "margin": null,
            "max_height": null,
            "max_width": null,
            "min_height": null,
            "min_width": null,
            "object_fit": null,
            "object_position": null,
            "order": null,
            "overflow": null,
            "overflow_x": null,
            "overflow_y": null,
            "padding": null,
            "right": null,
            "top": null,
            "visibility": null,
            "width": null
          }
        },
        "900f2c403c8042428b447019b91d9a91": {
          "model_module": "@jupyter-widgets/controls",
          "model_name": "ProgressStyleModel",
          "model_module_version": "1.5.0",
          "state": {
            "_model_module": "@jupyter-widgets/controls",
            "_model_module_version": "1.5.0",
            "_model_name": "ProgressStyleModel",
            "_view_count": null,
            "_view_module": "@jupyter-widgets/base",
            "_view_module_version": "1.2.0",
            "_view_name": "StyleView",
            "bar_color": null,
            "description_width": ""
          }
        },
        "329cd37bf3ca41f3b73f7480735fbbf2": {
          "model_module": "@jupyter-widgets/base",
          "model_name": "LayoutModel",
          "model_module_version": "1.2.0",
          "state": {
            "_model_module": "@jupyter-widgets/base",
            "_model_module_version": "1.2.0",
            "_model_name": "LayoutModel",
            "_view_count": null,
            "_view_module": "@jupyter-widgets/base",
            "_view_module_version": "1.2.0",
            "_view_name": "LayoutView",
            "align_content": null,
            "align_items": null,
            "align_self": null,
            "border": null,
            "bottom": null,
            "display": null,
            "flex": null,
            "flex_flow": null,
            "grid_area": null,
            "grid_auto_columns": null,
            "grid_auto_flow": null,
            "grid_auto_rows": null,
            "grid_column": null,
            "grid_gap": null,
            "grid_row": null,
            "grid_template_areas": null,
            "grid_template_columns": null,
            "grid_template_rows": null,
            "height": null,
            "justify_content": null,
            "justify_items": null,
            "left": null,
            "margin": null,
            "max_height": null,
            "max_width": null,
            "min_height": null,
            "min_width": null,
            "object_fit": null,
            "object_position": null,
            "order": null,
            "overflow": null,
            "overflow_x": null,
            "overflow_y": null,
            "padding": null,
            "right": null,
            "top": null,
            "visibility": null,
            "width": null
          }
        },
        "be2285fa2fc9422db98282761800b9b6": {
          "model_module": "@jupyter-widgets/controls",
          "model_name": "DescriptionStyleModel",
          "model_module_version": "1.5.0",
          "state": {
            "_model_module": "@jupyter-widgets/controls",
            "_model_module_version": "1.5.0",
            "_model_name": "DescriptionStyleModel",
            "_view_count": null,
            "_view_module": "@jupyter-widgets/base",
            "_view_module_version": "1.2.0",
            "_view_name": "StyleView",
            "description_width": ""
          }
        },
        "f83e3f5964c34e038e2e782bbb062849": {
          "model_module": "@jupyter-widgets/controls",
          "model_name": "HBoxModel",
          "model_module_version": "1.5.0",
          "state": {
            "_dom_classes": [],
            "_model_module": "@jupyter-widgets/controls",
            "_model_module_version": "1.5.0",
            "_model_name": "HBoxModel",
            "_view_count": null,
            "_view_module": "@jupyter-widgets/controls",
            "_view_module_version": "1.5.0",
            "_view_name": "HBoxView",
            "box_style": "",
            "children": [
              "IPY_MODEL_1ed5233d9a634c528f07daacebdb0a4e",
              "IPY_MODEL_bb29adc0db284ed39cb43f0643f70db4",
              "IPY_MODEL_f4b3c2b072574ba2864dbad30b554a74"
            ],
            "layout": "IPY_MODEL_d4eb11421e174bda83beb66dba5d2733"
          }
        },
        "1ed5233d9a634c528f07daacebdb0a4e": {
          "model_module": "@jupyter-widgets/controls",
          "model_name": "HTMLModel",
          "model_module_version": "1.5.0",
          "state": {
            "_dom_classes": [],
            "_model_module": "@jupyter-widgets/controls",
            "_model_module_version": "1.5.0",
            "_model_name": "HTMLModel",
            "_view_count": null,
            "_view_module": "@jupyter-widgets/controls",
            "_view_module_version": "1.5.0",
            "_view_name": "HTMLView",
            "description": "",
            "description_tooltip": null,
            "layout": "IPY_MODEL_335d129600384f6da6ccecb98044e50b",
            "placeholder": "​",
            "style": "IPY_MODEL_c54f0cde1c1447d88e02f216167f318d",
            "value": "config.json: 100%"
          }
        },
        "bb29adc0db284ed39cb43f0643f70db4": {
          "model_module": "@jupyter-widgets/controls",
          "model_name": "FloatProgressModel",
          "model_module_version": "1.5.0",
          "state": {
            "_dom_classes": [],
            "_model_module": "@jupyter-widgets/controls",
            "_model_module_version": "1.5.0",
            "_model_name": "FloatProgressModel",
            "_view_count": null,
            "_view_module": "@jupyter-widgets/controls",
            "_view_module_version": "1.5.0",
            "_view_name": "ProgressView",
            "bar_style": "success",
            "description": "",
            "description_tooltip": null,
            "layout": "IPY_MODEL_d007e978a1a74b3c89207ed78be93f64",
            "max": 190,
            "min": 0,
            "orientation": "horizontal",
            "style": "IPY_MODEL_27d0fa070a03427793ca4633f682a137",
            "value": 190
          }
        },
        "f4b3c2b072574ba2864dbad30b554a74": {
          "model_module": "@jupyter-widgets/controls",
          "model_name": "HTMLModel",
          "model_module_version": "1.5.0",
          "state": {
            "_dom_classes": [],
            "_model_module": "@jupyter-widgets/controls",
            "_model_module_version": "1.5.0",
            "_model_name": "HTMLModel",
            "_view_count": null,
            "_view_module": "@jupyter-widgets/controls",
            "_view_module_version": "1.5.0",
            "_view_name": "HTMLView",
            "description": "",
            "description_tooltip": null,
            "layout": "IPY_MODEL_5ca843e957e247faa04d55a03b691416",
            "placeholder": "​",
            "style": "IPY_MODEL_4cf50acaa8b64f93b96a75d75a07f620",
            "value": " 190/190 [00:00&lt;00:00, 21.8kB/s]"
          }
        },
        "d4eb11421e174bda83beb66dba5d2733": {
          "model_module": "@jupyter-widgets/base",
          "model_name": "LayoutModel",
          "model_module_version": "1.2.0",
          "state": {
            "_model_module": "@jupyter-widgets/base",
            "_model_module_version": "1.2.0",
            "_model_name": "LayoutModel",
            "_view_count": null,
            "_view_module": "@jupyter-widgets/base",
            "_view_module_version": "1.2.0",
            "_view_name": "LayoutView",
            "align_content": null,
            "align_items": null,
            "align_self": null,
            "border": null,
            "bottom": null,
            "display": null,
            "flex": null,
            "flex_flow": null,
            "grid_area": null,
            "grid_auto_columns": null,
            "grid_auto_flow": null,
            "grid_auto_rows": null,
            "grid_column": null,
            "grid_gap": null,
            "grid_row": null,
            "grid_template_areas": null,
            "grid_template_columns": null,
            "grid_template_rows": null,
            "height": null,
            "justify_content": null,
            "justify_items": null,
            "left": null,
            "margin": null,
            "max_height": null,
            "max_width": null,
            "min_height": null,
            "min_width": null,
            "object_fit": null,
            "object_position": null,
            "order": null,
            "overflow": null,
            "overflow_x": null,
            "overflow_y": null,
            "padding": null,
            "right": null,
            "top": null,
            "visibility": null,
            "width": null
          }
        },
        "335d129600384f6da6ccecb98044e50b": {
          "model_module": "@jupyter-widgets/base",
          "model_name": "LayoutModel",
          "model_module_version": "1.2.0",
          "state": {
            "_model_module": "@jupyter-widgets/base",
            "_model_module_version": "1.2.0",
            "_model_name": "LayoutModel",
            "_view_count": null,
            "_view_module": "@jupyter-widgets/base",
            "_view_module_version": "1.2.0",
            "_view_name": "LayoutView",
            "align_content": null,
            "align_items": null,
            "align_self": null,
            "border": null,
            "bottom": null,
            "display": null,
            "flex": null,
            "flex_flow": null,
            "grid_area": null,
            "grid_auto_columns": null,
            "grid_auto_flow": null,
            "grid_auto_rows": null,
            "grid_column": null,
            "grid_gap": null,
            "grid_row": null,
            "grid_template_areas": null,
            "grid_template_columns": null,
            "grid_template_rows": null,
            "height": null,
            "justify_content": null,
            "justify_items": null,
            "left": null,
            "margin": null,
            "max_height": null,
            "max_width": null,
            "min_height": null,
            "min_width": null,
            "object_fit": null,
            "object_position": null,
            "order": null,
            "overflow": null,
            "overflow_x": null,
            "overflow_y": null,
            "padding": null,
            "right": null,
            "top": null,
            "visibility": null,
            "width": null
          }
        },
        "c54f0cde1c1447d88e02f216167f318d": {
          "model_module": "@jupyter-widgets/controls",
          "model_name": "DescriptionStyleModel",
          "model_module_version": "1.5.0",
          "state": {
            "_model_module": "@jupyter-widgets/controls",
            "_model_module_version": "1.5.0",
            "_model_name": "DescriptionStyleModel",
            "_view_count": null,
            "_view_module": "@jupyter-widgets/base",
            "_view_module_version": "1.2.0",
            "_view_name": "StyleView",
            "description_width": ""
          }
        },
        "d007e978a1a74b3c89207ed78be93f64": {
          "model_module": "@jupyter-widgets/base",
          "model_name": "LayoutModel",
          "model_module_version": "1.2.0",
          "state": {
            "_model_module": "@jupyter-widgets/base",
            "_model_module_version": "1.2.0",
            "_model_name": "LayoutModel",
            "_view_count": null,
            "_view_module": "@jupyter-widgets/base",
            "_view_module_version": "1.2.0",
            "_view_name": "LayoutView",
            "align_content": null,
            "align_items": null,
            "align_self": null,
            "border": null,
            "bottom": null,
            "display": null,
            "flex": null,
            "flex_flow": null,
            "grid_area": null,
            "grid_auto_columns": null,
            "grid_auto_flow": null,
            "grid_auto_rows": null,
            "grid_column": null,
            "grid_gap": null,
            "grid_row": null,
            "grid_template_areas": null,
            "grid_template_columns": null,
            "grid_template_rows": null,
            "height": null,
            "justify_content": null,
            "justify_items": null,
            "left": null,
            "margin": null,
            "max_height": null,
            "max_width": null,
            "min_height": null,
            "min_width": null,
            "object_fit": null,
            "object_position": null,
            "order": null,
            "overflow": null,
            "overflow_x": null,
            "overflow_y": null,
            "padding": null,
            "right": null,
            "top": null,
            "visibility": null,
            "width": null
          }
        },
        "27d0fa070a03427793ca4633f682a137": {
          "model_module": "@jupyter-widgets/controls",
          "model_name": "ProgressStyleModel",
          "model_module_version": "1.5.0",
          "state": {
            "_model_module": "@jupyter-widgets/controls",
            "_model_module_version": "1.5.0",
            "_model_name": "ProgressStyleModel",
            "_view_count": null,
            "_view_module": "@jupyter-widgets/base",
            "_view_module_version": "1.2.0",
            "_view_name": "StyleView",
            "bar_color": null,
            "description_width": ""
          }
        },
        "5ca843e957e247faa04d55a03b691416": {
          "model_module": "@jupyter-widgets/base",
          "model_name": "LayoutModel",
          "model_module_version": "1.2.0",
          "state": {
            "_model_module": "@jupyter-widgets/base",
            "_model_module_version": "1.2.0",
            "_model_name": "LayoutModel",
            "_view_count": null,
            "_view_module": "@jupyter-widgets/base",
            "_view_module_version": "1.2.0",
            "_view_name": "LayoutView",
            "align_content": null,
            "align_items": null,
            "align_self": null,
            "border": null,
            "bottom": null,
            "display": null,
            "flex": null,
            "flex_flow": null,
            "grid_area": null,
            "grid_auto_columns": null,
            "grid_auto_flow": null,
            "grid_auto_rows": null,
            "grid_column": null,
            "grid_gap": null,
            "grid_row": null,
            "grid_template_areas": null,
            "grid_template_columns": null,
            "grid_template_rows": null,
            "height": null,
            "justify_content": null,
            "justify_items": null,
            "left": null,
            "margin": null,
            "max_height": null,
            "max_width": null,
            "min_height": null,
            "min_width": null,
            "object_fit": null,
            "object_position": null,
            "order": null,
            "overflow": null,
            "overflow_x": null,
            "overflow_y": null,
            "padding": null,
            "right": null,
            "top": null,
            "visibility": null,
            "width": null
          }
        },
        "4cf50acaa8b64f93b96a75d75a07f620": {
          "model_module": "@jupyter-widgets/controls",
          "model_name": "DescriptionStyleModel",
          "model_module_version": "1.5.0",
          "state": {
            "_model_module": "@jupyter-widgets/controls",
            "_model_module_version": "1.5.0",
            "_model_name": "DescriptionStyleModel",
            "_view_count": null,
            "_view_module": "@jupyter-widgets/base",
            "_view_module_version": "1.2.0",
            "_view_name": "StyleView",
            "description_width": ""
          }
        }
      }
    }
  },
  "cells": [
    {
      "cell_type": "code",
      "execution_count": 2,
      "metadata": {
        "id": "nOa9l59i3i4T"
      },
      "outputs": [],
      "source": [
        "import os\n",
        "os.environ['GROQ_API_KEY'] = \"YOUR API KEY FROM GROQ\""
      ]
    },
    {
      "cell_type": "code",
      "source": [
        "!pip install langchain_groq\n"
      ],
      "metadata": {
        "colab": {
          "base_uri": "https://localhost:8080/"
        },
        "collapsed": true,
        "id": "xUEP76qv4nUW",
        "outputId": "98346f9f-e199-40da-d78b-b5653955b019"
      },
      "execution_count": 3,
      "outputs": [
        {
          "output_type": "stream",
          "name": "stdout",
          "text": [
            "Collecting langchain_groq\n",
            "  Downloading langchain_groq-0.3.8-py3-none-any.whl.metadata (2.6 kB)\n",
            "Requirement already satisfied: langchain-core<1.0.0,>=0.3.75 in /usr/local/lib/python3.12/dist-packages (from langchain_groq) (0.3.77)\n",
            "Collecting groq<1,>=0.30.0 (from langchain_groq)\n",
            "  Downloading groq-0.32.0-py3-none-any.whl.metadata (16 kB)\n",
            "Requirement already satisfied: anyio<5,>=3.5.0 in /usr/local/lib/python3.12/dist-packages (from groq<1,>=0.30.0->langchain_groq) (4.11.0)\n",
            "Requirement already satisfied: distro<2,>=1.7.0 in /usr/local/lib/python3.12/dist-packages (from groq<1,>=0.30.0->langchain_groq) (1.9.0)\n",
            "Requirement already satisfied: httpx<1,>=0.23.0 in /usr/local/lib/python3.12/dist-packages (from groq<1,>=0.30.0->langchain_groq) (0.28.1)\n",
            "Requirement already satisfied: pydantic<3,>=1.9.0 in /usr/local/lib/python3.12/dist-packages (from groq<1,>=0.30.0->langchain_groq) (2.11.9)\n",
            "Requirement already satisfied: sniffio in /usr/local/lib/python3.12/dist-packages (from groq<1,>=0.30.0->langchain_groq) (1.3.1)\n",
            "Requirement already satisfied: typing-extensions<5,>=4.10 in /usr/local/lib/python3.12/dist-packages (from groq<1,>=0.30.0->langchain_groq) (4.15.0)\n",
            "Requirement already satisfied: langsmith<1.0.0,>=0.3.45 in /usr/local/lib/python3.12/dist-packages (from langchain-core<1.0.0,>=0.3.75->langchain_groq) (0.4.31)\n",
            "Requirement already satisfied: tenacity!=8.4.0,<10.0.0,>=8.1.0 in /usr/local/lib/python3.12/dist-packages (from langchain-core<1.0.0,>=0.3.75->langchain_groq) (8.5.0)\n",
            "Requirement already satisfied: jsonpatch<2.0.0,>=1.33.0 in /usr/local/lib/python3.12/dist-packages (from langchain-core<1.0.0,>=0.3.75->langchain_groq) (1.33)\n",
            "Requirement already satisfied: PyYAML<7.0.0,>=5.3.0 in /usr/local/lib/python3.12/dist-packages (from langchain-core<1.0.0,>=0.3.75->langchain_groq) (6.0.3)\n",
            "Requirement already satisfied: packaging<26.0.0,>=23.2.0 in /usr/local/lib/python3.12/dist-packages (from langchain-core<1.0.0,>=0.3.75->langchain_groq) (25.0)\n",
            "Requirement already satisfied: idna>=2.8 in /usr/local/lib/python3.12/dist-packages (from anyio<5,>=3.5.0->groq<1,>=0.30.0->langchain_groq) (3.10)\n",
            "Requirement already satisfied: certifi in /usr/local/lib/python3.12/dist-packages (from httpx<1,>=0.23.0->groq<1,>=0.30.0->langchain_groq) (2025.8.3)\n",
            "Requirement already satisfied: httpcore==1.* in /usr/local/lib/python3.12/dist-packages (from httpx<1,>=0.23.0->groq<1,>=0.30.0->langchain_groq) (1.0.9)\n",
            "Requirement already satisfied: h11>=0.16 in /usr/local/lib/python3.12/dist-packages (from httpcore==1.*->httpx<1,>=0.23.0->groq<1,>=0.30.0->langchain_groq) (0.16.0)\n",
            "Requirement already satisfied: jsonpointer>=1.9 in /usr/local/lib/python3.12/dist-packages (from jsonpatch<2.0.0,>=1.33.0->langchain-core<1.0.0,>=0.3.75->langchain_groq) (3.0.0)\n",
            "Requirement already satisfied: orjson>=3.9.14 in /usr/local/lib/python3.12/dist-packages (from langsmith<1.0.0,>=0.3.45->langchain-core<1.0.0,>=0.3.75->langchain_groq) (3.11.3)\n",
            "Requirement already satisfied: requests-toolbelt>=1.0.0 in /usr/local/lib/python3.12/dist-packages (from langsmith<1.0.0,>=0.3.45->langchain-core<1.0.0,>=0.3.75->langchain_groq) (1.0.0)\n",
            "Requirement already satisfied: requests>=2.0.0 in /usr/local/lib/python3.12/dist-packages (from langsmith<1.0.0,>=0.3.45->langchain-core<1.0.0,>=0.3.75->langchain_groq) (2.32.4)\n",
            "Requirement already satisfied: zstandard>=0.23.0 in /usr/local/lib/python3.12/dist-packages (from langsmith<1.0.0,>=0.3.45->langchain-core<1.0.0,>=0.3.75->langchain_groq) (0.25.0)\n",
            "Requirement already satisfied: annotated-types>=0.6.0 in /usr/local/lib/python3.12/dist-packages (from pydantic<3,>=1.9.0->groq<1,>=0.30.0->langchain_groq) (0.7.0)\n",
            "Requirement already satisfied: pydantic-core==2.33.2 in /usr/local/lib/python3.12/dist-packages (from pydantic<3,>=1.9.0->groq<1,>=0.30.0->langchain_groq) (2.33.2)\n",
            "Requirement already satisfied: typing-inspection>=0.4.0 in /usr/local/lib/python3.12/dist-packages (from pydantic<3,>=1.9.0->groq<1,>=0.30.0->langchain_groq) (0.4.2)\n",
            "Requirement already satisfied: charset_normalizer<4,>=2 in /usr/local/lib/python3.12/dist-packages (from requests>=2.0.0->langsmith<1.0.0,>=0.3.45->langchain-core<1.0.0,>=0.3.75->langchain_groq) (3.4.3)\n",
            "Requirement already satisfied: urllib3<3,>=1.21.1 in /usr/local/lib/python3.12/dist-packages (from requests>=2.0.0->langsmith<1.0.0,>=0.3.45->langchain-core<1.0.0,>=0.3.75->langchain_groq) (2.5.0)\n",
            "Downloading langchain_groq-0.3.8-py3-none-any.whl (16 kB)\n",
            "Downloading groq-0.32.0-py3-none-any.whl (135 kB)\n",
            "\u001b[2K   \u001b[90m━━━━━━━━━━━━━━━━━━━━━━━━━━━━━━━━━━━━━━━━\u001b[0m \u001b[32m135.4/135.4 kB\u001b[0m \u001b[31m5.8 MB/s\u001b[0m eta \u001b[36m0:00:00\u001b[0m\n",
            "\u001b[?25hInstalling collected packages: groq, langchain_groq\n",
            "Successfully installed groq-0.32.0 langchain_groq-0.3.8\n"
          ]
        }
      ]
    },
    {
      "cell_type": "code",
      "source": [
        "!pip install -q langchain_community langchain_groq faiss-cpu tiktoken python-dotenv"
      ],
      "metadata": {
        "id": "qGNSY74Z4nXG",
        "colab": {
          "base_uri": "https://localhost:8080/"
        },
        "outputId": "a57858ce-8693-4b18-bd78-455d8ef43ed0"
      },
      "execution_count": 4,
      "outputs": [
        {
          "output_type": "stream",
          "name": "stdout",
          "text": [
            "\u001b[2K   \u001b[90m━━━━━━━━━━━━━━━━━━━━━━━━━━━━━━━━━━━━━━━━\u001b[0m \u001b[32m2.5/2.5 MB\u001b[0m \u001b[31m28.7 MB/s\u001b[0m eta \u001b[36m0:00:00\u001b[0m\n",
            "\u001b[2K   \u001b[90m━━━━━━━━━━━━━━━━━━━━━━━━━━━━━━━━━━━━━━━━\u001b[0m \u001b[32m31.4/31.4 MB\u001b[0m \u001b[31m58.3 MB/s\u001b[0m eta \u001b[36m0:00:00\u001b[0m\n",
            "\u001b[2K   \u001b[90m━━━━━━━━━━━━━━━━━━━━━━━━━━━━━━━━━━━━━━━━\u001b[0m \u001b[32m64.7/64.7 kB\u001b[0m \u001b[31m6.3 MB/s\u001b[0m eta \u001b[36m0:00:00\u001b[0m\n",
            "\u001b[2K   \u001b[90m━━━━━━━━━━━━━━━━━━━━━━━━━━━━━━━━━━━━━━━━\u001b[0m \u001b[32m50.9/50.9 kB\u001b[0m \u001b[31m5.0 MB/s\u001b[0m eta \u001b[36m0:00:00\u001b[0m\n",
            "\u001b[?25h\u001b[31mERROR: pip's dependency resolver does not currently take into account all the packages that are installed. This behaviour is the source of the following dependency conflicts.\n",
            "google-colab 1.0.0 requires requests==2.32.4, but you have requests 2.32.5 which is incompatible.\u001b[0m\u001b[31m\n",
            "\u001b[0m"
          ]
        }
      ]
    },
    {
      "cell_type": "code",
      "source": [
        "\n",
        "!pip install youtube-transcript-api==0.6.2\n"
      ],
      "metadata": {
        "colab": {
          "base_uri": "https://localhost:8080/"
        },
        "id": "0TO11Xts-nC_",
        "outputId": "350afcf1-984b-4320-9e4c-cf74b0e8a7a0",
        "collapsed": true
      },
      "execution_count": 5,
      "outputs": [
        {
          "output_type": "stream",
          "name": "stdout",
          "text": [
            "Collecting youtube-transcript-api==0.6.2\n",
            "  Downloading youtube_transcript_api-0.6.2-py3-none-any.whl.metadata (15 kB)\n",
            "Requirement already satisfied: requests in /usr/local/lib/python3.12/dist-packages (from youtube-transcript-api==0.6.2) (2.32.5)\n",
            "Requirement already satisfied: charset_normalizer<4,>=2 in /usr/local/lib/python3.12/dist-packages (from requests->youtube-transcript-api==0.6.2) (3.4.3)\n",
            "Requirement already satisfied: idna<4,>=2.5 in /usr/local/lib/python3.12/dist-packages (from requests->youtube-transcript-api==0.6.2) (3.10)\n",
            "Requirement already satisfied: urllib3<3,>=1.21.1 in /usr/local/lib/python3.12/dist-packages (from requests->youtube-transcript-api==0.6.2) (2.5.0)\n",
            "Requirement already satisfied: certifi>=2017.4.17 in /usr/local/lib/python3.12/dist-packages (from requests->youtube-transcript-api==0.6.2) (2025.8.3)\n",
            "Downloading youtube_transcript_api-0.6.2-py3-none-any.whl (24 kB)\n",
            "Installing collected packages: youtube-transcript-api\n",
            "Successfully installed youtube-transcript-api-0.6.2\n"
          ]
        }
      ]
    },
    {
      "cell_type": "code",
      "source": [
        "!pip install -q yt_dlp beautifulsoup4 requests\n"
      ],
      "metadata": {
        "colab": {
          "base_uri": "https://localhost:8080/"
        },
        "id": "LAcyyhhaohoM",
        "outputId": "9ff2395e-50b1-4b74-df8a-e0e1cda135ac"
      },
      "execution_count": 6,
      "outputs": [
        {
          "output_type": "stream",
          "name": "stdout",
          "text": [
            "\u001b[?25l     \u001b[90m━━━━━━━━━━━━━━━━━━━━━━━━━━━━━━━━━━━━━━━━\u001b[0m \u001b[32m0.0/175.9 kB\u001b[0m \u001b[31m?\u001b[0m eta \u001b[36m-:--:--\u001b[0m\r\u001b[2K     \u001b[90m━━━━━━━━━━━━━━━━━━━━━━━━━━━━━━━━━━━━━━━\u001b[0m \u001b[32m175.9/175.9 kB\u001b[0m \u001b[31m6.7 MB/s\u001b[0m eta \u001b[36m0:00:00\u001b[0m\n",
            "\u001b[?25h\u001b[?25l   \u001b[90m━━━━━━━━━━━━━━━━━━━━━━━━━━━━━━━━━━━━━━━━\u001b[0m \u001b[32m0.0/3.2 MB\u001b[0m \u001b[31m?\u001b[0m eta \u001b[36m-:--:--\u001b[0m\r\u001b[2K   \u001b[91m━━━━━━━━━━━━━━━━━━━━━━━━━━━━━━━━━━━━━━━\u001b[0m\u001b[91m╸\u001b[0m \u001b[32m3.2/3.2 MB\u001b[0m \u001b[31m118.5 MB/s\u001b[0m eta \u001b[36m0:00:01\u001b[0m\r\u001b[2K   \u001b[90m━━━━━━━━━━━━━━━━━━━━━━━━━━━━━━━━━━━━━━━━\u001b[0m \u001b[32m3.2/3.2 MB\u001b[0m \u001b[31m71.0 MB/s\u001b[0m eta \u001b[36m0:00:00\u001b[0m\n",
            "\u001b[?25h"
          ]
        }
      ]
    },
    {
      "cell_type": "code",
      "source": [
        "\n",
        "from langchain.text_splitter import RecursiveCharacterTextSplitter\n",
        "from langchain_groq import ChatGroq\n",
        "from langchain.embeddings import HuggingFaceEmbeddings\n",
        "from langchain.vectorstores import FAISS\n",
        "from langchain_core.prompts import PromptTemplate"
      ],
      "metadata": {
        "id": "Omnj4wGJ4ncu"
      },
      "execution_count": 7,
      "outputs": []
    },
    {
      "cell_type": "code",
      "source": [],
      "metadata": {
        "id": "kAwnAIH6zrUR"
      },
      "execution_count": 9,
      "outputs": []
    },
    {
      "cell_type": "markdown",
      "source": [],
      "metadata": {
        "id": "vWFlS0AUwbrT"
      }
    },
    {
      "cell_type": "markdown",
      "source": [
        "Step1 indexing (document injestion)"
      ],
      "metadata": {
        "id": "a7MIjMmI8XcG"
      }
    },
    {
      "cell_type": "code",
      "source": [
        "import yt_dlp\n",
        "import json\n",
        "\n",
        "def get_clean_transcripts(url, lang=\"en\"):\n",
        "    ydl_opts = {\n",
        "        \"skip_download\": True,\n",
        "        \"writeautomaticsub\": True,\n",
        "        \"subtitlesformat\": \"json3\",\n",
        "        \"subtitleslangs\": [lang],\n",
        "        \"cookiefile\": \"demo_cookies.txt\"\n",
        "    }\n",
        "\n",
        "    with yt_dlp.YoutubeDL(ydl_opts) as ydl:\n",
        "        info = ydl.extract_info(url, download=False)\n",
        "        subs = info.get(\"automatic_captions\") or info.get(\"subtitles\")\n",
        "        if not subs or lang not in subs:\n",
        "            print(\"❌ No subtitles available\")\n",
        "            return []\n",
        "\n",
        "        sub_url = subs[lang][0][\"url\"]\n",
        "\n",
        "        import requests\n",
        "        response = requests.get(sub_url)\n",
        "        data = response.text.strip()\n",
        "        if not data:\n",
        "            print(\"❌ Subtitle file empty\")\n",
        "            return []\n",
        "\n",
        "        try:\n",
        "            json_data = json.loads(data)\n",
        "        except json.JSONDecodeError:\n",
        "            # YouTube JSON sometimes comes as multiple lines; fix it\n",
        "            json_data = json.loads(\"{\" + data.split(\"{\", 1)[1])\n",
        "\n",
        "        results = []\n",
        "        for event in json_data.get(\"events\", []):\n",
        "            if \"segs\" not in event:\n",
        "                continue\n",
        "            start = event.get(\"tStartMs\", 0) / 1000.0\n",
        "            duration = event.get(\"dDurationMs\", 0) / 1000.0\n",
        "            text = \"\".join(seg.get(\"utf8\", \"\") for seg in event[\"segs\"]).replace(\"\\n\", \" \").strip()\n",
        "            if text:\n",
        "                results.append({\n",
        "                    \"text\": text,\n",
        "                    \"start\": round(start, 3),\n",
        "                    \"duration\": round(duration, 3)\n",
        "                })\n",
        "        return results"
      ],
      "metadata": {
        "id": "6oCWprBH8bwB"
      },
      "execution_count": 10,
      "outputs": []
    },
    {
      "cell_type": "code",
      "source": [
        "url = \"https://www.youtube.com/watch?v=X4PUoZSPlw0\"\n",
        "transcript = get_clean_transcripts(url)\n",
        "print( transcript if transcript else \" No transcript found.\")"
      ],
      "metadata": {
        "id": "WVta_yO7Sr20",
        "colab": {
          "base_uri": "https://localhost:8080/"
        },
        "outputId": "898a22bc-2be5-476b-8ebf-65879d1e62ce"
      },
      "execution_count": 11,
      "outputs": [
        {
          "output_type": "stream",
          "name": "stdout",
          "text": [
            "[youtube] Extracting URL: https://www.youtube.com/watch?v=X4PUoZSPlw0\n",
            "[youtube] X4PUoZSPlw0: Downloading webpage\n",
            "[youtube] X4PUoZSPlw0: Downloading tv client config\n",
            "[youtube] X4PUoZSPlw0: Downloading tv player API JSON\n",
            "[youtube] X4PUoZSPlw0: Downloading web safari player API JSON\n",
            "[youtube] X4PUoZSPlw0: Downloading player 0004de42-main\n",
            "[youtube] X4PUoZSPlw0: Downloading m3u8 information\n",
            "[info] X4PUoZSPlw0: Downloading subtitles: en\n",
            "[{'text': 'This might just be the biggest change to', 'start': 0.16, 'duration': 4.56}, {'text': 'NN since well, it even existed. And I', 'start': 1.68, 'duration': 5.84}, {'text': 'got early access. What if you could', 'start': 4.72, 'duration': 5.68}, {'text': 'build a complete AI agent or automation', 'start': 7.52, 'duration': 5.199}, {'text': 'workflow simply just by describing what', 'start': 10.4, 'duration': 4.319}, {'text': 'you want in plain English? No more', 'start': 12.719, 'duration': 5.121}, {'text': \"dragging around boxes for 8 hours. It's\", 'start': 14.719, 'duration': 6.241}, {'text': 'literally just the chat GPT for NAND. I', 'start': 17.84, 'duration': 4.32}, {'text': 'just built a workflow that would have', 'start': 20.96, 'duration': 3.28}, {'text': 'taken me hours within the last few', 'start': 22.16, 'duration': 4.4}, {'text': 'minutes. And let me show you how. This', 'start': 24.24, 'duration': 6.08}, {'text': \"is NadN's new AI workflow builder, also\", 'start': 26.56, 'duration': 6.72}, {'text': 'called text to workflow, and they made', 'start': 30.32, 'duration': 5.68}, {'text': 'it easier than ever somehow to actually', 'start': 33.28, 'duration': 5.36}, {'text': 'go ahead and build AI agents without', 'start': 36.0, 'duration': 5.2}, {'text': \"writing a single line of code. Hey, I'm\", 'start': 38.64, 'duration': 4.16}, {'text': \"Josh and I've been covering NAN\", 'start': 41.2, 'duration': 3.6}, {'text': 'automations on this channel for the past', 'start': 42.8, 'duration': 4.4}, {'text': 'year. And NAN just invited me to their', 'start': 44.8, 'duration': 4.48}, {'text': 'limited beta for this new tool. And', 'start': 47.2, 'duration': 4.72}, {'text': \"honestly, I'm not sure if I'm excited or\", 'start': 49.28, 'duration': 5.2}, {'text': 'a bit concerned for my own job security', 'start': 51.92, 'duration': 3.84}, {'text': \"because here's the thing. remember\", 'start': 54.48, 'duration': 4.0}, {'text': 'spending hours connecting nodes,', 'start': 55.76, 'duration': 5.279}, {'text': 'debugging web hooks, and wrestling with', 'start': 58.48, 'duration': 5.92}, {'text': 'JSON? Yeah, that might be over. In this', 'start': 61.039, 'duration': 4.961}, {'text': \"video, I'm going to show you real\", 'start': 64.4, 'duration': 4.079}, {'text': 'examples, both incredible wins and', 'start': 66.0, 'duration': 5.04}, {'text': 'limitations, with this tool and whether', 'start': 68.479, 'duration': 5.281}, {'text': \"this actually lives up to the hype. I've\", 'start': 71.04, 'duration': 4.16}, {'text': 'been using it for the last few days and', 'start': 73.76, 'duration': 3.679}, {'text': \"the results have been crazy. Plus, I'll\", 'start': 75.2, 'duration': 3.599}, {'text': 'break down what this means for the', 'start': 77.439, 'duration': 3.201}, {'text': 'future of NAM Builders and why the', 'start': 78.799, 'duration': 3.841}, {'text': 'opportunity ahead has never been', 'start': 80.64, 'duration': 4.4}, {'text': \"greater. I've even put together a free\", 'start': 82.64, 'duration': 4.72}, {'text': 'eightpage guide on how to actually start', 'start': 85.04, 'duration': 5.119}, {'text': 'selling AI automation services or', 'start': 87.36, 'duration': 4.719}, {'text': 'leverage this in your current existing', 'start': 90.159, 'duration': 4.0}, {'text': 'business. So, make sure you stick around', 'start': 92.079, 'duration': 4.08}, {'text': \"to see what's possible and get access to\", 'start': 94.159, 'duration': 3.92}, {'text': 'this guide. But first, let me show you', 'start': 96.159, 'duration': 3.761}, {'text': 'what this thing can actually do. All', 'start': 98.079, 'duration': 3.441}, {'text': 'right, so like I mentioned, this still', 'start': 99.92, 'duration': 4.48}, {'text': 'is a beta feature within NAND and it', 'start': 101.52, 'duration': 5.2}, {'text': 'will be rolling out, I believe, sometime', 'start': 104.4, 'duration': 4.8}, {'text': 'this next couple weeks. So, you should', 'start': 106.72, 'duration': 4.96}, {'text': 'be seeing it in your cloud version if', 'start': 109.2, 'duration': 4.32}, {'text': \"you're on the cloud. Right now, they're\", 'start': 111.68, 'duration': 3.04}, {'text': \"still determining when they're actually\", 'start': 113.52, 'duration': 2.48}, {'text': 'going to be releasing it to the', 'start': 114.72, 'duration': 3.12}, {'text': 'self-hosted version, but once they do,', 'start': 116.0, 'duration': 3.68}, {'text': \"it's going to be really, really cool.\", 'start': 117.84, 'duration': 3.599}, {'text': 'So, now when you go ahead to create a', 'start': 119.68, 'duration': 4.079}, {'text': 'workflow within NAN, you see this nice,', 'start': 121.439, 'duration': 5.521}, {'text': 'beautiful chat GPT like interface where', 'start': 123.759, 'duration': 5.28}, {'text': \"it's asking you what would you like to\", 'start': 126.96, 'duration': 3.68}, {'text': 'automate. You do of course still have', 'start': 129.039, 'duration': 3.441}, {'text': 'the option to start manually and', 'start': 130.64, 'duration': 3.36}, {'text': 'actually manually build out the process,', 'start': 132.48, 'duration': 3.119}, {'text': \"but here you can see it's giving us some\", 'start': 134.0, 'duration': 4.0}, {'text': 'example prompts right here. So, invoice', 'start': 135.599, 'duration': 5.681}, {'text': 'processing pipeline, daily AI news', 'start': 138.0, 'duration': 6.08}, {'text': 'digest, rag knowledge assistant,', 'start': 141.28, 'duration': 5.52}, {'text': 'summarize emails with AI, YouTube video', 'start': 144.08, 'duration': 5.519}, {'text': 'chapters, multi- aent research workflow.', 'start': 146.8, 'duration': 4.96}, {'text': 'So, just to test this out initially,', 'start': 149.599, 'duration': 4.081}, {'text': \"we're going to go ahead and run this\", 'start': 151.76, 'duration': 4.08}, {'text': 'multi- aent research workflow. So, you', 'start': 153.68, 'duration': 3.919}, {'text': 'can see here we got multi-agent AI', 'start': 155.84, 'duration': 3.039}, {'text': 'workflow where different agents', 'start': 157.599, 'duration': 3.681}, {'text': 'collaborate to research a topic, fact', 'start': 158.879, 'duration': 4.241}, {'text': 'check information, and compile', 'start': 161.28, 'duration': 3.84}, {'text': \"comprehensive reports. Now I'm going to\", 'start': 163.12, 'duration': 4.16}, {'text': 'go ahead and click on create workflow.', 'start': 165.12, 'duration': 3.92}, {'text': \"It's really that simple. And now you'll\", 'start': 167.28, 'duration': 3.92}, {'text': 'see on the right hand side we have our', 'start': 169.04, 'duration': 5.919}, {'text': \"N8N AI. So it's a similar type UI as\", 'start': 171.2, 'duration': 6.399}, {'text': 'maybe things like cursor or chatgpt', 'start': 174.959, 'duration': 4.56}, {'text': 'whatever the case may be. And this is', 'start': 177.599, 'duration': 3.841}, {'text': 'really cool because you can see you have', 'start': 179.519, 'duration': 4.961}, {'text': 'the option to either ask or build. So', 'start': 181.44, 'duration': 4.799}, {'text': 'right now of course it is going about', 'start': 184.48, 'duration': 3.36}, {'text': 'building. So we can see our prompt here', 'start': 186.239, 'duration': 3.28}, {'text': 'and we can see the assistant right now.', 'start': 187.84, 'duration': 4.319}, {'text': 'So it is searching the nodes getting', 'start': 189.519, 'duration': 4.961}, {'text': \"node details and it's thinking about\", 'start': 192.159, 'duration': 4.881}, {'text': 'what it actually should build. Okay. So', 'start': 194.48, 'duration': 4.399}, {'text': 'here is kind of the first iteration. It', 'start': 197.04, 'duration': 4.72}, {'text': 'just threw a bunch of nodes on the um', 'start': 198.879, 'duration': 4.64}, {'text': 'canvas here. And as you can see right', 'start': 201.76, 'duration': 3.6}, {'text': 'now they are not connected or anything', 'start': 203.519, 'duration': 3.841}, {'text': 'like that. Okay. So as you can see it', 'start': 205.36, 'duration': 5.04}, {'text': 'threw a bunch of nodes on the canvas and', 'start': 207.36, 'duration': 5.2}, {'text': 'it starts to kind of think throughout', 'start': 210.4, 'duration': 4.16}, {'text': 'the process before it connects them. So', 'start': 212.56, 'duration': 3.44}, {'text': 'it initially just throws the nodes on', 'start': 214.56, 'duration': 3.599}, {'text': \"the canvas and now you can see it's\", 'start': 216.0, 'duration': 3.599}, {'text': 'starting to actually build some of those', 'start': 218.159, 'duration': 3.041}, {'text': \"connections. So it's connecting the\", 'start': 219.599, 'duration': 3.601}, {'text': \"nodes. It's still thinking. We have kind\", 'start': 221.2, 'duration': 4.399}, {'text': 'of the second iteration here. But just', 'start': 223.2, 'duration': 4.16}, {'text': \"wait a second and we're going to see how\", 'start': 225.599, 'duration': 3.601}, {'text': 'it iterates throughout this process.', 'start': 227.36, 'duration': 3.439}, {'text': \"Okay. So here we're seeing that it's\", 'start': 229.2, 'duration': 3.92}, {'text': 'updating save report node parameters. So', 'start': 230.799, 'duration': 3.921}, {'text': 'we can see all the different kind of', 'start': 233.12, 'duration': 3.52}, {'text': 'tools that it has access to and that', 'start': 234.72, 'duration': 3.519}, {'text': \"it's using throughout this process. All\", 'start': 236.64, 'duration': 3.519}, {'text': 'right. So now it is officially done. We', 'start': 238.239, 'duration': 3.681}, {'text': \"can see that it's giving us a setup\", 'start': 240.159, 'duration': 3.761}, {'text': 'guide. So how to set this up? Configure', 'start': 241.92, 'duration': 5.599}, {'text': 'our open AI credentials, our SER API,', 'start': 243.92, 'duration': 6.08}, {'text': 'update the safe report node URL to your', 'start': 247.519, 'duration': 5.36}, {'text': 'actual report storage endpoint, modify', 'start': 250.0, 'duration': 5.68}, {'text': 'the research topic in the N workflow', 'start': 252.879, 'duration': 5.36}, {'text': 'configuration as needed. And we can see', 'start': 255.68, 'duration': 5.04}, {'text': 'this workflow runs automatically at 9:00', 'start': 258.239, 'duration': 5.041}, {'text': 'a.m. You can also trigger it manually to', 'start': 260.72, 'duration': 5.12}, {'text': 'test and the system will research the', 'start': 263.28, 'duration': 5.199}, {'text': 'configured topic using the web search', 'start': 265.84, 'duration': 4.72}, {'text': 'fact check findings for accuracy,', 'start': 268.479, 'duration': 3.921}, {'text': 'compile a comprehensive structured', 'start': 270.56, 'duration': 4.56}, {'text': 'report and save the final report to your', 'start': 272.4, 'duration': 4.799}, {'text': \"specified endpoint. Now let's go ahead\", 'start': 275.12, 'duration': 4.079}, {'text': 'and take a look at what it actually', 'start': 277.199, 'duration': 4.801}, {'text': 'built us here. So we can literally see', 'start': 279.199, 'duration': 5.761}, {'text': 'just that. Right here we have a research', 'start': 282.0, 'duration': 6.16}, {'text': 'schedule. So 9:00 a.m. node right here.', 'start': 284.96, 'duration': 5.12}, {'text': 'Then we have our workflow configuration.', 'start': 288.16, 'duration': 3.92}, {'text': 'So this is actually where we would go to', 'start': 290.08, 'duration': 3.76}, {'text': \"configure things out. So it's just a set\", 'start': 292.08, 'duration': 4.08}, {'text': 'node right here. We can see our research', 'start': 293.84, 'duration': 4.88}, {'text': \"topic. Right now it's AI and machine\", 'start': 296.16, 'duration': 5.759}, {'text': 'learning trends. Here we have max search', 'start': 298.72, 'duration': 5.759}, {'text': \"results. Right now it's at 10 report\", 'start': 301.919, 'duration': 5.681}, {'text': \"format. So here it's comprehensive. And\", 'start': 304.479, 'duration': 4.801}, {'text': \"we can see that it's going into our\", 'start': 307.6, 'duration': 4.319}, {'text': 'initial research agent right here which', 'start': 309.28, 'duration': 5.6}, {'text': 'has a system message. So pretty basic.', 'start': 311.919, 'duration': 4.56}, {'text': 'You are a research specialist. Conduct', 'start': 314.88, 'duration': 3.759}, {'text': 'comprehensive research on the given', 'start': 316.479, 'duration': 4.401}, {'text': 'topic using available tools. Focus on', 'start': 318.639, 'duration': 3.761}, {'text': 'gathering accurate up-to-date', 'start': 320.88, 'duration': 4.56}, {'text': 'information from reliable sources. Then', 'start': 322.4, 'duration': 6.16}, {'text': 'we have of course access to our open AI', 'start': 325.44, 'duration': 4.8}, {'text': 'right here which is just using the', 'start': 328.56, 'duration': 4.56}, {'text': 'model. We have some memory right here.', 'start': 330.24, 'duration': 5.84}, {'text': 'Okay. Next we have our SER API which is', 'start': 333.12, 'duration': 5.12}, {'text': 'the Google search tool right here. All', 'start': 336.08, 'duration': 5.04}, {'text': 'right. And we have an output parser', 'start': 338.24, 'duration': 4.72}, {'text': \"right here. So it's literally giving us\", 'start': 341.12, 'duration': 4.4}, {'text': 'the defined JSON schema that we want the', 'start': 342.96, 'duration': 4.799}, {'text': 'output to be in. All right. So next we', 'start': 345.52, 'duration': 4.48}, {'text': 'have a merge node right here. We have a', 'start': 347.759, 'duration': 4.321}, {'text': 'fact check agent right here which is', 'start': 350.0, 'duration': 4.0}, {'text': 'kind of doing the same thing. It looks', 'start': 352.08, 'duration': 3.28}, {'text': \"like we're getting a bit of issue here.\", 'start': 354.0, 'duration': 3.199}, {'text': \"We're going to come back to that. And\", 'start': 355.36, 'duration': 4.88}, {'text': 'then we have a report compiler agent.', 'start': 357.199, 'duration': 5.601}, {'text': 'Okay. And the report compiler agent has', 'start': 360.24, 'duration': 5.6}, {'text': 'access to the research agent tool right', 'start': 362.8, 'duration': 5.92}, {'text': \"here. So it's same tools as well as the\", 'start': 365.84, 'duration': 5.199}, {'text': 'fact check agent as well. So, it has', 'start': 368.72, 'duration': 4.0}, {'text': 'access to all those same tools. And then', 'start': 371.039, 'duration': 4.401}, {'text': 'we have the final uh report parser', 'start': 372.72, 'duration': 4.8}, {'text': 'output right here. And then saving the', 'start': 375.44, 'duration': 4.319}, {'text': 'report endpoint, which is really just to', 'start': 377.52, 'duration': 4.72}, {'text': 'wherever we want that report to. Now, it', 'start': 379.759, 'duration': 3.841}, {'text': \"looks like we're experiencing an issue\", 'start': 382.24, 'duration': 3.44}, {'text': \"here. So, I'm saying right now, it looks\", 'start': 383.6, 'duration': 4.159}, {'text': \"good. The fact check agent isn't\", 'start': 385.68, 'duration': 4.0}, {'text': 'connected to anything on the input side,', 'start': 387.759, 'duration': 3.28}, {'text': \"though. So, I'm going to go ahead and\", 'start': 389.68, 'duration': 3.519}, {'text': \"send this and let's see what this\", 'start': 391.039, 'duration': 3.681}, {'text': 'actually does to make some of these', 'start': 393.199, 'duration': 3.921}, {'text': 'iterations. So, we can see that it is', 'start': 394.72, 'duration': 4.56}, {'text': 'currently thinking and working about', 'start': 397.12, 'duration': 4.639}, {'text': 'this. Okay, now it is connecting the', 'start': 399.28, 'duration': 4.72}, {'text': 'nodes. Okay, so now we can see the fact', 'start': 401.759, 'duration': 4.72}, {'text': 'check agent is now properly connected to', 'start': 404.0, 'duration': 4.479}, {'text': 'receive the research findings from the', 'start': 406.479, 'duration': 4.321}, {'text': 'research agent. The workflow will now', 'start': 408.479, 'duration': 4.641}, {'text': 'flow correctly. Research agent, fact', 'start': 410.8, 'duration': 4.72}, {'text': 'check agent, merge results and then', 'start': 413.12, 'duration': 4.799}, {'text': 'report compiler agent. So this looks a', 'start': 415.52, 'duration': 3.92}, {'text': 'lot better. Now we can see we have our', 'start': 417.919, 'duration': 3.761}, {'text': 'research agent and then the fact checker', 'start': 419.44, 'duration': 5.52}, {'text': 'agent is right here with the merge node', 'start': 421.68, 'duration': 5.28}, {'text': 'which makes a lot more sense. Then we', 'start': 424.96, 'duration': 4.079}, {'text': 'have that same report compiler agent', 'start': 426.96, 'duration': 4.239}, {'text': 'right here and then the save report. So', 'start': 429.039, 'duration': 4.16}, {'text': 'this looks pretty good for me right now.', 'start': 431.199, 'duration': 3.601}, {'text': \"I'm going to go ahead and save this and\", 'start': 433.199, 'duration': 3.681}, {'text': 'actually run a test through this. Okay,', 'start': 434.8, 'duration': 3.92}, {'text': \"so now we're going to execute our very\", 'start': 436.88, 'duration': 3.92}, {'text': 'first test. So we can see the research', 'start': 438.72, 'duration': 4.56}, {'text': 'agent is working its magic right here.', 'start': 440.8, 'duration': 4.72}, {'text': \"So we can see it's using the SER API\", 'start': 443.28, 'duration': 5.039}, {'text': 'right here to should do a total of 10', 'start': 445.52, 'duration': 4.48}, {'text': 'times like we configured within the', 'start': 448.319, 'duration': 3.6}, {'text': 'workflow configuration. It looks like', 'start': 450.0, 'duration': 3.44}, {'text': \"we're getting an error here. So you need\", 'start': 451.919, 'duration': 3.84}, {'text': 'to define at least one pair of fields in', 'start': 453.44, 'duration': 4.64}, {'text': \"the field to match to match on. So I'm\", 'start': 455.759, 'duration': 4.321}, {'text': 'just going to paste this error into the', 'start': 458.08, 'duration': 4.08}, {'text': 'actual agent here and say the merge node', 'start': 460.08, 'duration': 4.8}, {'text': 'is giving me this issue. Now I could fix', 'start': 462.16, 'duration': 4.319}, {'text': 'this of course myself, but I want to see', 'start': 464.88, 'duration': 4.48}, {'text': 'the agent update itself with the correct', 'start': 466.479, 'duration': 5.601}, {'text': 'update. So now we see that it has', 'start': 469.36, 'duration': 5.04}, {'text': \"updated itself. Let's go ahead and check\", 'start': 472.08, 'duration': 5.119}, {'text': 'this. Okay, the merge node did work this', 'start': 474.4, 'duration': 4.16}, {'text': \"time and now we're using the fact\", 'start': 477.199, 'duration': 4.081}, {'text': 'checker agent and that went through too.', 'start': 478.56, 'duration': 5.28}, {'text': 'So next we can go ahead and just use the', 'start': 481.28, 'duration': 4.88}, {'text': \"compiler agent right here. So it's going\", 'start': 483.84, 'duration': 4.0}, {'text': 'to take all that information from the', 'start': 486.16, 'duration': 3.84}, {'text': 'research agent and the fact check agent.', 'start': 487.84, 'duration': 3.6}, {'text': \"Okay, looks like we're getting an error\", 'start': 490.0, 'duration': 4.479}, {'text': 'here for it to be reading the uh fact', 'start': 491.44, 'duration': 4.72}, {'text': \"check agent. So now I'm going to say to\", 'start': 494.479, 'duration': 4.961}, {'text': 'nai here the fact check agent tool under', 'start': 496.16, 'duration': 5.12}, {'text': \"the compiler agent and then I'm pasting\", 'start': 499.44, 'duration': 3.599}, {'text': 'in that error here. It should update it', 'start': 501.28, 'duration': 4.0}, {'text': 'with the correct nodes here. Okay, so', 'start': 503.039, 'duration': 4.56}, {'text': 'now it made the update and if we go', 'start': 505.28, 'duration': 4.4}, {'text': \"ahead and rerun this. All right. So, I'm\", 'start': 507.599, 'duration': 3.44}, {'text': 'still getting another issue here for the', 'start': 509.68, 'duration': 3.039}, {'text': \"fact check agent. So, I'm going to paste\", 'start': 511.039, 'duration': 3.761}, {'text': 'this back in here. All right. So, I just', 'start': 512.719, 'duration': 4.0}, {'text': 'actually asked Claude about this and', 'start': 514.8, 'duration': 3.52}, {'text': \"it's basically saying that there is a\", 'start': 516.719, 'duration': 3.76}, {'text': 'circular tool dependency which makes', 'start': 518.32, 'duration': 4.959}, {'text': 'sense. So, I just pasted that into NAI', 'start': 520.479, 'duration': 4.241}, {'text': \"here and then it's basically saying\", 'start': 523.279, 'duration': 2.641}, {'text': \"you're absolutely right about the\", 'start': 524.72, 'duration': 3.679}, {'text': 'circular dependency here and now it', 'start': 525.92, 'duration': 4.96}, {'text': 'actually went ahead and executed on that', 'start': 528.399, 'duration': 4.641}, {'text': 'should make things a lot simpler which', 'start': 530.88, 'duration': 4.48}, {'text': 'looks like it did a good job on. So, we', 'start': 533.04, 'duration': 4.479}, {'text': 'can go ahead and test this now. So, I', 'start': 535.36, 'duration': 3.76}, {'text': 'encountered another issue here where the', 'start': 537.519, 'duration': 3.76}, {'text': \"fact check agent wasn't running. So, I\", 'start': 539.12, 'duration': 4.32}, {'text': 'actually just asked Claude about it as', 'start': 541.279, 'duration': 4.161}, {'text': 'well. It gave me an answer and I simply', 'start': 543.44, 'duration': 4.959}, {'text': 'just paste that into NAI here to execute', 'start': 545.44, 'duration': 4.72}, {'text': \"on. And let's see what it actually does.\", 'start': 548.399, 'duration': 4.241}, {'text': 'Okay, so now we got a code node right', 'start': 550.16, 'duration': 4.56}, {'text': 'here after the research agent which', 'start': 552.64, 'duration': 4.96}, {'text': 'formats the data for the fact check', 'start': 554.72, 'duration': 5.04}, {'text': 'agent before it does the merge node. So,', 'start': 557.6, 'duration': 3.679}, {'text': \"let's go ahead and test this and see if\", 'start': 559.76, 'duration': 3.12}, {'text': 'it works. All right. So, after going', 'start': 561.279, 'duration': 3.761}, {'text': 'back and forth a couple different times,', 'start': 562.88, 'duration': 4.16}, {'text': 'you can see that we actually have a', 'start': 565.04, 'duration': 4.08}, {'text': 'finished workflow that is working. Okay.', 'start': 567.04, 'duration': 3.68}, {'text': \"So, now we're going to go ahead and run\", 'start': 569.12, 'duration': 3.68}, {'text': 'a test right here throughout the entire', 'start': 570.72, 'duration': 3.679}, {'text': 'workflow. And as you can see, the', 'start': 572.8, 'duration': 4.08}, {'text': \"research agent is going. It's doing its\", 'start': 574.399, 'duration': 5.361}, {'text': 'magic right here with SER API going', 'start': 576.88, 'duration': 5.68}, {'text': 'through. Next, we have our fact checker,', 'start': 579.76, 'duration': 4.8}, {'text': \"which is going through, and it's called\", 'start': 582.56, 'duration': 3.839}, {'text': 'the factchecking tool right here. Now,', 'start': 584.56, 'duration': 4.8}, {'text': 'this factecking tool just has some mock', 'start': 586.399, 'duration': 4.56}, {'text': 'data right here. Of course, if you', 'start': 589.36, 'duration': 2.96}, {'text': 'actually wanted the fact checker to', 'start': 590.959, 'duration': 3.121}, {'text': 'work, you could connect this to an', 'start': 592.32, 'duration': 4.16}, {'text': 'external tool such as Google search or', 'start': 594.08, 'duration': 4.24}, {'text': 'whatever the case may be. Next, you can', 'start': 596.48, 'duration': 4.32}, {'text': 'see we have our merge node right here.', 'start': 598.32, 'duration': 4.56}, {'text': 'And then we have the report compiler', 'start': 600.8, 'duration': 4.0}, {'text': 'agent right here. And you can see that', 'start': 602.88, 'duration': 3.6}, {'text': \"it's following the same schema that we\", 'start': 604.8, 'duration': 3.68}, {'text': 'outlined right here in the final report', 'start': 606.48, 'duration': 3.28}, {'text': \"parser. So, I'm not going to read\", 'start': 608.48, 'duration': 3.6}, {'text': 'through this entire uh output, but you', 'start': 609.76, 'duration': 4.079}, {'text': 'kind of get the gist right here. Now,', 'start': 612.08, 'duration': 2.96}, {'text': 'there was a couple different issues', 'start': 613.839, 'duration': 2.641}, {'text': 'here. you know, things we had to', 'start': 615.04, 'duration': 4.0}, {'text': 'troubleshoot back and forth within NAN', 'start': 616.48, 'duration': 5.039}, {'text': 'AI or within Claude. But this whole', 'start': 619.04, 'duration': 4.96}, {'text': 'process really does just streamline', 'start': 621.519, 'duration': 4.56}, {'text': 'building AI agents and makes your job', 'start': 624.0, 'duration': 4.88}, {'text': 'and my job just a whole lot easier. As', 'start': 626.079, 'duration': 4.641}, {'text': 'you can see, this still does mean that', 'start': 628.88, 'duration': 4.8}, {'text': 'you as an AI builder and NAN workflow', 'start': 630.72, 'duration': 5.28}, {'text': 'builder need to be able to troubleshoot', 'start': 633.68, 'duration': 4.32}, {'text': 'different things and, you know, still', 'start': 636.0, 'duration': 4.16}, {'text': 'have to have a good understanding of', 'start': 638.0, 'duration': 3.92}, {'text': \"what you're actually building. But I'm\", 'start': 640.16, 'duration': 3.04}, {'text': 'sure you can see here how the', 'start': 641.92, 'duration': 2.72}, {'text': \"possibilities are endless when you're\", 'start': 643.2, 'duration': 2.879}, {'text': 'diving into different realms on', 'start': 644.64, 'duration': 3.12}, {'text': 'different projects or workflows that you', 'start': 646.079, 'duration': 4.641}, {'text': 'may or may not have experience in. And', 'start': 647.76, 'duration': 4.639}, {'text': 'maybe you just want to get something', 'start': 650.72, 'duration': 4.239}, {'text': 'working really quickly as an MVP. This', 'start': 652.399, 'duration': 3.921}, {'text': 'is something that you can spin up in', 'start': 654.959, 'duration': 3.281}, {'text': 'just a couple minutes and then iterate', 'start': 656.32, 'duration': 5.92}, {'text': \"on improve yourself or with N's AI as\", 'start': 658.24, 'duration': 5.279}, {'text': 'well. So just to walk through this', 'start': 662.24, 'duration': 3.039}, {'text': \"process one more time, let's say I\", 'start': 663.519, 'duration': 3.44}, {'text': 'wanted to create a rag knowledge', 'start': 665.279, 'duration': 3.841}, {'text': 'assistant. So we can go here, click on', 'start': 666.959, 'duration': 3.681}, {'text': \"that. Now, of course, I'm just showing\", 'start': 669.12, 'duration': 3.36}, {'text': 'you some of their pre-made examples. You', 'start': 670.64, 'duration': 3.199}, {'text': 'can, of course, prompt this in any', 'start': 672.48, 'duration': 3.12}, {'text': 'single way that you choose. So, here', 'start': 673.839, 'duration': 3.281}, {'text': 'we\\'re saying, \"Build a pipeline that', 'start': 675.6, 'duration': 4.72}, {'text': 'accepts PDF, CSV, and JSON files through', 'start': 677.12, 'duration': 6.399}, {'text': 'an NAND form. Chunk documents into 1,00', 'start': 680.32, 'duration': 5.6}, {'text': 'token segments. Generate embeddings and', 'start': 683.519, 'duration': 5.041}, {'text': 'store in a vector database. Use the file', 'start': 685.92, 'duration': 5.12}, {'text': 'name as the document key and add', 'start': 688.56, 'duration': 5.04}, {'text': 'metadata, including upload date and file', 'start': 691.04, 'duration': 5.039}, {'text': 'type. Include a chatbot that can answer', 'start': 693.6, 'duration': 4.72}, {'text': 'questions based on a knowledge base.', 'start': 696.079, 'duration': 3.521}, {'text': \"Now, we're going to go ahead and click\", 'start': 698.32, 'duration': 4.0}, {'text': 'on create workflow. And now, we can sit', 'start': 699.6, 'duration': 5.12}, {'text': \"back and see the magic unfold. It's\", 'start': 702.32, 'duration': 4.8}, {'text': \"searching through nodes. It's thinking\", 'start': 704.72, 'duration': 4.0}, {'text': 'right now. All right. So, you can see', 'start': 707.12, 'duration': 2.959}, {'text': \"that it's going through different\", 'start': 708.72, 'duration': 3.119}, {'text': 'iterations here with the different', 'start': 710.079, 'duration': 3.921}, {'text': 'nodes. It starts off very messy and then', 'start': 711.839, 'duration': 3.44}, {'text': \"we're going to get a more refined\", 'start': 714.0, 'duration': 4.079}, {'text': 'version later on. Okay. And boom, we got', 'start': 715.279, 'duration': 4.641}, {'text': 'our workflow set up. Now, of course,', 'start': 718.079, 'duration': 3.601}, {'text': 'there is some issues here that I would', 'start': 719.92, 'duration': 3.359}, {'text': 'actually go and troubleshoot. I can', 'start': 721.68, 'duration': 3.44}, {'text': 'already see right off the bat a few', 'start': 723.279, 'duration': 4.24}, {'text': 'different things that need to be uh', 'start': 725.12, 'duration': 4.0}, {'text': 'changed around. This is the of course', 'start': 727.519, 'duration': 3.601}, {'text': 'the first iteration, but we can see it', 'start': 729.12, 'duration': 4.32}, {'text': 'has the setup uh guide right here how to', 'start': 731.12, 'duration': 4.32}, {'text': 'actually use it. And of course, like I', 'start': 733.44, 'duration': 3.6}, {'text': 'showed you before, you can go back and', 'start': 735.44, 'duration': 4.72}, {'text': 'forth and get this AI agent to iterate', 'start': 737.04, 'duration': 5.44}, {'text': 'on itself and change the workflow. And', 'start': 740.16, 'duration': 3.76}, {'text': 'once you get access to this feature and', 'start': 742.48, 'duration': 2.96}, {'text': 'you start using it, like I said, this', 'start': 743.92, 'duration': 3.039}, {'text': 'gives you a really good starting point.', 'start': 745.44, 'duration': 3.519}, {'text': 'And then you can go back and forth with', 'start': 746.959, 'duration': 5.761}, {'text': 'the build AI agent in N8N or the ask', 'start': 748.959, 'duration': 5.12}, {'text': 'node right here. The cool thing about', 'start': 752.72, 'duration': 3.52}, {'text': 'this one is if you ask it is actually', 'start': 754.079, 'duration': 4.721}, {'text': \"going to leverage N8's dogs as well as\", 'start': 756.24, 'duration': 5.279}, {'text': \"N8N's community FAQs, all that\", 'start': 758.8, 'duration': 4.32}, {'text': 'information to help you troubleshoot', 'start': 761.519, 'duration': 4.241}, {'text': 'this. Of course, you can also use GPT', 'start': 763.12, 'duration': 4.399}, {'text': 'and Claude to assist you on different', 'start': 765.76, 'duration': 4.879}, {'text': 'things. So all in all, you being able to', 'start': 767.519, 'duration': 5.681}, {'text': 'troubleshoot the initial build that it', 'start': 770.639, 'duration': 4.961}, {'text': 'gives you here and then improve upon it', 'start': 773.2, 'duration': 4.4}, {'text': 'is really where I see that most of your', 'start': 775.6, 'duration': 4.799}, {'text': \"time can be spent on since NAND's AI\", 'start': 777.6, 'duration': 4.88}, {'text': 'builder takes care of really the first', 'start': 780.399, 'duration': 4.081}, {'text': 'few iterations. Now, like I mentioned at', 'start': 782.48, 'duration': 3.599}, {'text': 'the start of this video, guys, I put', 'start': 784.48, 'duration': 4.72}, {'text': 'together an eightpage document outlining', 'start': 786.079, 'duration': 6.161}, {'text': 'the N AI workflow builder and how you', 'start': 789.2, 'duration': 4.8}, {'text': 'can capitalize on the amazing', 'start': 792.24, 'duration': 3.52}, {'text': 'opportunity ahead of you with building', 'start': 794.0, 'duration': 3.92}, {'text': 'different AI agents and workflows with', 'start': 795.76, 'duration': 4.16}, {'text': 'NAND. Now, in this doc, it covers a few', 'start': 797.92, 'duration': 4.0}, {'text': 'things about the changing landscape for', 'start': 799.92, 'duration': 5.12}, {'text': 'NAND builders. what high demand workflow', 'start': 801.92, 'duration': 5.039}, {'text': 'categories that you can focus on to', 'start': 805.04, 'duration': 4.479}, {'text': 'build your agents and workflows in are', 'start': 806.959, 'duration': 4.081}, {'text': 'different ways you can package your', 'start': 809.519, 'duration': 3.921}, {'text': 'services, price your services, how you', 'start': 811.04, 'duration': 4.0}, {'text': 'can position yourself in the market,', 'start': 813.44, 'duration': 3.68}, {'text': 'some different examples, and then an', 'start': 815.04, 'duration': 3.599}, {'text': 'action plan that you can use to get', 'start': 817.12, 'duration': 3.12}, {'text': 'started. Now, this whole document as', 'start': 818.639, 'duration': 3.921}, {'text': 'well as the NAN AI agent that we built', 'start': 820.24, 'duration': 4.64}, {'text': 'in this example of the video will be', 'start': 822.56, 'duration': 5.04}, {'text': 'available within my new free Stride AI', 'start': 824.88, 'duration': 4.56}, {'text': 'Academy on schools. So, make sure that', 'start': 827.6, 'duration': 4.32}, {'text': 'you join down below 100% for free to get', 'start': 829.44, 'duration': 5.04}, {'text': \"access to the resources in today's video\", 'start': 831.92, 'duration': 4.719}, {'text': 'as well as all the resources in my old', 'start': 834.48, 'duration': 4.32}, {'text': 'videos and future videos to come. You', 'start': 836.639, 'duration': 3.76}, {'text': 'can also connect with other like-minded', 'start': 838.8, 'duration': 4.56}, {'text': 'NAND AI agent builders as well as myself', 'start': 840.399, 'duration': 4.88}, {'text': 'and my team. Now, I do want to cover a', 'start': 843.36, 'duration': 4.0}, {'text': 'few things from this doc in this video.', 'start': 845.279, 'duration': 4.8}, {'text': 'So, the release of the AI agent workflow', 'start': 847.36, 'duration': 4.96}, {'text': 'builder marks a fundamental shift in', 'start': 850.079, 'duration': 5.12}, {'text': 'automation. Before building workflows', 'start': 852.32, 'duration': 4.879}, {'text': 'required technical knowledge, time,', 'start': 855.199, 'duration': 4.08}, {'text': 'patience, just like coding before', 'start': 857.199, 'duration': 6.0}, {'text': 'cursor. Now with this workflow builder,', 'start': 859.279, 'duration': 7.041}, {'text': 'anyone can describe what they want and', 'start': 863.199, 'duration': 5.361}, {'text': 'get a working starting point, a', 'start': 866.32, 'duration': 5.04}, {'text': 'prototype in mere minutes. So what does', 'start': 868.56, 'duration': 4.88}, {'text': 'this mean for you? The market for', 'start': 871.36, 'duration': 4.88}, {'text': 'automation one is about to explode. Your', 'start': 873.44, 'duration': 5.519}, {'text': 'expertise becomes more valuable, not', 'start': 876.24, 'duration': 5.2}, {'text': 'less. New service opportunities that', 'start': 878.959, 'duration': 4.56}, {'text': \"didn't exist before are now here. You\", 'start': 881.44, 'duration': 3.92}, {'text': 'have a speed advantage over traditional', 'start': 883.519, 'duration': 4.801}, {'text': 'builders. Now you must differentiate', 'start': 885.36, 'duration': 5.36}, {'text': 'yourself in the market to ensure that', 'start': 888.32, 'duration': 4.72}, {'text': 'your services are not just another', 'start': 890.72, 'duration': 3.919}, {'text': \"commodity. This also means that there's\", 'start': 893.04, 'duration': 3.039}, {'text': 'going to be a lot more competition that', 'start': 894.639, 'duration': 3.601}, {'text': 'arises within the market. So with this', 'start': 896.079, 'duration': 3.76}, {'text': 'shifting landscape, you know, the old', 'start': 898.24, 'duration': 4.159}, {'text': 'models where you spend hours manually', 'start': 899.839, 'duration': 4.401}, {'text': 'connecting nodes, deep technical', 'start': 902.399, 'duration': 3.281}, {'text': 'knowledge was the primary value', 'start': 904.24, 'duration': 3.76}, {'text': 'proposition limited by how fast you', 'start': 905.68, 'duration': 4.32}, {'text': 'could physically build. Now, the new', 'start': 908.0, 'duration': 3.68}, {'text': 'model, and of course, keep in mind this', 'start': 910.0, 'duration': 4.399}, {'text': 'feature is just in beta, and this is the', 'start': 911.68, 'duration': 4.399}, {'text': \"dumbest it's ever going to be. It's only\", 'start': 914.399, 'duration': 3.201}, {'text': 'going to get better from here. So, the', 'start': 916.079, 'duration': 4.721}, {'text': 'new model AI handles basic workflow', 'start': 917.6, 'duration': 5.12}, {'text': 'structure, strategic thinking, and', 'start': 920.8, 'duration': 4.479}, {'text': 'optimization is the value proposition.', 'start': 922.72, 'duration': 4.559}, {'text': \"It's really only limited by how fast you\", 'start': 925.279, 'duration': 4.161}, {'text': 'can think and iterate. Now, why experts', 'start': 927.279, 'duration': 4.161}, {'text': 'will win? So, beginners will hit walls', 'start': 929.44, 'duration': 4.48}, {'text': 'and complex logic. Error handling,', 'start': 931.44, 'duration': 4.72}, {'text': 'scaling, and production readiness still', 'start': 933.92, 'duration': 4.32}, {'text': 'requires expertise. So prompt', 'start': 936.16, 'duration': 4.16}, {'text': 'engineering for your workflows is a new', 'start': 938.24, 'duration': 4.48}, {'text': 'skill that you can learn faster. So', 'start': 940.32, 'duration': 4.16}, {'text': 'quality assurance and optimization', 'start': 942.72, 'duration': 3.52}, {'text': 'separates pros from amateurs. And one', 'start': 944.48, 'duration': 3.68}, {'text': \"thing I'll say too is that your IP, your\", 'start': 946.24, 'duration': 3.76}, {'text': 'intellectual property and your domain', 'start': 948.16, 'duration': 4.32}, {'text': 'expertise around specific subjects, your', 'start': 950.0, 'duration': 4.24}, {'text': 'ability to create knowledge bases on', 'start': 952.48, 'duration': 3.2}, {'text': 'different industries and everything like', 'start': 954.24, 'duration': 2.8}, {'text': 'that is really going to be what', 'start': 955.68, 'duration': 3.44}, {'text': 'separates you from other NAN AI', 'start': 957.04, 'duration': 3.84}, {'text': 'builders. And then also too guys, one', 'start': 959.12, 'duration': 3.92}, {'text': \"thing I always say is don't just sell\", 'start': 960.88, 'duration': 4.72}, {'text': \"like a copy and paste workflow. That's a\", 'start': 963.04, 'duration': 4.08}, {'text': \"commodity. As you see, it's becoming\", 'start': 965.6, 'duration': 3.28}, {'text': \"more and more of a commodity, and it's\", 'start': 967.12, 'duration': 3.44}, {'text': 'only going to get like more of a', 'start': 968.88, 'duration': 3.92}, {'text': 'commodity with this feature and as it', 'start': 970.56, 'duration': 4.16}, {'text': 'improves. You need to sell an entire', 'start': 972.8, 'duration': 4.24}, {'text': 'business solution, a transformation for', 'start': 974.72, 'duration': 4.08}, {'text': 'that business owner. Keep in mind, guys,', 'start': 977.04, 'duration': 3.68}, {'text': \"clients pay for outcomes. Whether that's\", 'start': 978.8, 'duration': 4.479}, {'text': 'you being able to save a business time', 'start': 980.72, 'duration': 4.88}, {'text': 'in their operations and increase their', 'start': 983.279, 'duration': 4.321}, {'text': 'efficiency, or if you can create AI', 'start': 985.6, 'duration': 3.84}, {'text': 'agents and workflows like appointment', 'start': 987.6, 'duration': 4.0}, {'text': 'setters, different sales enabled AI', 'start': 989.44, 'duration': 4.319}, {'text': 'agents that actually can increase the', 'start': 991.6, 'duration': 3.919}, {'text': \"business's revenue. Personally, I've\", 'start': 993.759, 'duration': 3.361}, {'text': 'been focusing on the ladder just because', 'start': 995.519, 'duration': 3.201}, {'text': \"that's how I've been able to charge\", 'start': 997.12, 'duration': 4.8}, {'text': 'anywhere between5 to $25,000$5', 'start': 998.72, 'duration': 5.679}, {'text': 'to $25,000 for my services. Now, like I', 'start': 1001.92, 'duration': 3.76}, {'text': 'said, this entire guide will be', 'start': 1004.399, 'duration': 2.961}, {'text': 'available in my school community. But', 'start': 1005.68, 'duration': 3.839}, {'text': 'just a few final thoughts here. The AI', 'start': 1007.36, 'duration': 4.08}, {'text': \"workflow builder isn't going to replace\", 'start': 1009.519, 'duration': 4.161}, {'text': \"NAM builders. It's going to empower you.\", 'start': 1011.44, 'duration': 4.16}, {'text': \"It's going to create more NAM builders,\", 'start': 1013.68, 'duration': 3.599}, {'text': 'of course, and make the experienced ones', 'start': 1015.6, 'duration': 3.919}, {'text': 'more valuable. So, the opportunity is', 'start': 1017.279, 'duration': 4.48}, {'text': 'now. Last week, I posted a video in our', 'start': 1019.519, 'duration': 4.0}, {'text': 'school community about an AI agent', 'start': 1021.759, 'duration': 4.721}, {'text': 'template I made at N&N that made me 21K', 'start': 1023.519, 'duration': 4.961}, {'text': 'in just a few days. I have it saying in', 'start': 1026.48, 'duration': 3.199}, {'text': 'a week here, but it was actually just', 'start': 1028.48, 'duration': 2.719}, {'text': 'over the weekend. So, it was literally', 'start': 1029.679, 'duration': 5.28}, {'text': 'like 3 days and that was 21K with the', 'start': 1031.199, 'duration': 6.0}, {'text': 'same AI agent template that I posted in', 'start': 1034.959, 'duration': 4.08}, {'text': 'the school community for free. So, if', 'start': 1037.199, 'duration': 3.041}, {'text': \"you haven't already, join the school\", 'start': 1039.039, 'duration': 2.88}, {'text': 'community and watch this video as well.', 'start': 1040.24, 'duration': 3.28}, {'text': 'Download the template, all that good', 'start': 1041.919, 'duration': 3.201}, {'text': 'stuff. And I just say that to show you', 'start': 1043.52, 'duration': 3.2}, {'text': 'that this is something that if you focus', 'start': 1045.12, 'duration': 4.0}, {'text': 'on developing this skill set on NADN,', 'start': 1046.72, 'duration': 4.319}, {'text': 'this is something that can actually pay', 'start': 1049.12, 'duration': 3.6}, {'text': 'you. And I know for a lot of you guys,', 'start': 1051.039, 'duration': 3.281}, {'text': 'this is money that can change your life.', 'start': 1052.72, 'duration': 3.12}, {'text': 'So yeah, guys, with that being said, I', 'start': 1054.32, 'duration': 3.52}, {'text': 'am extremely grateful myself to be able', 'start': 1055.84, 'duration': 4.56}, {'text': 'to leverage amazing tools like NAND. And', 'start': 1057.84, 'duration': 3.76}, {'text': 'these are tools that have completely', 'start': 1060.4, 'duration': 3.04}, {'text': \"changed my life. So I'm grateful for the\", 'start': 1061.6, 'duration': 4.16}, {'text': 'great NAND team over there to give me', 'start': 1063.44, 'duration': 4.479}, {'text': 'access to this feature to test it out', 'start': 1065.76, 'duration': 4.0}, {'text': 'and share with you guys in this video', 'start': 1067.919, 'duration': 3.281}, {'text': 'today. If you guys are new here, we', 'start': 1069.76, 'duration': 3.44}, {'text': 'upload videos all the time on NN AI', 'start': 1071.2, 'duration': 4.16}, {'text': 'automations, AI agent mastery. So, if', 'start': 1073.2, 'duration': 3.52}, {'text': 'you got some value here, make sure to', 'start': 1075.36, 'duration': 3.28}, {'text': 'like the video, comment down below, ask', 'start': 1076.72, 'duration': 3.68}, {'text': 'me any questions you have, and subscribe', 'start': 1078.64, 'duration': 3.039}, {'text': 'to stay up to date with our future', 'start': 1080.4, 'duration': 2.639}, {'text': 'videos. Also too, guys, like I', 'start': 1081.679, 'duration': 3.12}, {'text': 'mentioned, link to our free school', 'start': 1083.039, 'duration': 3.52}, {'text': 'community with all the resources, all', 'start': 1084.799, 'duration': 3.441}, {'text': 'the different trainings, and eight-page', 'start': 1086.559, 'duration': 3.12}, {'text': 'document like I shared with you in', 'start': 1088.24, 'duration': 3.2}, {'text': \"today's video will be in the school\", 'start': 1089.679, 'duration': 3.12}, {'text': \"community. And then I'll leave a link\", 'start': 1091.44, 'duration': 2.96}, {'text': 'down below as well for the StrideAI', 'start': 1092.799, 'duration': 4.0}, {'text': 'Academy Pro if you want to join for our', 'start': 1094.4, 'duration': 4.96}, {'text': 'premium templates, trainings, etc. And', 'start': 1096.799, 'duration': 3.841}, {'text': \"right now it's the lowest price it will\", 'start': 1099.36, 'duration': 2.72}, {'text': 'ever be. So you can check that out if', 'start': 1100.64, 'duration': 3.2}, {'text': 'you want. And then also if you want help', 'start': 1102.08, 'duration': 4.32}, {'text': 'implementing AI into your business or if', 'start': 1103.84, 'duration': 4.4}, {'text': 'you actually want help selling these', 'start': 1106.4, 'duration': 4.56}, {'text': 'same AI solutions into other businesses.', 'start': 1108.24, 'duration': 4.64}, {'text': 'Like I mentioned, we sell voice AI', 'start': 1110.96, 'duration': 4.56}, {'text': 'solutions, sales solutions, CRM, AI', 'start': 1112.88, 'duration': 5.2}, {'text': 'automations to businesses. And like I', 'start': 1115.52, 'duration': 4.159}, {'text': 'said, our prices vary from anywhere from', 'start': 1118.08, 'duration': 4.24}, {'text': '5K, 25K plus. So if you want to be able', 'start': 1119.679, 'duration': 4.321}, {'text': 'to do the same and sell that to', 'start': 1122.32, 'duration': 3.44}, {'text': 'businesses, we can actually show you', 'start': 1124.0, 'duration': 3.36}, {'text': 'how. We can show you how to set up a', 'start': 1125.76, 'duration': 3.52}, {'text': 'proper acquisition channel that gets you', 'start': 1127.36, 'duration': 3.6}, {'text': 'predictable appointments booked on your', 'start': 1129.28, 'duration': 3.2}, {'text': \"calendar so you're not just sending out\", 'start': 1130.96, 'duration': 3.44}, {'text': 'pointless cold emails or cold calling', 'start': 1132.48, 'duration': 3.68}, {'text': 'and just hoping for appointments to show', 'start': 1134.4, 'duration': 3.84}, {'text': 'up on your calendar. We run predictable', 'start': 1136.16, 'duration': 3.68}, {'text': 'paid acquisition for our own business', 'start': 1138.24, 'duration': 2.88}, {'text': \"and our clients and that's been the\", 'start': 1139.84, 'duration': 2.48}, {'text': \"quickest way we've been able to\", 'start': 1141.12, 'duration': 2.799}, {'text': 'accelerate our growth. Other than that', 'start': 1142.32, 'duration': 2.96}, {'text': 'guys, let me know what your thoughts are', 'start': 1143.919, 'duration': 3.681}, {'text': 'about this new feature from NADN. Let me', 'start': 1145.28, 'duration': 3.68}, {'text': 'know what you think this means for the', 'start': 1147.6, 'duration': 3.12}, {'text': 'future of NAN builders and AI', 'start': 1148.96, 'duration': 3.36}, {'text': 'automation. Other than that guys, I hope', 'start': 1150.72, 'duration': 3.12}, {'text': 'you enjoyed this video. Have an amazing', 'start': 1152.32, 'duration': 2.96}, {'text': 'week. Like I said before, this feature', 'start': 1153.84, 'duration': 3.04}, {'text': 'will be available for you guys shortly', 'start': 1155.28, 'duration': 3.36}, {'text': 'from the NAN team once they actually', 'start': 1156.88, 'duration': 3.76}, {'text': 'deploy this new version. So, have a', 'start': 1158.64, 'duration': 3.84}, {'text': 'great week, guys. Keep hustling, keep', 'start': 1160.64, 'duration': 3.2}, {'text': 'grinding, and of course, guys,', 'start': 1162.48, 'duration': 5.52}, {'text': 'accelerate your stride. Take care.', 'start': 1163.84, 'duration': 4.16}]\n"
          ]
        }
      ]
    },
    {
      "cell_type": "code",
      "source": [
        "# Combine list of dicts into one single text string\n",
        "combined_text = \" \".join(chunk[\"text\"] for chunk in transcript)\n"
      ],
      "metadata": {
        "id": "Sc5866V2pBsT"
      },
      "execution_count": 12,
      "outputs": []
    },
    {
      "cell_type": "code",
      "source": [
        "print(combined_text)"
      ],
      "metadata": {
        "colab": {
          "base_uri": "https://localhost:8080/"
        },
        "id": "6ubpsb0lw1W7",
        "outputId": "5c8695c9-865f-4c73-bab2-df66e9122291"
      },
      "execution_count": 14,
      "outputs": [
        {
          "output_type": "stream",
          "name": "stdout",
          "text": [
            "This might just be the biggest change to NN since well, it even existed. And I got early access. What if you could build a complete AI agent or automation workflow simply just by describing what you want in plain English? No more dragging around boxes for 8 hours. It's literally just the chat GPT for NAND. I just built a workflow that would have taken me hours within the last few minutes. And let me show you how. This is NadN's new AI workflow builder, also called text to workflow, and they made it easier than ever somehow to actually go ahead and build AI agents without writing a single line of code. Hey, I'm Josh and I've been covering NAN automations on this channel for the past year. And NAN just invited me to their limited beta for this new tool. And honestly, I'm not sure if I'm excited or a bit concerned for my own job security because here's the thing. remember spending hours connecting nodes, debugging web hooks, and wrestling with JSON? Yeah, that might be over. In this video, I'm going to show you real examples, both incredible wins and limitations, with this tool and whether this actually lives up to the hype. I've been using it for the last few days and the results have been crazy. Plus, I'll break down what this means for the future of NAM Builders and why the opportunity ahead has never been greater. I've even put together a free eightpage guide on how to actually start selling AI automation services or leverage this in your current existing business. So, make sure you stick around to see what's possible and get access to this guide. But first, let me show you what this thing can actually do. All right, so like I mentioned, this still is a beta feature within NAND and it will be rolling out, I believe, sometime this next couple weeks. So, you should be seeing it in your cloud version if you're on the cloud. Right now, they're still determining when they're actually going to be releasing it to the self-hosted version, but once they do, it's going to be really, really cool. So, now when you go ahead to create a workflow within NAN, you see this nice, beautiful chat GPT like interface where it's asking you what would you like to automate. You do of course still have the option to start manually and actually manually build out the process, but here you can see it's giving us some example prompts right here. So, invoice processing pipeline, daily AI news digest, rag knowledge assistant, summarize emails with AI, YouTube video chapters, multi- aent research workflow. So, just to test this out initially, we're going to go ahead and run this multi- aent research workflow. So, you can see here we got multi-agent AI workflow where different agents collaborate to research a topic, fact check information, and compile comprehensive reports. Now I'm going to go ahead and click on create workflow. It's really that simple. And now you'll see on the right hand side we have our N8N AI. So it's a similar type UI as maybe things like cursor or chatgpt whatever the case may be. And this is really cool because you can see you have the option to either ask or build. So right now of course it is going about building. So we can see our prompt here and we can see the assistant right now. So it is searching the nodes getting node details and it's thinking about what it actually should build. Okay. So here is kind of the first iteration. It just threw a bunch of nodes on the um canvas here. And as you can see right now they are not connected or anything like that. Okay. So as you can see it threw a bunch of nodes on the canvas and it starts to kind of think throughout the process before it connects them. So it initially just throws the nodes on the canvas and now you can see it's starting to actually build some of those connections. So it's connecting the nodes. It's still thinking. We have kind of the second iteration here. But just wait a second and we're going to see how it iterates throughout this process. Okay. So here we're seeing that it's updating save report node parameters. So we can see all the different kind of tools that it has access to and that it's using throughout this process. All right. So now it is officially done. We can see that it's giving us a setup guide. So how to set this up? Configure our open AI credentials, our SER API, update the safe report node URL to your actual report storage endpoint, modify the research topic in the N workflow configuration as needed. And we can see this workflow runs automatically at 9:00 a.m. You can also trigger it manually to test and the system will research the configured topic using the web search fact check findings for accuracy, compile a comprehensive structured report and save the final report to your specified endpoint. Now let's go ahead and take a look at what it actually built us here. So we can literally see just that. Right here we have a research schedule. So 9:00 a.m. node right here. Then we have our workflow configuration. So this is actually where we would go to configure things out. So it's just a set node right here. We can see our research topic. Right now it's AI and machine learning trends. Here we have max search results. Right now it's at 10 report format. So here it's comprehensive. And we can see that it's going into our initial research agent right here which has a system message. So pretty basic. You are a research specialist. Conduct comprehensive research on the given topic using available tools. Focus on gathering accurate up-to-date information from reliable sources. Then we have of course access to our open AI right here which is just using the model. We have some memory right here. Okay. Next we have our SER API which is the Google search tool right here. All right. And we have an output parser right here. So it's literally giving us the defined JSON schema that we want the output to be in. All right. So next we have a merge node right here. We have a fact check agent right here which is kind of doing the same thing. It looks like we're getting a bit of issue here. We're going to come back to that. And then we have a report compiler agent. Okay. And the report compiler agent has access to the research agent tool right here. So it's same tools as well as the fact check agent as well. So, it has access to all those same tools. And then we have the final uh report parser output right here. And then saving the report endpoint, which is really just to wherever we want that report to. Now, it looks like we're experiencing an issue here. So, I'm saying right now, it looks good. The fact check agent isn't connected to anything on the input side, though. So, I'm going to go ahead and send this and let's see what this actually does to make some of these iterations. So, we can see that it is currently thinking and working about this. Okay, now it is connecting the nodes. Okay, so now we can see the fact check agent is now properly connected to receive the research findings from the research agent. The workflow will now flow correctly. Research agent, fact check agent, merge results and then report compiler agent. So this looks a lot better. Now we can see we have our research agent and then the fact checker agent is right here with the merge node which makes a lot more sense. Then we have that same report compiler agent right here and then the save report. So this looks pretty good for me right now. I'm going to go ahead and save this and actually run a test through this. Okay, so now we're going to execute our very first test. So we can see the research agent is working its magic right here. So we can see it's using the SER API right here to should do a total of 10 times like we configured within the workflow configuration. It looks like we're getting an error here. So you need to define at least one pair of fields in the field to match to match on. So I'm just going to paste this error into the actual agent here and say the merge node is giving me this issue. Now I could fix this of course myself, but I want to see the agent update itself with the correct update. So now we see that it has updated itself. Let's go ahead and check this. Okay, the merge node did work this time and now we're using the fact checker agent and that went through too. So next we can go ahead and just use the compiler agent right here. So it's going to take all that information from the research agent and the fact check agent. Okay, looks like we're getting an error here for it to be reading the uh fact check agent. So now I'm going to say to nai here the fact check agent tool under the compiler agent and then I'm pasting in that error here. It should update it with the correct nodes here. Okay, so now it made the update and if we go ahead and rerun this. All right. So, I'm still getting another issue here for the fact check agent. So, I'm going to paste this back in here. All right. So, I just actually asked Claude about this and it's basically saying that there is a circular tool dependency which makes sense. So, I just pasted that into NAI here and then it's basically saying you're absolutely right about the circular dependency here and now it actually went ahead and executed on that should make things a lot simpler which looks like it did a good job on. So, we can go ahead and test this now. So, I encountered another issue here where the fact check agent wasn't running. So, I actually just asked Claude about it as well. It gave me an answer and I simply just paste that into NAI here to execute on. And let's see what it actually does. Okay, so now we got a code node right here after the research agent which formats the data for the fact check agent before it does the merge node. So, let's go ahead and test this and see if it works. All right. So, after going back and forth a couple different times, you can see that we actually have a finished workflow that is working. Okay. So, now we're going to go ahead and run a test right here throughout the entire workflow. And as you can see, the research agent is going. It's doing its magic right here with SER API going through. Next, we have our fact checker, which is going through, and it's called the factchecking tool right here. Now, this factecking tool just has some mock data right here. Of course, if you actually wanted the fact checker to work, you could connect this to an external tool such as Google search or whatever the case may be. Next, you can see we have our merge node right here. And then we have the report compiler agent right here. And you can see that it's following the same schema that we outlined right here in the final report parser. So, I'm not going to read through this entire uh output, but you kind of get the gist right here. Now, there was a couple different issues here. you know, things we had to troubleshoot back and forth within NAN AI or within Claude. But this whole process really does just streamline building AI agents and makes your job and my job just a whole lot easier. As you can see, this still does mean that you as an AI builder and NAN workflow builder need to be able to troubleshoot different things and, you know, still have to have a good understanding of what you're actually building. But I'm sure you can see here how the possibilities are endless when you're diving into different realms on different projects or workflows that you may or may not have experience in. And maybe you just want to get something working really quickly as an MVP. This is something that you can spin up in just a couple minutes and then iterate on improve yourself or with N's AI as well. So just to walk through this process one more time, let's say I wanted to create a rag knowledge assistant. So we can go here, click on that. Now, of course, I'm just showing you some of their pre-made examples. You can, of course, prompt this in any single way that you choose. So, here we're saying, \"Build a pipeline that accepts PDF, CSV, and JSON files through an NAND form. Chunk documents into 1,00 token segments. Generate embeddings and store in a vector database. Use the file name as the document key and add metadata, including upload date and file type. Include a chatbot that can answer questions based on a knowledge base. Now, we're going to go ahead and click on create workflow. And now, we can sit back and see the magic unfold. It's searching through nodes. It's thinking right now. All right. So, you can see that it's going through different iterations here with the different nodes. It starts off very messy and then we're going to get a more refined version later on. Okay. And boom, we got our workflow set up. Now, of course, there is some issues here that I would actually go and troubleshoot. I can already see right off the bat a few different things that need to be uh changed around. This is the of course the first iteration, but we can see it has the setup uh guide right here how to actually use it. And of course, like I showed you before, you can go back and forth and get this AI agent to iterate on itself and change the workflow. And once you get access to this feature and you start using it, like I said, this gives you a really good starting point. And then you can go back and forth with the build AI agent in N8N or the ask node right here. The cool thing about this one is if you ask it is actually going to leverage N8's dogs as well as N8N's community FAQs, all that information to help you troubleshoot this. Of course, you can also use GPT and Claude to assist you on different things. So all in all, you being able to troubleshoot the initial build that it gives you here and then improve upon it is really where I see that most of your time can be spent on since NAND's AI builder takes care of really the first few iterations. Now, like I mentioned at the start of this video, guys, I put together an eightpage document outlining the N AI workflow builder and how you can capitalize on the amazing opportunity ahead of you with building different AI agents and workflows with NAND. Now, in this doc, it covers a few things about the changing landscape for NAND builders. what high demand workflow categories that you can focus on to build your agents and workflows in are different ways you can package your services, price your services, how you can position yourself in the market, some different examples, and then an action plan that you can use to get started. Now, this whole document as well as the NAN AI agent that we built in this example of the video will be available within my new free Stride AI Academy on schools. So, make sure that you join down below 100% for free to get access to the resources in today's video as well as all the resources in my old videos and future videos to come. You can also connect with other like-minded NAND AI agent builders as well as myself and my team. Now, I do want to cover a few things from this doc in this video. So, the release of the AI agent workflow builder marks a fundamental shift in automation. Before building workflows required technical knowledge, time, patience, just like coding before cursor. Now with this workflow builder, anyone can describe what they want and get a working starting point, a prototype in mere minutes. So what does this mean for you? The market for automation one is about to explode. Your expertise becomes more valuable, not less. New service opportunities that didn't exist before are now here. You have a speed advantage over traditional builders. Now you must differentiate yourself in the market to ensure that your services are not just another commodity. This also means that there's going to be a lot more competition that arises within the market. So with this shifting landscape, you know, the old models where you spend hours manually connecting nodes, deep technical knowledge was the primary value proposition limited by how fast you could physically build. Now, the new model, and of course, keep in mind this feature is just in beta, and this is the dumbest it's ever going to be. It's only going to get better from here. So, the new model AI handles basic workflow structure, strategic thinking, and optimization is the value proposition. It's really only limited by how fast you can think and iterate. Now, why experts will win? So, beginners will hit walls and complex logic. Error handling, scaling, and production readiness still requires expertise. So prompt engineering for your workflows is a new skill that you can learn faster. So quality assurance and optimization separates pros from amateurs. And one thing I'll say too is that your IP, your intellectual property and your domain expertise around specific subjects, your ability to create knowledge bases on different industries and everything like that is really going to be what separates you from other NAN AI builders. And then also too guys, one thing I always say is don't just sell like a copy and paste workflow. That's a commodity. As you see, it's becoming more and more of a commodity, and it's only going to get like more of a commodity with this feature and as it improves. You need to sell an entire business solution, a transformation for that business owner. Keep in mind, guys, clients pay for outcomes. Whether that's you being able to save a business time in their operations and increase their efficiency, or if you can create AI agents and workflows like appointment setters, different sales enabled AI agents that actually can increase the business's revenue. Personally, I've been focusing on the ladder just because that's how I've been able to charge anywhere between5 to $25,000$5 to $25,000 for my services. Now, like I said, this entire guide will be available in my school community. But just a few final thoughts here. The AI workflow builder isn't going to replace NAM builders. It's going to empower you. It's going to create more NAM builders, of course, and make the experienced ones more valuable. So, the opportunity is now. Last week, I posted a video in our school community about an AI agent template I made at N&N that made me 21K in just a few days. I have it saying in a week here, but it was actually just over the weekend. So, it was literally like 3 days and that was 21K with the same AI agent template that I posted in the school community for free. So, if you haven't already, join the school community and watch this video as well. Download the template, all that good stuff. And I just say that to show you that this is something that if you focus on developing this skill set on NADN, this is something that can actually pay you. And I know for a lot of you guys, this is money that can change your life. So yeah, guys, with that being said, I am extremely grateful myself to be able to leverage amazing tools like NAND. And these are tools that have completely changed my life. So I'm grateful for the great NAND team over there to give me access to this feature to test it out and share with you guys in this video today. If you guys are new here, we upload videos all the time on NN AI automations, AI agent mastery. So, if you got some value here, make sure to like the video, comment down below, ask me any questions you have, and subscribe to stay up to date with our future videos. Also too, guys, like I mentioned, link to our free school community with all the resources, all the different trainings, and eight-page document like I shared with you in today's video will be in the school community. And then I'll leave a link down below as well for the StrideAI Academy Pro if you want to join for our premium templates, trainings, etc. And right now it's the lowest price it will ever be. So you can check that out if you want. And then also if you want help implementing AI into your business or if you actually want help selling these same AI solutions into other businesses. Like I mentioned, we sell voice AI solutions, sales solutions, CRM, AI automations to businesses. And like I said, our prices vary from anywhere from 5K, 25K plus. So if you want to be able to do the same and sell that to businesses, we can actually show you how. We can show you how to set up a proper acquisition channel that gets you predictable appointments booked on your calendar so you're not just sending out pointless cold emails or cold calling and just hoping for appointments to show up on your calendar. We run predictable paid acquisition for our own business and our clients and that's been the quickest way we've been able to accelerate our growth. Other than that guys, let me know what your thoughts are about this new feature from NADN. Let me know what you think this means for the future of NAN builders and AI automation. Other than that guys, I hope you enjoyed this video. Have an amazing week. Like I said before, this feature will be available for you guys shortly from the NAN team once they actually deploy this new version. So, have a great week, guys. Keep hustling, keep grinding, and of course, guys, accelerate your stride. Take care.\n"
          ]
        }
      ]
    },
    {
      "cell_type": "markdown",
      "source": [
        "step 1 b , indexing: text splitting"
      ],
      "metadata": {
        "id": "_wNqnmsGwd8K"
      }
    },
    {
      "cell_type": "code",
      "source": [
        "splitter = RecursiveCharacterTextSplitter(\n",
        "    chunk_size=1000,\n",
        "    chunk_overlap=200\n",
        ")"
      ],
      "metadata": {
        "id": "ZeA09FQdpBvj"
      },
      "execution_count": 15,
      "outputs": []
    },
    {
      "cell_type": "code",
      "source": [
        "chunks = splitter.create_documents([combined_text])"
      ],
      "metadata": {
        "id": "cEbKrCUlwnB8"
      },
      "execution_count": 16,
      "outputs": []
    },
    {
      "cell_type": "code",
      "source": [
        "len(chunks)"
      ],
      "metadata": {
        "colab": {
          "base_uri": "https://localhost:8080/"
        },
        "id": "sRxvjofvwm_I",
        "outputId": "2ab82dbf-ade4-488d-a8a3-a2fb432e65b6"
      },
      "execution_count": 17,
      "outputs": [
        {
          "output_type": "execute_result",
          "data": {
            "text/plain": [
              "27"
            ]
          },
          "metadata": {},
          "execution_count": 17
        }
      ]
    },
    {
      "cell_type": "code",
      "source": [
        "chunks[5]"
      ],
      "metadata": {
        "colab": {
          "base_uri": "https://localhost:8080/"
        },
        "id": "wNeLQ3GIxLTS",
        "outputId": "ce5a051c-68ba-4603-edbe-564865be5d14"
      },
      "execution_count": 18,
      "outputs": [
        {
          "output_type": "execute_result",
          "data": {
            "text/plain": [
              "Document(metadata={}, page_content=\"that it's updating save report node parameters. So we can see all the different kind of tools that it has access to and that it's using throughout this process. All right. So now it is officially done. We can see that it's giving us a setup guide. So how to set this up? Configure our open AI credentials, our SER API, update the safe report node URL to your actual report storage endpoint, modify the research topic in the N workflow configuration as needed. And we can see this workflow runs automatically at 9:00 a.m. You can also trigger it manually to test and the system will research the configured topic using the web search fact check findings for accuracy, compile a comprehensive structured report and save the final report to your specified endpoint. Now let's go ahead and take a look at what it actually built us here. So we can literally see just that. Right here we have a research schedule. So 9:00 a.m. node right here. Then we have our workflow configuration. So this is actually\")"
            ]
          },
          "metadata": {},
          "execution_count": 18
        }
      ]
    },
    {
      "cell_type": "markdown",
      "source": [
        "embedding generation and storing in vector store"
      ],
      "metadata": {
        "id": "bCheA05LxWRh"
      }
    },
    {
      "cell_type": "code",
      "source": [],
      "metadata": {
        "id": "YsWgjgMGKJzL"
      },
      "execution_count": null,
      "outputs": []
    },
    {
      "cell_type": "code",
      "source": [
        "model_name = \"sentence-transformers/all-MiniLM-L6-v2\"\n",
        "model_kwargs = {\"device\": \"cpu\"}\n",
        "embeddings = HuggingFaceEmbeddings(\n",
        "    model_name=model_name, model_kwargs=model_kwargs\n",
        ")"
      ],
      "metadata": {
        "colab": {
          "base_uri": "https://localhost:8080/",
          "height": 533,
          "referenced_widgets": [
            "55d1481f4b004693b213e1a7a21c629e",
            "005541c014584a5da8ccfeff87ae6cb0",
            "6dfe920eb40546d7ba9cac87beb4b869",
            "c4bcb2f8e4de45229b8ef60d8caf572a",
            "816df24870d14666863044ec6293c394",
            "53c6511c4d874ffeb53542211485a411",
            "677f3bd90a064687b7b83151d90e4cbd",
            "4ceefa8b2048470fb807c25bdee1f5ed",
            "731de9eb057142f0b8ed8c7d71994c57",
            "b988c699df454452bc0de06ad2e3c41c",
            "087fdb1dd20f44529389f0b9a0e1268b",
            "2baacdc761be43dabe0c65668a47364f",
            "82c7e01a6326409fafab21b04ff67808",
            "d570ff502c704760ad115bb1eac29878",
            "0623a6c4234a43fb8f7b59ec24a30c76",
            "0d4f55d23d52473a8367b6d91cb53848",
            "1e6e71a9c40f45f2b47e151bed8fc8de",
            "94376e201e894b6cb739dc5463139a8e",
            "42565aca566f4fd28400726eb1cae8e5",
            "415e6d6b196742bb9c53039d9244b083",
            "787c0c2cbcfc464abe88128e3b6788b5",
            "7a14855bedd740399873043962bb34a8",
            "9a129c2bb0044513844f42322a467dc2",
            "428061f2c2c4477193c7a313dc1e56b8",
            "4af99b573ed442488c91462a9ba3c122",
            "912550fb259142619d0577127a80a099",
            "b6d17dc92ca14838a0ee3d7376e61e3e",
            "7066a398fe41478083bc9f58018eb18e",
            "f6082ed207a846049cb53bb034a61143",
            "8431013cbd0e4d54815c425473e013f1",
            "77ddea4dacde4bc4917417fda2432a4d",
            "0289c337ccd54e5388d0759b8c6ed913",
            "16694ef572604f71aaa6f20c81f04efb",
            "2b4ac31dba0f461fbc1043979a4f2ac4",
            "a519970461614d56b13b0ea5624ec682",
            "9603b140f05c45bd922d7dbdcd8d0965",
            "37536ffc4bb04d948d9e35d2342d7eb6",
            "88b62e6d06f44b30817a7f04f5cb3f34",
            "e85eb03305794989ad23ffb6b4c74639",
            "4900c364227440af912c0a3c219b52e1",
            "7245cc7403e74e66806c3d799e10a8f6",
            "01e77677cd634c24b295922ab182e884",
            "74d6b9aeef4b4cf6b5558f2fcff871ef",
            "b55fd7fbac9d474aa19cdf9a550f3ed2",
            "0ac13d493d8a42cfac0e8a13ef9265e5",
            "b20ae1a9153549e4a7aa2a1319163269",
            "63e57684edf8468f8c3c44cff72668de",
            "d07fd692ed1e4493b6b43031f001eea0",
            "5cff5134a39d424e83f9dd49aa196591",
            "1277b942e43c46b49827e3e51a10c8e0",
            "b6eb0c0f1d6e4904aaf6204ff28eaa95",
            "f2198f450f524aa0be53c076ea64109d",
            "f10a78dce312422ba63b38082a5dcd5b",
            "59aa78d6afd148d6845ee3c8565e10ae",
            "65302e0fa48e470cafc9993a77ed7d64",
            "ee427f3c87664402ad18e27f9f89ee74",
            "dc895e5d1c644727b270f212f3c3352e",
            "09a97bd5f3124819aef3249be4061171",
            "008c9a3caac148ee81fb6708b27a1fc7",
            "cf5169ff20ec48979b6a1ed686b50ddb",
            "8d932b838579496ca5121dae89520d91",
            "da8fbe5a85d7438d9c4a3e00cd04043f",
            "358b71ef9e654acbbfb6d295daba182a",
            "432f17127f8645768cb974c5cd2d45fe",
            "a4cc4f541e0a47bdb4f9df7909bc0d4e",
            "a086ab54758349239b8658c1c8ec25f1",
            "6d131efa5ff04f94b6b0a793e1addba4",
            "111249a7738e418f9cbfe5585a4de888",
            "0c3fe4001b5b4a5898905bca27311658",
            "a5745f6aee1c4fb9a996b72318deba90",
            "cbabb2015043483fb6c6491b1b409ca3",
            "7aee86f4ab4b447aa2ad011fdcf28f5a",
            "45a4d3235f4641c899b354982c53c05e",
            "c1f609eab2314b8d9ef2c0d12d0f2b97",
            "0393c44179964b5ebe335c55896fcee4",
            "ad577524a653478e91d220c29f44bb02",
            "3e2d3f1331e54c24a88856684ca05ffd",
            "242f442b9f44454d8daeff9f51264db5",
            "61c15cc933ff48dc8719a74537045d30",
            "d884feffed234346b7e86b058ab797f0",
            "f7de6ee80745456298944791c5e267c6",
            "7c71d5a8fd11423daecf11870dc9b528",
            "db9e96548c3944ca92457be7ecce05bf",
            "852cacc1d21e43ff8a4e79e94a0b9048",
            "478021530eae43f6a159e0b3a29019eb",
            "e11329278e944bd39f1881c3dc37c114",
            "3caa2d1d08ec45fb8351c3e814162ef8",
            "f65886be071a477e98e302343e5e10f0",
            "d716822cfeb2406bad23002e8587d144",
            "1e3e4bd5098c40459fbcd6c22d8ddc81",
            "71c3eb654c4446c8871df88fe211d239",
            "f8c2e4f177d14960b945a0c4b48a1b1f",
            "2f9eea33b51e404397c3dbadbbc84252",
            "cc740f3a5eae44b598c625c87c9f85fe",
            "aab764e51e024a6c9682cb73f6adf211",
            "0b16558748ca4a789324952209e40b10",
            "c062cdcab01341eda62be024bdf880d3",
            "01161a2faf0e498a83731aa21c101318",
            "873eda169acc4715b369516ba11cbd7b",
            "d04f1995fb5f42698dc2c09bc58e9546",
            "b70bf04830d441dc97877d7d7bf38e98",
            "01a4660ccf4e473bb2f5577fb851833b",
            "42d319d623ee408dbfee6b27329979a4",
            "5ec16d4c5fe64a8cb5ba8aa32ec8bfeb",
            "8e72c39a222043ce829652ef0a77f4b2",
            "30b113dfd9084bb08f2e9d3e78b88681",
            "9974030c21934b669862ae66b8dea3bb",
            "900f2c403c8042428b447019b91d9a91",
            "329cd37bf3ca41f3b73f7480735fbbf2",
            "be2285fa2fc9422db98282761800b9b6",
            "f83e3f5964c34e038e2e782bbb062849",
            "1ed5233d9a634c528f07daacebdb0a4e",
            "bb29adc0db284ed39cb43f0643f70db4",
            "f4b3c2b072574ba2864dbad30b554a74",
            "d4eb11421e174bda83beb66dba5d2733",
            "335d129600384f6da6ccecb98044e50b",
            "c54f0cde1c1447d88e02f216167f318d",
            "d007e978a1a74b3c89207ed78be93f64",
            "27d0fa070a03427793ca4633f682a137",
            "5ca843e957e247faa04d55a03b691416",
            "4cf50acaa8b64f93b96a75d75a07f620"
          ]
        },
        "id": "vHK-nVG7xN9I",
        "outputId": "6a220b13-9d4c-4629-f58b-b18d5f93a84c"
      },
      "execution_count": 19,
      "outputs": [
        {
          "output_type": "stream",
          "name": "stderr",
          "text": [
            "/tmp/ipython-input-3044703104.py:3: LangChainDeprecationWarning: The class `HuggingFaceEmbeddings` was deprecated in LangChain 0.2.2 and will be removed in 1.0. An updated version of the class exists in the :class:`~langchain-huggingface package and should be used instead. To use it run `pip install -U :class:`~langchain-huggingface` and import as `from :class:`~langchain_huggingface import HuggingFaceEmbeddings``.\n",
            "  embeddings = HuggingFaceEmbeddings(\n",
            "/usr/local/lib/python3.12/dist-packages/huggingface_hub/utils/_auth.py:94: UserWarning: \n",
            "The secret `HF_TOKEN` does not exist in your Colab secrets.\n",
            "To authenticate with the Hugging Face Hub, create a token in your settings tab (https://huggingface.co/settings/tokens), set it as secret in your Google Colab and restart your session.\n",
            "You will be able to reuse this secret in all of your notebooks.\n",
            "Please note that authentication is recommended but still optional to access public models or datasets.\n",
            "  warnings.warn(\n"
          ]
        },
        {
          "output_type": "display_data",
          "data": {
            "text/plain": [
              "modules.json:   0%|          | 0.00/349 [00:00<?, ?B/s]"
            ],
            "application/vnd.jupyter.widget-view+json": {
              "version_major": 2,
              "version_minor": 0,
              "model_id": "55d1481f4b004693b213e1a7a21c629e"
            }
          },
          "metadata": {}
        },
        {
          "output_type": "display_data",
          "data": {
            "text/plain": [
              "config_sentence_transformers.json:   0%|          | 0.00/116 [00:00<?, ?B/s]"
            ],
            "application/vnd.jupyter.widget-view+json": {
              "version_major": 2,
              "version_minor": 0,
              "model_id": "2baacdc761be43dabe0c65668a47364f"
            }
          },
          "metadata": {}
        },
        {
          "output_type": "display_data",
          "data": {
            "text/plain": [
              "README.md: 0.00B [00:00, ?B/s]"
            ],
            "application/vnd.jupyter.widget-view+json": {
              "version_major": 2,
              "version_minor": 0,
              "model_id": "9a129c2bb0044513844f42322a467dc2"
            }
          },
          "metadata": {}
        },
        {
          "output_type": "display_data",
          "data": {
            "text/plain": [
              "sentence_bert_config.json:   0%|          | 0.00/53.0 [00:00<?, ?B/s]"
            ],
            "application/vnd.jupyter.widget-view+json": {
              "version_major": 2,
              "version_minor": 0,
              "model_id": "2b4ac31dba0f461fbc1043979a4f2ac4"
            }
          },
          "metadata": {}
        },
        {
          "output_type": "display_data",
          "data": {
            "text/plain": [
              "config.json:   0%|          | 0.00/612 [00:00<?, ?B/s]"
            ],
            "application/vnd.jupyter.widget-view+json": {
              "version_major": 2,
              "version_minor": 0,
              "model_id": "0ac13d493d8a42cfac0e8a13ef9265e5"
            }
          },
          "metadata": {}
        },
        {
          "output_type": "display_data",
          "data": {
            "text/plain": [
              "model.safetensors:   0%|          | 0.00/90.9M [00:00<?, ?B/s]"
            ],
            "application/vnd.jupyter.widget-view+json": {
              "version_major": 2,
              "version_minor": 0,
              "model_id": "ee427f3c87664402ad18e27f9f89ee74"
            }
          },
          "metadata": {}
        },
        {
          "output_type": "display_data",
          "data": {
            "text/plain": [
              "tokenizer_config.json:   0%|          | 0.00/350 [00:00<?, ?B/s]"
            ],
            "application/vnd.jupyter.widget-view+json": {
              "version_major": 2,
              "version_minor": 0,
              "model_id": "6d131efa5ff04f94b6b0a793e1addba4"
            }
          },
          "metadata": {}
        },
        {
          "output_type": "display_data",
          "data": {
            "text/plain": [
              "vocab.txt: 0.00B [00:00, ?B/s]"
            ],
            "application/vnd.jupyter.widget-view+json": {
              "version_major": 2,
              "version_minor": 0,
              "model_id": "242f442b9f44454d8daeff9f51264db5"
            }
          },
          "metadata": {}
        },
        {
          "output_type": "display_data",
          "data": {
            "text/plain": [
              "tokenizer.json: 0.00B [00:00, ?B/s]"
            ],
            "application/vnd.jupyter.widget-view+json": {
              "version_major": 2,
              "version_minor": 0,
              "model_id": "d716822cfeb2406bad23002e8587d144"
            }
          },
          "metadata": {}
        },
        {
          "output_type": "display_data",
          "data": {
            "text/plain": [
              "special_tokens_map.json:   0%|          | 0.00/112 [00:00<?, ?B/s]"
            ],
            "application/vnd.jupyter.widget-view+json": {
              "version_major": 2,
              "version_minor": 0,
              "model_id": "d04f1995fb5f42698dc2c09bc58e9546"
            }
          },
          "metadata": {}
        },
        {
          "output_type": "display_data",
          "data": {
            "text/plain": [
              "config.json:   0%|          | 0.00/190 [00:00<?, ?B/s]"
            ],
            "application/vnd.jupyter.widget-view+json": {
              "version_major": 2,
              "version_minor": 0,
              "model_id": "f83e3f5964c34e038e2e782bbb062849"
            }
          },
          "metadata": {}
        }
      ]
    },
    {
      "cell_type": "code",
      "source": [
        "vector_store = FAISS.from_documents(chunks, embeddings)"
      ],
      "metadata": {
        "id": "JHErasXuxuGg"
      },
      "execution_count": 24,
      "outputs": []
    },
    {
      "cell_type": "code",
      "source": [
        "vector_store.index_to_docstore_id"
      ],
      "metadata": {
        "colab": {
          "base_uri": "https://localhost:8080/"
        },
        "id": "HGm82vkDx_oj",
        "outputId": "8b12f51c-8d40-4962-898b-74fe140c21ff"
      },
      "execution_count": 23,
      "outputs": [
        {
          "output_type": "execute_result",
          "data": {
            "text/plain": [
              "{0: '1fc276dc-9ff6-4fbc-93b9-66dfa8080236',\n",
              " 1: '9ad937c7-920f-4f5a-95fb-d9c60ba2f3a9',\n",
              " 2: '55024ad4-db64-44ef-9a40-d7579e1aeb3a',\n",
              " 3: 'd5058ffb-a6ab-43f3-ae52-0238429534e6',\n",
              " 4: 'd25ead09-ab6a-4564-9bfa-04acdfe1ff62',\n",
              " 5: '2e29b61e-dea1-4d16-a112-e2bd6e1ff8f9',\n",
              " 6: 'b2211b98-a1e8-4b59-8b9c-38afa0fd55a4',\n",
              " 7: '1c3c9368-8cb5-4df4-ba2a-6c138563c566',\n",
              " 8: 'cb6aa7ef-b2e0-41ec-a289-1c68f49ee6f5',\n",
              " 9: '39f1e7a5-ba28-46fc-b9f3-b64aa90a88a9',\n",
              " 10: '409d9c36-fab8-4766-b514-7b539eb9fea6',\n",
              " 11: '981545be-5860-4cdd-b325-b07d36624339',\n",
              " 12: 'f011540e-65c0-4f26-9fa5-77fd9a78ef97',\n",
              " 13: 'fc0a70e6-3de2-4da3-97ad-243033a24400',\n",
              " 14: '64d11657-2e7f-46d5-8129-5d03154a8b8c',\n",
              " 15: 'db1c2e90-81c1-4e1f-81d9-6045c5eb66b5',\n",
              " 16: '429c4f10-d7dc-47fa-9d90-25f76e06647b',\n",
              " 17: '65c304fe-9bd5-4b84-9c2a-05cff72577ef',\n",
              " 18: '79c9ef55-0b00-4347-a539-6953e82dd397',\n",
              " 19: '64a18931-783d-4928-88ec-8e00d1128e0d',\n",
              " 20: '61f9e69f-33a3-4b5f-966a-bb62bf3c70cf',\n",
              " 21: '8d46a629-233d-4f06-8b0a-f8cab45d5e37',\n",
              " 22: '47499e55-01b6-4ceb-95ad-8ec37c34d263',\n",
              " 23: '9b8066e9-5d9f-4dc1-84c9-7ab5a5743c16',\n",
              " 24: 'f29b618f-e6ad-45de-b986-5907730e9745',\n",
              " 25: '2f9d6ce1-9ac1-46ee-a4b6-22e5e31373a5',\n",
              " 26: '4c0def56-4792-4aa4-9c08-5b044c7603af'}"
            ]
          },
          "metadata": {},
          "execution_count": 23
        }
      ]
    },
    {
      "cell_type": "code",
      "source": [
        "vector_store.get_by_ids(['4c0def56-4792-4aa4-9c08-5b044c7603af'])"
      ],
      "metadata": {
        "colab": {
          "base_uri": "https://localhost:8080/"
        },
        "id": "EqxnuhTkyDSB",
        "outputId": "5d376ebd-0856-4131-f462-3eab866c6dc8"
      },
      "execution_count": 28,
      "outputs": [
        {
          "output_type": "execute_result",
          "data": {
            "text/plain": [
              "[]"
            ]
          },
          "metadata": {},
          "execution_count": 28
        }
      ]
    },
    {
      "cell_type": "code",
      "source": [],
      "metadata": {
        "id": "YfS9O5NUydx4"
      },
      "execution_count": null,
      "outputs": []
    },
    {
      "cell_type": "markdown",
      "source": [
        "2. creating retriever\n"
      ],
      "metadata": {
        "id": "9FvSdagkylFa"
      }
    },
    {
      "cell_type": "code",
      "source": [
        "retriever = vector_store.as_retriever(search_type = \"similarity\", search_kwargs = {\"k\": 4})"
      ],
      "metadata": {
        "id": "WJ-s8xknykc5"
      },
      "execution_count": 29,
      "outputs": []
    },
    {
      "cell_type": "code",
      "source": [
        "retriever"
      ],
      "metadata": {
        "colab": {
          "base_uri": "https://localhost:8080/"
        },
        "id": "PCWclqZiyz2A",
        "outputId": "1a5397b6-bb8a-4599-e9db-6f6135a6c018"
      },
      "execution_count": 30,
      "outputs": [
        {
          "output_type": "execute_result",
          "data": {
            "text/plain": [
              "VectorStoreRetriever(tags=['FAISS', 'HuggingFaceEmbeddings'], vectorstore=<langchain_community.vectorstores.faiss.FAISS object at 0x7b421c26ee10>, search_kwargs={'k': 4})"
            ]
          },
          "metadata": {},
          "execution_count": 30
        }
      ]
    },
    {
      "cell_type": "code",
      "source": [
        "retriever.invoke(\"what is agent\")"
      ],
      "metadata": {
        "colab": {
          "base_uri": "https://localhost:8080/"
        },
        "id": "UdoBV4lry1I4",
        "outputId": "d494b833-cbe9-4d91-9ef4-8334ddee07e4"
      },
      "execution_count": 31,
      "outputs": [
        {
          "output_type": "execute_result",
          "data": {
            "text/plain": [
              "[Document(id='a89f5bb8-3793-4ab8-948b-718943b8bfd7', metadata={}, page_content=\"another issue here for the fact check agent. So, I'm going to paste this back in here. All right. So, I just actually asked Claude about this and it's basically saying that there is a circular tool dependency which makes sense. So, I just pasted that into NAI here and then it's basically saying you're absolutely right about the circular dependency here and now it actually went ahead and executed on that should make things a lot simpler which looks like it did a good job on. So, we can go ahead and test this now. So, I encountered another issue here where the fact check agent wasn't running. So, I actually just asked Claude about it as well. It gave me an answer and I simply just paste that into NAI here to execute on. And let's see what it actually does. Okay, so now we got a code node right here after the research agent which formats the data for the fact check agent before it does the merge node. So, let's go ahead and test this and see if it works. All right. So, after going back\"),\n",
              " Document(id='6c3bd3d3-4679-407e-b675-efcbbb2c3e6c', metadata={}, page_content=\"this of course myself, but I want to see the agent update itself with the correct update. So now we see that it has updated itself. Let's go ahead and check this. Okay, the merge node did work this time and now we're using the fact checker agent and that went through too. So next we can go ahead and just use the compiler agent right here. So it's going to take all that information from the research agent and the fact check agent. Okay, looks like we're getting an error here for it to be reading the uh fact check agent. So now I'm going to say to nai here the fact check agent tool under the compiler agent and then I'm pasting in that error here. It should update it with the correct nodes here. Okay, so now it made the update and if we go ahead and rerun this. All right. So, I'm still getting another issue here for the fact check agent. So, I'm going to paste this back in here. All right. So, I just actually asked Claude about this and it's basically saying that there is a circular tool\"),\n",
              " Document(id='ad8c507a-d67f-4658-ba21-b6464b6d7306', metadata={}, page_content=\"you can use to get started. Now, this whole document as well as the NAN AI agent that we built in this example of the video will be available within my new free Stride AI Academy on schools. So, make sure that you join down below 100% for free to get access to the resources in today's video as well as all the resources in my old videos and future videos to come. You can also connect with other like-minded NAND AI agent builders as well as myself and my team. Now, I do want to cover a few things from this doc in this video. So, the release of the AI agent workflow builder marks a fundamental shift in automation. Before building workflows required technical knowledge, time, patience, just like coding before cursor. Now with this workflow builder, anyone can describe what they want and get a working starting point, a prototype in mere minutes. So what does this mean for you? The market for automation one is about to explode. Your expertise becomes more valuable, not less. New service\"),\n",
              " Document(id='a9a5ee4f-ec38-487e-a733-6457dfc3ab17', metadata={}, page_content=\"to be uh changed around. This is the of course the first iteration, but we can see it has the setup uh guide right here how to actually use it. And of course, like I showed you before, you can go back and forth and get this AI agent to iterate on itself and change the workflow. And once you get access to this feature and you start using it, like I said, this gives you a really good starting point. And then you can go back and forth with the build AI agent in N8N or the ask node right here. The cool thing about this one is if you ask it is actually going to leverage N8's dogs as well as N8N's community FAQs, all that information to help you troubleshoot this. Of course, you can also use GPT and Claude to assist you on different things. So all in all, you being able to troubleshoot the initial build that it gives you here and then improve upon it is really where I see that most of your time can be spent on since NAND's AI builder takes care of really the first few iterations. Now, like\")]"
            ]
          },
          "metadata": {},
          "execution_count": 31
        }
      ]
    },
    {
      "cell_type": "code",
      "source": [],
      "metadata": {
        "id": "pdvDN_mEy9xX"
      },
      "execution_count": null,
      "outputs": []
    },
    {
      "cell_type": "markdown",
      "source": [
        "3. Augumentation"
      ],
      "metadata": {
        "id": "k2CPAFa0zH8F"
      }
    },
    {
      "cell_type": "code",
      "source": [
        "# model = HuggingFaceEndpoint(\n",
        "#     repo_id=\"mistralai/Mistral-7B-Instruct-v0.3\",\n",
        "#     task=\"text-generation\"\n",
        "# )\n",
        "\n",
        "\n",
        "# llm = ChatHuggingFace(llm = model)\n",
        "llm = ChatGroq(\n",
        "    model=\"meta-llama/llama-4-maverick-17b-128e-instruct\",\n",
        "    temperature=0.2,\n",
        "    max_tokens=512\n",
        ")"
      ],
      "metadata": {
        "id": "1oLE1hThzJco"
      },
      "execution_count": 42,
      "outputs": []
    },
    {
      "cell_type": "code",
      "source": [
        "prompt = PromptTemplate(\n",
        "    template = \"\"\"\n",
        "      your are a helpful assitant. Answer only from the provided transcript Context. If the context is insufficient, just say you dont know.\n",
        "      {context}\n",
        "      Question : {question}\n",
        "    \"\"\",\n",
        "    input_variables=['context','question']\n",
        ")"
      ],
      "metadata": {
        "id": "SThlQu3r0ME4"
      },
      "execution_count": 39,
      "outputs": []
    },
    {
      "cell_type": "code",
      "source": [
        "question = \"is the topic neuclear reaction atom bomb discussed in video? if yes then what was discussed\"\n",
        "retrieved_docs = retriever.invoke(question)"
      ],
      "metadata": {
        "id": "ZAbEa82L0tfb"
      },
      "execution_count": 44,
      "outputs": []
    },
    {
      "cell_type": "code",
      "source": [
        "context_text = \"\\n\\n\".join(doc.page_content for doc in retrieved_docs)"
      ],
      "metadata": {
        "id": "_NWXSG4w0tiJ"
      },
      "execution_count": 46,
      "outputs": []
    },
    {
      "cell_type": "code",
      "source": [
        "final_prompt = prompt.invoke({'context': context_text, 'question': question})"
      ],
      "metadata": {
        "id": "iGpjjBXu0tla"
      },
      "execution_count": 47,
      "outputs": []
    },
    {
      "cell_type": "code",
      "source": [],
      "metadata": {
        "id": "ZTkLNiyt0toc"
      },
      "execution_count": 36,
      "outputs": []
    },
    {
      "cell_type": "markdown",
      "source": [
        "4 generation"
      ],
      "metadata": {
        "id": "rfpDfYhM1dx1"
      }
    },
    {
      "cell_type": "code",
      "source": [
        "answer = llm.invoke(final_prompt)\n",
        "print(answer.content)"
      ],
      "metadata": {
        "colab": {
          "base_uri": "https://localhost:8080/"
        },
        "id": "eTIpybW21ejf",
        "outputId": "99db50c9-540d-44dd-f4ec-d40e65a57953"
      },
      "execution_count": 48,
      "outputs": [
        {
          "output_type": "stream",
          "name": "stdout",
          "text": [
            "No, the topic \"nuclear reaction atom bomb\" is not discussed in the video. The transcript appears to be discussing a multi-agent AI workflow, N8N AI, and automations, but does not mention nuclear reactions or atom bombs.\n"
          ]
        }
      ]
    },
    {
      "cell_type": "code",
      "source": [],
      "metadata": {
        "id": "GPvf3K7CLhYV"
      },
      "execution_count": null,
      "outputs": []
    },
    {
      "cell_type": "markdown",
      "source": [
        "Chain & runnable"
      ],
      "metadata": {
        "id": "6wy8rWKbLh98"
      }
    },
    {
      "cell_type": "code",
      "source": [
        "\"\"\"\n",
        "         question -> question ->\n",
        "                                     prompt > llm > parser -> answer\n",
        "question > retriever > context >\n",
        "\"\"\"\n",
        "# ie first make parallel chain and then final sequential chain"
      ],
      "metadata": {
        "colab": {
          "base_uri": "https://localhost:8080/",
          "height": 54
        },
        "id": "u-ycqXvPLhbz",
        "outputId": "02bd198f-5512-4599-ae16-ae3b382f8e66"
      },
      "execution_count": 50,
      "outputs": [
        {
          "output_type": "execute_result",
          "data": {
            "text/plain": [
              "'\\n         question -> question ->\\n                                     prompt > llm > parser -> answer\\nquestion > retriever > context > \\n'"
            ],
            "application/vnd.google.colaboratory.intrinsic+json": {
              "type": "string"
            }
          },
          "metadata": {},
          "execution_count": 50
        }
      ]
    },
    {
      "cell_type": "code",
      "source": [
        "from langchain_core.runnables import RunnableParallel, RunnablePassthrough, RunnableLambda\n",
        "from langchain_core.output_parsers import StrOutputParser"
      ],
      "metadata": {
        "id": "5BpYoN4cLhgb"
      },
      "execution_count": 51,
      "outputs": []
    },
    {
      "cell_type": "code",
      "source": [
        "#function to return string from list of documents of transcript text\n",
        "def format_docs(retrieved_docs):\n",
        "  context_text = \"\\n \\n\".join(doc.page_content for doc in retrieved_docs)\n",
        "  return context_text"
      ],
      "metadata": {
        "id": "kH3AYypyLhjc"
      },
      "execution_count": 53,
      "outputs": []
    },
    {
      "cell_type": "code",
      "source": [
        "parallel_chain = RunnableParallel({\n",
        "    'context':retriever | RunnableLambda(format_docs),\n",
        "    'question':RunnablePassthrough()\n",
        "})\n"
      ],
      "metadata": {
        "id": "wEmZxssBM60b"
      },
      "execution_count": 54,
      "outputs": []
    },
    {
      "cell_type": "code",
      "source": [
        "parallel_chain.invoke(\"what is agent\")"
      ],
      "metadata": {
        "colab": {
          "base_uri": "https://localhost:8080/"
        },
        "collapsed": true,
        "id": "UD4Ppy6VM77V",
        "outputId": "a0ddf7a0-3a24-447b-bb96-009fe3d9676b"
      },
      "execution_count": 55,
      "outputs": [
        {
          "output_type": "execute_result",
          "data": {
            "text/plain": [
              "{'context': \"another issue here for the fact check agent. So, I'm going to paste this back in here. All right. So, I just actually asked Claude about this and it's basically saying that there is a circular tool dependency which makes sense. So, I just pasted that into NAI here and then it's basically saying you're absolutely right about the circular dependency here and now it actually went ahead and executed on that should make things a lot simpler which looks like it did a good job on. So, we can go ahead and test this now. So, I encountered another issue here where the fact check agent wasn't running. So, I actually just asked Claude about it as well. It gave me an answer and I simply just paste that into NAI here to execute on. And let's see what it actually does. Okay, so now we got a code node right here after the research agent which formats the data for the fact check agent before it does the merge node. So, let's go ahead and test this and see if it works. All right. So, after going back\\n \\nthis of course myself, but I want to see the agent update itself with the correct update. So now we see that it has updated itself. Let's go ahead and check this. Okay, the merge node did work this time and now we're using the fact checker agent and that went through too. So next we can go ahead and just use the compiler agent right here. So it's going to take all that information from the research agent and the fact check agent. Okay, looks like we're getting an error here for it to be reading the uh fact check agent. So now I'm going to say to nai here the fact check agent tool under the compiler agent and then I'm pasting in that error here. It should update it with the correct nodes here. Okay, so now it made the update and if we go ahead and rerun this. All right. So, I'm still getting another issue here for the fact check agent. So, I'm going to paste this back in here. All right. So, I just actually asked Claude about this and it's basically saying that there is a circular tool\\n \\nyou can use to get started. Now, this whole document as well as the NAN AI agent that we built in this example of the video will be available within my new free Stride AI Academy on schools. So, make sure that you join down below 100% for free to get access to the resources in today's video as well as all the resources in my old videos and future videos to come. You can also connect with other like-minded NAND AI agent builders as well as myself and my team. Now, I do want to cover a few things from this doc in this video. So, the release of the AI agent workflow builder marks a fundamental shift in automation. Before building workflows required technical knowledge, time, patience, just like coding before cursor. Now with this workflow builder, anyone can describe what they want and get a working starting point, a prototype in mere minutes. So what does this mean for you? The market for automation one is about to explode. Your expertise becomes more valuable, not less. New service\\n \\nto be uh changed around. This is the of course the first iteration, but we can see it has the setup uh guide right here how to actually use it. And of course, like I showed you before, you can go back and forth and get this AI agent to iterate on itself and change the workflow. And once you get access to this feature and you start using it, like I said, this gives you a really good starting point. And then you can go back and forth with the build AI agent in N8N or the ask node right here. The cool thing about this one is if you ask it is actually going to leverage N8's dogs as well as N8N's community FAQs, all that information to help you troubleshoot this. Of course, you can also use GPT and Claude to assist you on different things. So all in all, you being able to troubleshoot the initial build that it gives you here and then improve upon it is really where I see that most of your time can be spent on since NAND's AI builder takes care of really the first few iterations. Now, like\",\n",
              " 'question': 'what is agent'}"
            ]
          },
          "metadata": {},
          "execution_count": 55
        }
      ]
    },
    {
      "cell_type": "code",
      "source": [
        "parser = StrOutputParser()"
      ],
      "metadata": {
        "id": "71LBXTmNM7-V"
      },
      "execution_count": 56,
      "outputs": []
    },
    {
      "cell_type": "code",
      "source": [
        "main_chain = parallel_chain | prompt | llm | parser"
      ],
      "metadata": {
        "id": "ojbn8-EZNiea"
      },
      "execution_count": 57,
      "outputs": []
    },
    {
      "cell_type": "code",
      "source": [
        "main_chain.invoke(\"can you summarize the video\")"
      ],
      "metadata": {
        "colab": {
          "base_uri": "https://localhost:8080/",
          "height": 125
        },
        "id": "Z2yP4HZgNoZD",
        "outputId": "d5af1fcb-fe77-48ae-c59a-47106f38bcc1"
      },
      "execution_count": 58,
      "outputs": [
        {
          "output_type": "execute_result",
          "data": {
            "text/plain": [
              "'The video is about the release of an AI agent workflow builder in NAND, which allows users to create automation workflows without requiring technical knowledge. The speaker highlights that this tool can create a working prototype in minutes, and that the market for automation is about to explode, making expertise in NAND more valuable. The video demonstrates how to use the workflow builder, specifically a \"multi-agent research workflow\" that collaborates to research a topic and compile reports. The speaker also mentions an 8-page document outlining the NAND AI workflow builder and how to capitalize on the opportunity, which will be available in their free Stride AI Academy.'"
            ],
            "application/vnd.google.colaboratory.intrinsic+json": {
              "type": "string"
            }
          },
          "metadata": {},
          "execution_count": 58
        }
      ]
    },
    {
      "cell_type": "code",
      "source": [],
      "metadata": {
        "id": "rB8UIqShNrTE"
      },
      "execution_count": null,
      "outputs": []
    }
  ]
}